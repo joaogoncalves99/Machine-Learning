{
 "cells": [
  {
   "cell_type": "code",
   "execution_count": 2,
   "id": "f62a2b4b",
   "metadata": {},
   "outputs": [],
   "source": [
    "import pandas as pd\n",
    "import numpy as np\n",
    "import matplotlib.pyplot as plt\n",
    "from sklearn.pipeline import Pipeline, make_pipeline\n",
    "from sklearn.preprocessing import StandardScaler\n",
    "from sklearn.base import BaseEstimator, TransformerMixin\n",
    "from sklearn.compose import ColumnTransformer, make_column_transformer\n",
    "from sklearn.preprocessing import FunctionTransformer\n",
    "from sklearn.preprocessing import OneHotEncoder, MinMaxScaler\n",
    "from sklearn.pipeline import FeatureUnion\n",
    "from sklearn.impute import SimpleImputer\n",
    "from scipy.sparse import coo_matrix"
   ]
  },
  {
   "cell_type": "markdown",
   "id": "5fff35a2",
   "metadata": {
    "heading_collapsed": true
   },
   "source": [
    "# Bureau"
   ]
  },
  {
   "cell_type": "markdown",
   "id": "a42a6c18",
   "metadata": {
    "hidden": true
   },
   "source": [
    "All client's previous credits provided by other financial institutions that were reported to Credit Bureau (for clients who have a loan in our sample)."
   ]
  },
  {
   "cell_type": "code",
   "execution_count": null,
   "id": "94b0a461",
   "metadata": {
    "hidden": true
   },
   "outputs": [],
   "source": [
    "bureau = pd.read_csv('C:\\\\Users\\\\maria\\\\Desktop\\\\Uni\\\\S2\\\\Machine Learning\\\\Group Project\\\\data\\\\bureau.csv')\n",
    "#bureau = pd.read_csv('../all/bureau.csv')"
   ]
  },
  {
   "cell_type": "code",
   "execution_count": null,
   "id": "9c8ca222",
   "metadata": {
    "hidden": true
   },
   "outputs": [],
   "source": [
    "bureau.shape"
   ]
  },
  {
   "cell_type": "code",
   "execution_count": null,
   "id": "9e2c18fd",
   "metadata": {
    "hidden": true
   },
   "outputs": [],
   "source": [
    "bureau.head()"
   ]
  },
  {
   "cell_type": "code",
   "execution_count": null,
   "id": "f02b5a99",
   "metadata": {
    "hidden": true
   },
   "outputs": [],
   "source": [
    "#number of unique SK_ID_CURR\n",
    "len(bureau['SK_ID_CURR'].unique())"
   ]
  },
  {
   "cell_type": "code",
   "execution_count": null,
   "id": "faf9dac3",
   "metadata": {
    "hidden": true
   },
   "outputs": [],
   "source": [
    "bureau.groupby(['SK_ID_CURR'])['SK_ID_CURR'].count().sort_values(ascending=False)"
   ]
  },
  {
   "cell_type": "code",
   "execution_count": null,
   "id": "927b4396",
   "metadata": {
    "hidden": true
   },
   "outputs": [],
   "source": [
    "variables_type = pd.DataFrame(bureau.dtypes)\n",
    "\n",
    "cat_variables = list(variables_type[variables_type[0] == \"object\"].index)\n",
    "\n",
    "int_variables = list(variables_type[variables_type[0] == \"int64\"].index)\n",
    "\n",
    "float_variables = list(variables_type[variables_type[0] == \"float64\"].index)\n",
    "\n",
    "cat_binary_variables = []\n",
    "for i in bureau:\n",
    "    if ((list(bureau[i].unique()) == [0,1]) or (list(bureau[i].unique()) == [1,0])) and (i != \"TARGET\"):\n",
    "        cat_binary_variables.append(i)\n",
    "\n",
    "int_with_no_binary = [j for j in int_variables if j not in cat_binary_variables and j not in [\"SK_ID_CURR\", \"SK_ID_BUREAU\"]]\n",
    "\n",
    "num_variables = int_with_no_binary + float_variables\n",
    "\n",
    "print(\"Categorical variables (non-binary coded):\", cat_variables)\n",
    "print(\"Categorical variables (binary):\", cat_binary_variables)\n",
    "print(\"Numerical variables:\", num_variables)"
   ]
  },
  {
   "cell_type": "code",
   "execution_count": null,
   "id": "01761b3b",
   "metadata": {
    "hidden": true
   },
   "outputs": [],
   "source": [
    "for column in cat_variables:\n",
    "    print(column)\n",
    "    print(bureau[column].unique())\n",
    "    print('--------------------------')"
   ]
  },
  {
   "cell_type": "markdown",
   "id": "97e18ddd",
   "metadata": {
    "hidden": true
   },
   "source": [
    "**Duplicates**"
   ]
  },
  {
   "cell_type": "code",
   "execution_count": null,
   "id": "dc12479b",
   "metadata": {
    "hidden": true
   },
   "outputs": [],
   "source": [
    "#check duplicates\n",
    "duplicate_rows = bureau[bureau.duplicated()]\n",
    "print('Number of duplicate rows:', len(duplicate_rows))"
   ]
  },
  {
   "cell_type": "markdown",
   "id": "1b0f137a",
   "metadata": {
    "hidden": true
   },
   "source": [
    "**Missing Values**"
   ]
  },
  {
   "cell_type": "code",
   "execution_count": null,
   "id": "944ecfc3",
   "metadata": {
    "hidden": true
   },
   "outputs": [],
   "source": [
    "#List the variables with missing values higher or equal to 40% to exclude these variables later on\n",
    "#List the variables with missing values higher than 0% and lower than 40% to preprocess them later on\n",
    "miss_lower40 = []\n",
    "miss_higher40 = []\n",
    "\n",
    "for i in bureau:\n",
    "    pct_missing = (bureau[i].isna().sum()/len(bureau[i]))*100\n",
    "    if pct_missing > 0 and pct_missing < 40:\n",
    "        miss_lower40.append(i)\n",
    "    if pct_missing >= 40:\n",
    "        miss_higher40.append(i)"
   ]
  },
  {
   "cell_type": "code",
   "execution_count": null,
   "id": "d29c41cc",
   "metadata": {
    "hidden": true
   },
   "outputs": [],
   "source": [
    "#Exclude the variables with missing values higher or equal to 40%\n",
    "if (len(miss_lower40) != 0) | (len(miss_higher40) != 0):\n",
    "    cat_variables = [i for i in cat_variables if i not in miss_higher40]\n",
    "    num_variables = [i for i in num_variables if i not in miss_higher40]"
   ]
  },
  {
   "cell_type": "markdown",
   "id": "b73df942",
   "metadata": {
    "hidden": true
   },
   "source": [
    "**Statistics**"
   ]
  },
  {
   "cell_type": "code",
   "execution_count": null,
   "id": "776056b8",
   "metadata": {
    "hidden": true
   },
   "outputs": [],
   "source": [
    "bureau[num_variables].describe()"
   ]
  },
  {
   "cell_type": "code",
   "execution_count": null,
   "id": "348f1913",
   "metadata": {
    "hidden": true
   },
   "outputs": [],
   "source": [
    "bureau[num_variables].hist(bins=50, figsize=(20,15))\n",
    "plt.show()"
   ]
  },
  {
   "cell_type": "markdown",
   "id": "7d23aa5d",
   "metadata": {
    "hidden": true
   },
   "source": [
    "Findings:\n",
    "\n",
    "* \"DAYS(...)\" variables are counter-intuitively negative"
   ]
  },
  {
   "cell_type": "code",
   "execution_count": null,
   "id": "dea2f1d4",
   "metadata": {
    "hidden": true
   },
   "outputs": [],
   "source": [
    "#Put day variables in a list to be transformed together in the preprocessing pipeline, and exclude them from num_variables \n",
    "day_variables = [col for col in bureau.columns if 'DAYS' in col]\n",
    "num_variables = [i for i in num_variables if i not in day_variables]"
   ]
  },
  {
   "cell_type": "markdown",
   "id": "c9a17856",
   "metadata": {
    "hidden": true
   },
   "source": [
    "## Pipeline"
   ]
  },
  {
   "cell_type": "code",
   "execution_count": null,
   "id": "b4699c04",
   "metadata": {
    "hidden": true
   },
   "outputs": [],
   "source": [
    "class DataFrameSelector(BaseEstimator, TransformerMixin):\n",
    "    \n",
    "    def __init__(self, attribute_names):\n",
    "        self.attribute_names = attribute_names\n",
    "    \n",
    "    def fit(self, bureau, y=None):\n",
    "        return self\n",
    "    \n",
    "    def transform(self, bank):\n",
    "        return bureau[self.attribute_names].values\n",
    "    \n",
    "    def get_feature_names(self):\n",
    "        return self.attribute_names"
   ]
  },
  {
   "cell_type": "code",
   "execution_count": null,
   "id": "eb589bf5",
   "metadata": {
    "hidden": true
   },
   "outputs": [],
   "source": [
    "def negative_to_positive(columns):\n",
    "    for i in columns:\n",
    "        bureau[i] = abs(bureau[i])"
   ]
  },
  {
   "cell_type": "code",
   "execution_count": null,
   "id": "5cb7e363",
   "metadata": {
    "hidden": true
   },
   "outputs": [],
   "source": [
    "num_pipeline = Pipeline([\n",
    "        ('selector', DataFrameSelector(num_variables)),\n",
    "        ('imputer', SimpleImputer(strategy=\"median\")),\n",
    "        ])\n",
    "\n",
    "day_col_pipeline = Pipeline([\n",
    "        ('neg_to_pos', negative_to_positive(day_variables)),\n",
    "        ('selector', DataFrameSelector(day_variables)),\n",
    "        ('imputer', SimpleImputer(strategy=\"median\")),\n",
    "        ])\n",
    "\n",
    "cat_pipeline = Pipeline([\n",
    "        ('selector', DataFrameSelector(cat_variables)),\n",
    "        ('imputer', SimpleImputer(strategy=\"most_frequent\")),\n",
    "        ('cat_encoder', OneHotEncoder())\n",
    "        ])\n",
    "\n",
    "preprocess_pipeline = ColumnTransformer([\n",
    "        (\"num_pipeline\", num_pipeline, num_variables),\n",
    "        (\"days_pipeline\", day_col_pipeline, day_variables),\n",
    "        (\"cat_pipeline\", cat_pipeline, cat_variables)\n",
    "])"
   ]
  },
  {
   "cell_type": "code",
   "execution_count": null,
   "id": "4c69055d",
   "metadata": {
    "hidden": true
   },
   "outputs": [],
   "source": [
    "preprocess_pipeline.fit(bureau)\n",
    "\n",
    "preprocessed_bureau = preprocess_pipeline.transform(bureau)"
   ]
  },
  {
   "cell_type": "code",
   "execution_count": null,
   "id": "97748102",
   "metadata": {
    "hidden": true
   },
   "outputs": [],
   "source": [
    "num_feature_names = preprocess_pipeline.named_transformers_['num_pipeline'].named_steps['selector'].get_feature_names()\n",
    "day_feature_names = preprocess_pipeline.named_transformers_['days_pipeline'].named_steps['selector'].get_feature_names()\n",
    "cat_feature_names = list(preprocess_pipeline.named_transformers_['cat_pipeline'].named_steps['cat_encoder'].get_feature_names(cat_variables))\n",
    "feature_names = num_feature_names + day_feature_names + cat_feature_names + cat_binary_variables"
   ]
  },
  {
   "cell_type": "code",
   "execution_count": null,
   "id": "e37eeef3",
   "metadata": {
    "hidden": true,
    "scrolled": true
   },
   "outputs": [],
   "source": [
    "transformed_bureau_df = pd.DataFrame(preprocessed_bureau, columns=feature_names)\n",
    "transformed_bureau_df = pd.concat([bureau[[\"SK_ID_CURR\", \"SK_ID_BUREAU\"]],transformed_bureau_df], axis=1)\n",
    "transformed_bureau_df"
   ]
  },
  {
   "cell_type": "markdown",
   "id": "46054fdb",
   "metadata": {
    "hidden": true
   },
   "source": [
    "## GroupBy"
   ]
  },
  {
   "cell_type": "code",
   "execution_count": null,
   "id": "ceff6f9b",
   "metadata": {
    "hidden": true
   },
   "outputs": [],
   "source": [
    "grouped = transformed_bureau_df.groupby('SK_ID_CURR').agg(\n",
    "    {'SK_ID_BUREAU': 'first',\n",
    "    'CREDIT_DAY_OVERDUE': 'mean',\n",
    "    'CNT_CREDIT_PROLONG': 'mean',\n",
    "    'AMT_CREDIT_SUM': 'sum',\n",
    "    'AMT_CREDIT_SUM_DEBT': 'sum',\n",
    "    #FAZ SENTIDO O SUM LIMIT TER VALORES NEGATIVOS E N PORMOS A 0 ESSES? A CENA DA MEDIANA NA IMPUTATION AQUI É MEIO ESTRANHO POSSO SER SO EU\n",
    "    'AMT_CREDIT_SUM_LIMIT': 'sum',\n",
    "    'AMT_CREDIT_SUM_OVERDUE': 'mean',\n",
    "    #NEGATIVOS??\n",
    "    'DAYS_CREDIT': 'sum',\n",
    "    #NEGATIVOS??\n",
    "    'DAYS_CREDIT_ENDDATE': 'sum',\n",
    "    #NEGATIVOS??\n",
    "    'DAYS_ENDDATE_FACT': 'sum',\n",
    "    #NEGATIVOS??\n",
    "    'DAYS_CREDIT_UPDATE': 'sum',\n",
    "    #SOMEI TODOS OS VALORES ONDE SE FAZIA O ENCODER\n",
    "    'CREDIT_ACTIVE_Active': 'sum',\n",
    "    'CREDIT_ACTIVE_Bad debt': 'sum',\n",
    "    'CREDIT_ACTIVE_Closed': 'sum',\n",
    "    'CREDIT_ACTIVE_Sold': 'sum',\n",
    "    'CREDIT_CURRENCY_currency 1': 'sum',\n",
    "    'CREDIT_CURRENCY_currency 2': 'sum',\n",
    "    'CREDIT_CURRENCY_currency 3': 'sum',\n",
    "    'CREDIT_CURRENCY_currency 4': 'sum',\n",
    "    'CREDIT_TYPE_Another type of loan': 'sum',\n",
    "    'CREDIT_TYPE_Car loan': 'sum',\n",
    "    'CREDIT_TYPE_Cash loan (non-earmarked)': 'sum',\n",
    "    'CREDIT_TYPE_Consumer credit': 'sum',\n",
    "    'CREDIT_TYPE_Credit card': 'sum',\n",
    "    'CREDIT_TYPE_Interbank credit': 'sum',\n",
    "    'CREDIT_TYPE_Loan for business development': 'sum',\n",
    "    'CREDIT_TYPE_Loan for purchase of shares (margin lending)': 'sum',\n",
    "    'CREDIT_TYPE_Loan for the purchase of equipment': 'sum',\n",
    "    'CREDIT_TYPE_Loan for working capital replenishment': 'sum',\n",
    "    'CREDIT_TYPE_Microloan': 'sum',\n",
    "    'CREDIT_TYPE_Mobile operator loan': 'sum',\n",
    "    'CREDIT_TYPE_Mortgage': 'sum',\n",
    "    'CREDIT_TYPE_Real estate loan': 'sum',\n",
    "    'CREDIT_TYPE_Unknown type of loan': 'sum'\n",
    "    })\n",
    "\n",
    "grouped"
   ]
  },
  {
   "cell_type": "markdown",
   "id": "11b94182",
   "metadata": {
    "heading_collapsed": true
   },
   "source": [
    "# Bureau Balance"
   ]
  },
  {
   "cell_type": "markdown",
   "id": "cfe67653",
   "metadata": {
    "hidden": true
   },
   "source": [
    "Monthly balances of previous credits in Credit Bureau."
   ]
  },
  {
   "cell_type": "code",
   "execution_count": 32,
   "id": "e4755c83",
   "metadata": {
    "hidden": true
   },
   "outputs": [],
   "source": [
    "bureau_balance = pd.read_csv('C:\\\\Users\\\\maria\\\\Desktop\\\\Uni\\\\S2\\\\Machine Learning\\\\Group Project\\\\data\\\\bureau_balance.csv')"
   ]
  },
  {
   "cell_type": "code",
   "execution_count": 4,
   "id": "609633ef",
   "metadata": {
    "hidden": true
   },
   "outputs": [
    {
     "data": {
      "text/plain": [
       "(27299925, 3)"
      ]
     },
     "execution_count": 4,
     "metadata": {},
     "output_type": "execute_result"
    }
   ],
   "source": [
    "bureau_balance.shape"
   ]
  },
  {
   "cell_type": "markdown",
   "id": "901ae358",
   "metadata": {
    "hidden": true
   },
   "source": [
    "number of rows = # loans in sample * # of relative previous credits * # of months where we have some history observable for the previous credits"
   ]
  },
  {
   "cell_type": "code",
   "execution_count": 5,
   "id": "8726d52e",
   "metadata": {
    "hidden": true
   },
   "outputs": [
    {
     "data": {
      "text/html": [
       "<div>\n",
       "<style scoped>\n",
       "    .dataframe tbody tr th:only-of-type {\n",
       "        vertical-align: middle;\n",
       "    }\n",
       "\n",
       "    .dataframe tbody tr th {\n",
       "        vertical-align: top;\n",
       "    }\n",
       "\n",
       "    .dataframe thead th {\n",
       "        text-align: right;\n",
       "    }\n",
       "</style>\n",
       "<table border=\"1\" class=\"dataframe\">\n",
       "  <thead>\n",
       "    <tr style=\"text-align: right;\">\n",
       "      <th></th>\n",
       "      <th>SK_ID_BUREAU</th>\n",
       "      <th>MONTHS_BALANCE</th>\n",
       "      <th>STATUS</th>\n",
       "    </tr>\n",
       "  </thead>\n",
       "  <tbody>\n",
       "    <tr>\n",
       "      <th>0</th>\n",
       "      <td>5715448</td>\n",
       "      <td>0</td>\n",
       "      <td>C</td>\n",
       "    </tr>\n",
       "    <tr>\n",
       "      <th>1</th>\n",
       "      <td>5715448</td>\n",
       "      <td>-1</td>\n",
       "      <td>C</td>\n",
       "    </tr>\n",
       "    <tr>\n",
       "      <th>2</th>\n",
       "      <td>5715448</td>\n",
       "      <td>-2</td>\n",
       "      <td>C</td>\n",
       "    </tr>\n",
       "    <tr>\n",
       "      <th>3</th>\n",
       "      <td>5715448</td>\n",
       "      <td>-3</td>\n",
       "      <td>C</td>\n",
       "    </tr>\n",
       "    <tr>\n",
       "      <th>4</th>\n",
       "      <td>5715448</td>\n",
       "      <td>-4</td>\n",
       "      <td>C</td>\n",
       "    </tr>\n",
       "  </tbody>\n",
       "</table>\n",
       "</div>"
      ],
      "text/plain": [
       "   SK_ID_BUREAU  MONTHS_BALANCE STATUS\n",
       "0       5715448               0      C\n",
       "1       5715448              -1      C\n",
       "2       5715448              -2      C\n",
       "3       5715448              -3      C\n",
       "4       5715448              -4      C"
      ]
     },
     "execution_count": 5,
     "metadata": {},
     "output_type": "execute_result"
    }
   ],
   "source": [
    "bureau_balance.head()"
   ]
  },
  {
   "cell_type": "code",
   "execution_count": 6,
   "id": "48265dd6",
   "metadata": {
    "hidden": true
   },
   "outputs": [
    {
     "name": "stdout",
     "output_type": "stream",
     "text": [
      "Categorical variables (non-binary coded): ['STATUS']\n",
      "Categorical variables (binary): []\n",
      "Numerical variables: ['MONTHS_BALANCE']\n"
     ]
    }
   ],
   "source": [
    "variables_type = pd.DataFrame(bureau_balance.dtypes)\n",
    "\n",
    "cat_variables = list(variables_type[variables_type[0] == \"object\"].index)\n",
    "\n",
    "int_variables = list(variables_type[variables_type[0] == \"int64\"].index)\n",
    "\n",
    "float_variables = list(variables_type[variables_type[0] == \"float64\"].index)\n",
    "\n",
    "cat_binary_variables = []\n",
    "for i in bureau_balance:\n",
    "    if ((list(bureau_balance[i].unique()) == [0,1]) or (list(bureau_balance[i].unique()) == [1,0])) and (i != \"TARGET\"):\n",
    "        cat_binary_variables.append(i)\n",
    "\n",
    "int_with_no_binary = [j for j in int_variables if j not in cat_binary_variables and j not in [\"SK_ID_BUREAU\"]]\n",
    "\n",
    "num_variables = int_with_no_binary + float_variables\n",
    "\n",
    "print(\"Categorical variables (non-binary coded):\", cat_variables)\n",
    "print(\"Categorical variables (binary):\", cat_binary_variables)\n",
    "print(\"Numerical variables:\", num_variables)"
   ]
  },
  {
   "cell_type": "code",
   "execution_count": 7,
   "id": "f9ef7236",
   "metadata": {
    "hidden": true
   },
   "outputs": [
    {
     "name": "stdout",
     "output_type": "stream",
     "text": [
      "STATUS\n",
      "['C' '0' 'X' '1' '2' '3' '5' '4']\n"
     ]
    }
   ],
   "source": [
    "for column in cat_variables:\n",
    "    print(column)\n",
    "    print(bureau_balance[column].unique())"
   ]
  },
  {
   "cell_type": "markdown",
   "id": "b9f031c6",
   "metadata": {
    "hidden": true
   },
   "source": [
    "* C - closed\n",
    "* X - status unknown\n",
    "* 0 - no DPD\n",
    "* 1 - maximal did during month between 1-30\n",
    "* 2 - DPD 31-60\n",
    "* 5 - DPD 120+ or sold or written off"
   ]
  },
  {
   "cell_type": "code",
   "execution_count": 8,
   "id": "107be9fa",
   "metadata": {
    "hidden": true
   },
   "outputs": [],
   "source": [
    "#replace x for NaN\n",
    "bureau_balance['STATUS'] = bureau_balance['STATUS'].replace('X', np.nan)"
   ]
  },
  {
   "cell_type": "markdown",
   "id": "7447fdfd",
   "metadata": {
    "hidden": true
   },
   "source": [
    "**Duplicates**"
   ]
  },
  {
   "cell_type": "code",
   "execution_count": 9,
   "id": "b63ce510",
   "metadata": {
    "hidden": true
   },
   "outputs": [
    {
     "name": "stdout",
     "output_type": "stream",
     "text": [
      "Number of duplicate rows: 0\n"
     ]
    }
   ],
   "source": [
    "#check duplicates\n",
    "duplicate_rows = bureau_balance[bureau_balance.duplicated()]\n",
    "print('Number of duplicate rows:', len(duplicate_rows))"
   ]
  },
  {
   "cell_type": "markdown",
   "id": "e0815014",
   "metadata": {
    "hidden": true
   },
   "source": [
    "**Missing Values**"
   ]
  },
  {
   "cell_type": "code",
   "execution_count": 10,
   "id": "ea1d5cd7",
   "metadata": {
    "hidden": true
   },
   "outputs": [],
   "source": [
    "#List the variables with missing values higher or equal to 40% to exclude these variables later on\n",
    "#List the variables with missing values higher than 0% and lower than 40% to preprocess them later on\n",
    "miss_lower40 = []\n",
    "miss_higher40 = []\n",
    "\n",
    "for i in bureau_balance:\n",
    "    pct_missing = (bureau_balance[i].isna().sum()/len(bureau_balance[i]))*100\n",
    "    if pct_missing > 0 and pct_missing < 40:\n",
    "        miss_lower40.append(i)\n",
    "    if pct_missing >= 40:\n",
    "        miss_higher40.append(i)"
   ]
  },
  {
   "cell_type": "code",
   "execution_count": 11,
   "id": "2b489dcc",
   "metadata": {
    "hidden": true
   },
   "outputs": [],
   "source": [
    "#Exclude the variables with missing values higher or equal to 40%\n",
    "if (len(miss_lower40) != 0) | (len(miss_higher40) != 0):\n",
    "    cat_variables = [i for i in cat_variables if i not in miss_higher40]\n",
    "    num_variables = [i for i in num_variables if i not in miss_higher40]"
   ]
  },
  {
   "cell_type": "markdown",
   "id": "a6428c6c",
   "metadata": {
    "hidden": true
   },
   "source": [
    "**Statistics**"
   ]
  },
  {
   "cell_type": "code",
   "execution_count": 12,
   "id": "e1672c28",
   "metadata": {
    "hidden": true
   },
   "outputs": [
    {
     "data": {
      "text/html": [
       "<div>\n",
       "<style scoped>\n",
       "    .dataframe tbody tr th:only-of-type {\n",
       "        vertical-align: middle;\n",
       "    }\n",
       "\n",
       "    .dataframe tbody tr th {\n",
       "        vertical-align: top;\n",
       "    }\n",
       "\n",
       "    .dataframe thead th {\n",
       "        text-align: right;\n",
       "    }\n",
       "</style>\n",
       "<table border=\"1\" class=\"dataframe\">\n",
       "  <thead>\n",
       "    <tr style=\"text-align: right;\">\n",
       "      <th></th>\n",
       "      <th>MONTHS_BALANCE</th>\n",
       "    </tr>\n",
       "  </thead>\n",
       "  <tbody>\n",
       "    <tr>\n",
       "      <th>count</th>\n",
       "      <td>2.729992e+07</td>\n",
       "    </tr>\n",
       "    <tr>\n",
       "      <th>mean</th>\n",
       "      <td>-3.074169e+01</td>\n",
       "    </tr>\n",
       "    <tr>\n",
       "      <th>std</th>\n",
       "      <td>2.386451e+01</td>\n",
       "    </tr>\n",
       "    <tr>\n",
       "      <th>min</th>\n",
       "      <td>-9.600000e+01</td>\n",
       "    </tr>\n",
       "    <tr>\n",
       "      <th>25%</th>\n",
       "      <td>-4.600000e+01</td>\n",
       "    </tr>\n",
       "    <tr>\n",
       "      <th>50%</th>\n",
       "      <td>-2.500000e+01</td>\n",
       "    </tr>\n",
       "    <tr>\n",
       "      <th>75%</th>\n",
       "      <td>-1.100000e+01</td>\n",
       "    </tr>\n",
       "    <tr>\n",
       "      <th>max</th>\n",
       "      <td>0.000000e+00</td>\n",
       "    </tr>\n",
       "  </tbody>\n",
       "</table>\n",
       "</div>"
      ],
      "text/plain": [
       "       MONTHS_BALANCE\n",
       "count    2.729992e+07\n",
       "mean    -3.074169e+01\n",
       "std      2.386451e+01\n",
       "min     -9.600000e+01\n",
       "25%     -4.600000e+01\n",
       "50%     -2.500000e+01\n",
       "75%     -1.100000e+01\n",
       "max      0.000000e+00"
      ]
     },
     "execution_count": 12,
     "metadata": {},
     "output_type": "execute_result"
    }
   ],
   "source": [
    "bureau_balance[num_variables].describe()"
   ]
  },
  {
   "cell_type": "code",
   "execution_count": 13,
   "id": "24a137e3",
   "metadata": {
    "hidden": true
   },
   "outputs": [
    {
     "data": {
      "image/png": "[encoded data removed]",
      "text/plain": [
       "<Figure size 1000x500 with 1 Axes>"
      ]
     },
     "metadata": {},
     "output_type": "display_data"
    }
   ],
   "source": [
    "bureau_balance[num_variables].hist(bins=50, figsize=(10,5))\n",
    "plt.show()"
   ]
  },
  {
   "cell_type": "markdown",
   "id": "4b80fbd6",
   "metadata": {
    "hidden": true
   },
   "source": [
    "Month of balance relative to application date (-1 means the freshest balance date)"
   ]
  },
  {
   "cell_type": "markdown",
   "id": "30769228",
   "metadata": {
    "hidden": true
   },
   "source": [
    "Findings:\n",
    "\n",
    "* MONTHS_BALANCE variable is counter-intuitively negative "
   ]
  },
  {
   "cell_type": "markdown",
   "id": "0b14eee8",
   "metadata": {
    "hidden": true
   },
   "source": [
    "## GroupBy"
   ]
  },
  {
   "cell_type": "code",
   "execution_count": 14,
   "id": "e6bb4a30",
   "metadata": {
    "hidden": true
   },
   "outputs": [],
   "source": [
    "bureau_balance = bureau_balance.drop('MONTHS_BALANCE', axis=1)"
   ]
  },
  {
   "cell_type": "code",
   "execution_count": 15,
   "id": "824487e1",
   "metadata": {
    "hidden": true
   },
   "outputs": [],
   "source": [
    "num_variables.remove('MONTHS_BALANCE')"
   ]
  },
  {
   "cell_type": "code",
   "execution_count": 16,
   "id": "fd92eec4",
   "metadata": {
    "hidden": true
   },
   "outputs": [],
   "source": [
    "grouped = bureau_balance.groupby('SK_ID_BUREAU')['STATUS'].agg(lambda x: x.mode()[1] if len(x.mode()) > 1 and not x.mode()[0].startswith('X') else x.mode()[0] if len(x.mode()) > 0 and not x.mode()[0].startswith('X') else np.nan)"
   ]
  },
  {
   "cell_type": "code",
   "execution_count": 17,
   "id": "407c28e0",
   "metadata": {
    "hidden": true
   },
   "outputs": [],
   "source": [
    "grouped = grouped.reset_index(name='STATUS')"
   ]
  },
  {
   "cell_type": "code",
   "execution_count": 18,
   "id": "f15eeb40",
   "metadata": {
    "hidden": true
   },
   "outputs": [],
   "source": [
    "grouped['STATUS'] = grouped['STATUS'].fillna(grouped['STATUS'].mode()[0])"
   ]
  },
  {
   "cell_type": "code",
   "execution_count": 34,
   "id": "3b5f8010",
   "metadata": {
    "hidden": true
   },
   "outputs": [],
   "source": [
    "bureau_balance = grouped"
   ]
  },
  {
   "cell_type": "code",
   "execution_count": 35,
   "id": "9569c47b",
   "metadata": {
    "hidden": true
   },
   "outputs": [
    {
     "data": {
      "text/html": [
       "<div>\n",
       "<style scoped>\n",
       "    .dataframe tbody tr th:only-of-type {\n",
       "        vertical-align: middle;\n",
       "    }\n",
       "\n",
       "    .dataframe tbody tr th {\n",
       "        vertical-align: top;\n",
       "    }\n",
       "\n",
       "    .dataframe thead th {\n",
       "        text-align: right;\n",
       "    }\n",
       "</style>\n",
       "<table border=\"1\" class=\"dataframe\">\n",
       "  <thead>\n",
       "    <tr style=\"text-align: right;\">\n",
       "      <th></th>\n",
       "      <th>SK_ID_BUREAU</th>\n",
       "      <th>STATUS</th>\n",
       "    </tr>\n",
       "  </thead>\n",
       "  <tbody>\n",
       "    <tr>\n",
       "      <th>0</th>\n",
       "      <td>5001709</td>\n",
       "      <td>C</td>\n",
       "    </tr>\n",
       "    <tr>\n",
       "      <th>1</th>\n",
       "      <td>5001710</td>\n",
       "      <td>C</td>\n",
       "    </tr>\n",
       "    <tr>\n",
       "      <th>2</th>\n",
       "      <td>5001711</td>\n",
       "      <td>0</td>\n",
       "    </tr>\n",
       "    <tr>\n",
       "      <th>3</th>\n",
       "      <td>5001712</td>\n",
       "      <td>0</td>\n",
       "    </tr>\n",
       "    <tr>\n",
       "      <th>4</th>\n",
       "      <td>5001713</td>\n",
       "      <td>C</td>\n",
       "    </tr>\n",
       "    <tr>\n",
       "      <th>...</th>\n",
       "      <td>...</td>\n",
       "      <td>...</td>\n",
       "    </tr>\n",
       "    <tr>\n",
       "      <th>817390</th>\n",
       "      <td>6842884</td>\n",
       "      <td>C</td>\n",
       "    </tr>\n",
       "    <tr>\n",
       "      <th>817391</th>\n",
       "      <td>6842885</td>\n",
       "      <td>5</td>\n",
       "    </tr>\n",
       "    <tr>\n",
       "      <th>817392</th>\n",
       "      <td>6842886</td>\n",
       "      <td>C</td>\n",
       "    </tr>\n",
       "    <tr>\n",
       "      <th>817393</th>\n",
       "      <td>6842887</td>\n",
       "      <td>C</td>\n",
       "    </tr>\n",
       "    <tr>\n",
       "      <th>817394</th>\n",
       "      <td>6842888</td>\n",
       "      <td>C</td>\n",
       "    </tr>\n",
       "  </tbody>\n",
       "</table>\n",
       "<p>817395 rows × 2 columns</p>\n",
       "</div>"
      ],
      "text/plain": [
       "        SK_ID_BUREAU STATUS\n",
       "0            5001709      C\n",
       "1            5001710      C\n",
       "2            5001711      0\n",
       "3            5001712      0\n",
       "4            5001713      C\n",
       "...              ...    ...\n",
       "817390       6842884      C\n",
       "817391       6842885      5\n",
       "817392       6842886      C\n",
       "817393       6842887      C\n",
       "817394       6842888      C\n",
       "\n",
       "[817395 rows x 2 columns]"
      ]
     },
     "execution_count": 35,
     "metadata": {},
     "output_type": "execute_result"
    }
   ],
   "source": [
    "bureau_balance"
   ]
  },
  {
   "cell_type": "markdown",
   "id": "1609771c",
   "metadata": {
    "hidden": true
   },
   "source": [
    "## Pipeline"
   ]
  },
  {
   "cell_type": "code",
   "execution_count": 22,
   "id": "011c822b",
   "metadata": {
    "hidden": true
   },
   "outputs": [],
   "source": [
    "class DataFrameSelector(BaseEstimator, TransformerMixin):\n",
    "    \n",
    "    def __init__(self, attribute_names):\n",
    "        self.attribute_names = attribute_names\n",
    "    \n",
    "    def fit(self, bureau_balance, y=None):\n",
    "        return self\n",
    "    \n",
    "    def transform(self, bank):\n",
    "        return bureau_balance[self.attribute_names].values\n",
    "    \n",
    "    def get_feature_names(self):\n",
    "        return self.attribute_names"
   ]
  },
  {
   "cell_type": "code",
   "execution_count": 23,
   "id": "98e0df4d",
   "metadata": {
    "hidden": true
   },
   "outputs": [],
   "source": [
    "cat_pipeline = Pipeline([\n",
    "        ('selector', DataFrameSelector(cat_variables)),\n",
    "        ('cat_encoder', OneHotEncoder())\n",
    "        ])\n",
    "\n",
    "preprocess_pipeline = ColumnTransformer([\n",
    "        (\"cat_pipeline\", cat_pipeline, cat_variables)\n",
    "])"
   ]
  },
  {
   "cell_type": "code",
   "execution_count": 24,
   "id": "be6da946",
   "metadata": {
    "hidden": true
   },
   "outputs": [],
   "source": [
    "preprocess_pipeline.fit(bureau_balance)\n",
    "\n",
    "preprocessed_bureau_balance = preprocess_pipeline.transform(bureau_balance)"
   ]
  },
  {
   "cell_type": "code",
   "execution_count": 25,
   "id": "49126e4e",
   "metadata": {
    "hidden": true
   },
   "outputs": [
    {
     "name": "stderr",
     "output_type": "stream",
     "text": [
      "C:\\Users\\maria\\Anaconda3\\lib\\site-packages\\sklearn\\utils\\deprecation.py:87: FutureWarning: Function get_feature_names is deprecated; get_feature_names is deprecated in 1.0 and will be removed in 1.2. Please use get_feature_names_out instead.\n",
      "  warnings.warn(msg, category=FutureWarning)\n"
     ]
    }
   ],
   "source": [
    "cat_feature_names = list(preprocess_pipeline.named_transformers_['cat_pipeline'].named_steps['cat_encoder'].get_feature_names(cat_variables))\n",
    "feature_names = cat_feature_names + cat_binary_variables"
   ]
  },
  {
   "cell_type": "code",
   "execution_count": 59,
   "id": "d74fbe35",
   "metadata": {
    "hidden": true
   },
   "outputs": [],
   "source": [
    "# Convert the sparse matrix to a coordinate format matrix\n",
    "coo = coo_matrix(preprocessed_bureau_balance)\n",
    "\n",
    "# Create a DataFrame from the coordinate format matrix\n",
    "transformed_bureau_balance_df = pd.DataFrame({'row': coo.row, 'col': coo.col, 'val': coo.data}).pivot(columns='col', values='val').fillna(0).rename(columns=dict(enumerate(feature_names)))"
   ]
  },
  {
   "cell_type": "code",
   "execution_count": 60,
   "id": "4e856f74",
   "metadata": {
    "hidden": true,
    "scrolled": false
   },
   "outputs": [
    {
     "data": {
      "text/html": [
       "<div>\n",
       "<style scoped>\n",
       "    .dataframe tbody tr th:only-of-type {\n",
       "        vertical-align: middle;\n",
       "    }\n",
       "\n",
       "    .dataframe tbody tr th {\n",
       "        vertical-align: top;\n",
       "    }\n",
       "\n",
       "    .dataframe thead th {\n",
       "        text-align: right;\n",
       "    }\n",
       "</style>\n",
       "<table border=\"1\" class=\"dataframe\">\n",
       "  <thead>\n",
       "    <tr style=\"text-align: right;\">\n",
       "      <th></th>\n",
       "      <th>SK_ID_BUREAU</th>\n",
       "      <th>STATUS_0</th>\n",
       "      <th>STATUS_1</th>\n",
       "      <th>STATUS_2</th>\n",
       "      <th>STATUS_3</th>\n",
       "      <th>STATUS_4</th>\n",
       "      <th>STATUS_5</th>\n",
       "      <th>STATUS_C</th>\n",
       "    </tr>\n",
       "  </thead>\n",
       "  <tbody>\n",
       "    <tr>\n",
       "      <th>0</th>\n",
       "      <td>5001709</td>\n",
       "      <td>0.0</td>\n",
       "      <td>0.0</td>\n",
       "      <td>0.0</td>\n",
       "      <td>0.0</td>\n",
       "      <td>0.0</td>\n",
       "      <td>0.0</td>\n",
       "      <td>1.0</td>\n",
       "    </tr>\n",
       "    <tr>\n",
       "      <th>1</th>\n",
       "      <td>5001710</td>\n",
       "      <td>0.0</td>\n",
       "      <td>0.0</td>\n",
       "      <td>0.0</td>\n",
       "      <td>0.0</td>\n",
       "      <td>0.0</td>\n",
       "      <td>0.0</td>\n",
       "      <td>1.0</td>\n",
       "    </tr>\n",
       "    <tr>\n",
       "      <th>2</th>\n",
       "      <td>5001711</td>\n",
       "      <td>1.0</td>\n",
       "      <td>0.0</td>\n",
       "      <td>0.0</td>\n",
       "      <td>0.0</td>\n",
       "      <td>0.0</td>\n",
       "      <td>0.0</td>\n",
       "      <td>0.0</td>\n",
       "    </tr>\n",
       "    <tr>\n",
       "      <th>3</th>\n",
       "      <td>5001712</td>\n",
       "      <td>1.0</td>\n",
       "      <td>0.0</td>\n",
       "      <td>0.0</td>\n",
       "      <td>0.0</td>\n",
       "      <td>0.0</td>\n",
       "      <td>0.0</td>\n",
       "      <td>0.0</td>\n",
       "    </tr>\n",
       "    <tr>\n",
       "      <th>4</th>\n",
       "      <td>5001713</td>\n",
       "      <td>0.0</td>\n",
       "      <td>0.0</td>\n",
       "      <td>0.0</td>\n",
       "      <td>0.0</td>\n",
       "      <td>0.0</td>\n",
       "      <td>0.0</td>\n",
       "      <td>1.0</td>\n",
       "    </tr>\n",
       "    <tr>\n",
       "      <th>...</th>\n",
       "      <td>...</td>\n",
       "      <td>...</td>\n",
       "      <td>...</td>\n",
       "      <td>...</td>\n",
       "      <td>...</td>\n",
       "      <td>...</td>\n",
       "      <td>...</td>\n",
       "      <td>...</td>\n",
       "    </tr>\n",
       "    <tr>\n",
       "      <th>817390</th>\n",
       "      <td>6842884</td>\n",
       "      <td>0.0</td>\n",
       "      <td>0.0</td>\n",
       "      <td>0.0</td>\n",
       "      <td>0.0</td>\n",
       "      <td>0.0</td>\n",
       "      <td>0.0</td>\n",
       "      <td>1.0</td>\n",
       "    </tr>\n",
       "    <tr>\n",
       "      <th>817391</th>\n",
       "      <td>6842885</td>\n",
       "      <td>0.0</td>\n",
       "      <td>0.0</td>\n",
       "      <td>0.0</td>\n",
       "      <td>0.0</td>\n",
       "      <td>0.0</td>\n",
       "      <td>1.0</td>\n",
       "      <td>0.0</td>\n",
       "    </tr>\n",
       "    <tr>\n",
       "      <th>817392</th>\n",
       "      <td>6842886</td>\n",
       "      <td>0.0</td>\n",
       "      <td>0.0</td>\n",
       "      <td>0.0</td>\n",
       "      <td>0.0</td>\n",
       "      <td>0.0</td>\n",
       "      <td>0.0</td>\n",
       "      <td>1.0</td>\n",
       "    </tr>\n",
       "    <tr>\n",
       "      <th>817393</th>\n",
       "      <td>6842887</td>\n",
       "      <td>0.0</td>\n",
       "      <td>0.0</td>\n",
       "      <td>0.0</td>\n",
       "      <td>0.0</td>\n",
       "      <td>0.0</td>\n",
       "      <td>0.0</td>\n",
       "      <td>1.0</td>\n",
       "    </tr>\n",
       "    <tr>\n",
       "      <th>817394</th>\n",
       "      <td>6842888</td>\n",
       "      <td>0.0</td>\n",
       "      <td>0.0</td>\n",
       "      <td>0.0</td>\n",
       "      <td>0.0</td>\n",
       "      <td>0.0</td>\n",
       "      <td>0.0</td>\n",
       "      <td>1.0</td>\n",
       "    </tr>\n",
       "  </tbody>\n",
       "</table>\n",
       "<p>817395 rows × 8 columns</p>\n",
       "</div>"
      ],
      "text/plain": [
       "        SK_ID_BUREAU  STATUS_0  STATUS_1  STATUS_2  STATUS_3  STATUS_4  \\\n",
       "0            5001709       0.0       0.0       0.0       0.0       0.0   \n",
       "1            5001710       0.0       0.0       0.0       0.0       0.0   \n",
       "2            5001711       1.0       0.0       0.0       0.0       0.0   \n",
       "3            5001712       1.0       0.0       0.0       0.0       0.0   \n",
       "4            5001713       0.0       0.0       0.0       0.0       0.0   \n",
       "...              ...       ...       ...       ...       ...       ...   \n",
       "817390       6842884       0.0       0.0       0.0       0.0       0.0   \n",
       "817391       6842885       0.0       0.0       0.0       0.0       0.0   \n",
       "817392       6842886       0.0       0.0       0.0       0.0       0.0   \n",
       "817393       6842887       0.0       0.0       0.0       0.0       0.0   \n",
       "817394       6842888       0.0       0.0       0.0       0.0       0.0   \n",
       "\n",
       "        STATUS_5  STATUS_C  \n",
       "0            0.0       1.0  \n",
       "1            0.0       1.0  \n",
       "2            0.0       0.0  \n",
       "3            0.0       0.0  \n",
       "4            0.0       1.0  \n",
       "...          ...       ...  \n",
       "817390       0.0       1.0  \n",
       "817391       1.0       0.0  \n",
       "817392       0.0       1.0  \n",
       "817393       0.0       1.0  \n",
       "817394       0.0       1.0  \n",
       "\n",
       "[817395 rows x 8 columns]"
      ]
     },
     "execution_count": 60,
     "metadata": {},
     "output_type": "execute_result"
    }
   ],
   "source": [
    "transformed_bureau_balance_df = pd.concat([bureau_balance[\"SK_ID_BUREAU\"],transformed_bureau_balance_df], axis=1)\n",
    "transformed_bureau_balance_df"
   ]
  },
  {
   "cell_type": "markdown",
   "id": "8e84e12d",
   "metadata": {},
   "source": [
    "# POSH_CASH_balance"
   ]
  },
  {
   "cell_type": "markdown",
   "id": "ad8db017",
   "metadata": {},
   "source": [
    "Monthly balance snapshots of previous POS (point of sales) and cash loans that the applicant had with Home Credit."
   ]
  },
  {
   "cell_type": "code",
   "execution_count": 62,
   "id": "2d0881bc",
   "metadata": {},
   "outputs": [],
   "source": [
    "posh = pd.read_csv('C:\\\\Users\\\\maria\\\\Desktop\\\\Uni\\\\S2\\\\Machine Learning\\\\Group Project\\\\data\\\\POS_CASH_balance.csv')"
   ]
  },
  {
   "cell_type": "code",
   "execution_count": 63,
   "id": "8ae12fb5",
   "metadata": {},
   "outputs": [
    {
     "data": {
      "text/plain": [
       "(10001358, 8)"
      ]
     },
     "execution_count": 63,
     "metadata": {},
     "output_type": "execute_result"
    }
   ],
   "source": [
    "posh.shape"
   ]
  },
  {
   "cell_type": "code",
   "execution_count": 64,
   "id": "a31f3a1c",
   "metadata": {},
   "outputs": [
    {
     "data": {
      "text/html": [
       "<div>\n",
       "<style scoped>\n",
       "    .dataframe tbody tr th:only-of-type {\n",
       "        vertical-align: middle;\n",
       "    }\n",
       "\n",
       "    .dataframe tbody tr th {\n",
       "        vertical-align: top;\n",
       "    }\n",
       "\n",
       "    .dataframe thead th {\n",
       "        text-align: right;\n",
       "    }\n",
       "</style>\n",
       "<table border=\"1\" class=\"dataframe\">\n",
       "  <thead>\n",
       "    <tr style=\"text-align: right;\">\n",
       "      <th></th>\n",
       "      <th>SK_ID_PREV</th>\n",
       "      <th>SK_ID_CURR</th>\n",
       "      <th>MONTHS_BALANCE</th>\n",
       "      <th>CNT_INSTALMENT</th>\n",
       "      <th>CNT_INSTALMENT_FUTURE</th>\n",
       "      <th>NAME_CONTRACT_STATUS</th>\n",
       "      <th>SK_DPD</th>\n",
       "      <th>SK_DPD_DEF</th>\n",
       "    </tr>\n",
       "  </thead>\n",
       "  <tbody>\n",
       "    <tr>\n",
       "      <th>0</th>\n",
       "      <td>1803195</td>\n",
       "      <td>182943</td>\n",
       "      <td>-31</td>\n",
       "      <td>48.0</td>\n",
       "      <td>45.0</td>\n",
       "      <td>Active</td>\n",
       "      <td>0</td>\n",
       "      <td>0</td>\n",
       "    </tr>\n",
       "    <tr>\n",
       "      <th>1</th>\n",
       "      <td>1715348</td>\n",
       "      <td>367990</td>\n",
       "      <td>-33</td>\n",
       "      <td>36.0</td>\n",
       "      <td>35.0</td>\n",
       "      <td>Active</td>\n",
       "      <td>0</td>\n",
       "      <td>0</td>\n",
       "    </tr>\n",
       "    <tr>\n",
       "      <th>2</th>\n",
       "      <td>1784872</td>\n",
       "      <td>397406</td>\n",
       "      <td>-32</td>\n",
       "      <td>12.0</td>\n",
       "      <td>9.0</td>\n",
       "      <td>Active</td>\n",
       "      <td>0</td>\n",
       "      <td>0</td>\n",
       "    </tr>\n",
       "    <tr>\n",
       "      <th>3</th>\n",
       "      <td>1903291</td>\n",
       "      <td>269225</td>\n",
       "      <td>-35</td>\n",
       "      <td>48.0</td>\n",
       "      <td>42.0</td>\n",
       "      <td>Active</td>\n",
       "      <td>0</td>\n",
       "      <td>0</td>\n",
       "    </tr>\n",
       "    <tr>\n",
       "      <th>4</th>\n",
       "      <td>2341044</td>\n",
       "      <td>334279</td>\n",
       "      <td>-35</td>\n",
       "      <td>36.0</td>\n",
       "      <td>35.0</td>\n",
       "      <td>Active</td>\n",
       "      <td>0</td>\n",
       "      <td>0</td>\n",
       "    </tr>\n",
       "  </tbody>\n",
       "</table>\n",
       "</div>"
      ],
      "text/plain": [
       "   SK_ID_PREV  SK_ID_CURR  MONTHS_BALANCE  CNT_INSTALMENT  \\\n",
       "0     1803195      182943             -31            48.0   \n",
       "1     1715348      367990             -33            36.0   \n",
       "2     1784872      397406             -32            12.0   \n",
       "3     1903291      269225             -35            48.0   \n",
       "4     2341044      334279             -35            36.0   \n",
       "\n",
       "   CNT_INSTALMENT_FUTURE NAME_CONTRACT_STATUS  SK_DPD  SK_DPD_DEF  \n",
       "0                   45.0               Active       0           0  \n",
       "1                   35.0               Active       0           0  \n",
       "2                    9.0               Active       0           0  \n",
       "3                   42.0               Active       0           0  \n",
       "4                   35.0               Active       0           0  "
      ]
     },
     "execution_count": 64,
     "metadata": {},
     "output_type": "execute_result"
    }
   ],
   "source": [
    "posh.head()"
   ]
  },
  {
   "cell_type": "code",
   "execution_count": 65,
   "id": "9ed1ec05",
   "metadata": {},
   "outputs": [
    {
     "name": "stdout",
     "output_type": "stream",
     "text": [
      "Categorical variables (non-binary coded): ['NAME_CONTRACT_STATUS']\n",
      "Categorical variables (binary): []\n",
      "Numerical variables: ['MONTHS_BALANCE', 'SK_DPD', 'SK_DPD_DEF', 'CNT_INSTALMENT', 'CNT_INSTALMENT_FUTURE']\n"
     ]
    }
   ],
   "source": [
    "variables_type = pd.DataFrame(posh.dtypes)\n",
    "\n",
    "cat_variables = list(variables_type[variables_type[0] == \"object\"].index)\n",
    "\n",
    "int_variables = list(variables_type[variables_type[0] == \"int64\"].index)\n",
    "\n",
    "float_variables = list(variables_type[variables_type[0] == \"float64\"].index)\n",
    "\n",
    "cat_binary_variables = []\n",
    "for i in posh:\n",
    "    if ((list(posh[i].unique()) == [0,1]) or (list(posh[i].unique()) == [1,0])) and (i != \"TARGET\"):\n",
    "        cat_binary_variables.append(i)\n",
    "\n",
    "int_with_no_binary = [j for j in int_variables if j not in cat_binary_variables and j not in [\"SK_ID_CURR\", \"SK_ID_PREV\"]]\n",
    "\n",
    "num_variables = int_with_no_binary + float_variables\n",
    "\n",
    "print(\"Categorical variables (non-binary coded):\", cat_variables)\n",
    "print(\"Categorical variables (binary):\", cat_binary_variables)\n",
    "print(\"Numerical variables:\", num_variables)"
   ]
  },
  {
   "cell_type": "code",
   "execution_count": 66,
   "id": "7b96d25f",
   "metadata": {},
   "outputs": [
    {
     "name": "stdout",
     "output_type": "stream",
     "text": [
      "NAME_CONTRACT_STATUS\n",
      "['Active' 'Completed' 'Signed' 'Approved' 'Returned to the store' 'Demand'\n",
      " 'Canceled' 'XNA' 'Amortized debt']\n"
     ]
    }
   ],
   "source": [
    "for column in cat_variables:\n",
    "    print(column)\n",
    "    print(posh[column].unique())"
   ]
  },
  {
   "cell_type": "markdown",
   "id": "6609a69a",
   "metadata": {},
   "source": [
    "Contract status during the month."
   ]
  },
  {
   "cell_type": "code",
   "execution_count": 67,
   "id": "7ad95f6e",
   "metadata": {},
   "outputs": [],
   "source": [
    "#replace XNA for NaN\n",
    "posh['NAME_CONTRACT_STATUS'] = posh['NAME_CONTRACT_STATUS'].replace('XNA', np.nan)"
   ]
  },
  {
   "cell_type": "markdown",
   "id": "8e177823",
   "metadata": {},
   "source": [
    "**Duplicates**"
   ]
  },
  {
   "cell_type": "code",
   "execution_count": 74,
   "id": "8650cc51",
   "metadata": {},
   "outputs": [
    {
     "name": "stdout",
     "output_type": "stream",
     "text": [
      "Number of duplicate rows: 0\n"
     ]
    }
   ],
   "source": [
    "#check duplicates\n",
    "duplicate_rows = posh[posh.duplicated()]\n",
    "print('Number of duplicate rows:', len(duplicate_rows))"
   ]
  },
  {
   "cell_type": "markdown",
   "id": "3a83318f",
   "metadata": {},
   "source": [
    "**Missing Values**"
   ]
  },
  {
   "cell_type": "code",
   "execution_count": 69,
   "id": "92f64733",
   "metadata": {},
   "outputs": [],
   "source": [
    "#List the variables with missing values higher or equal to 40% to exclude these variables later on\n",
    "#List the variables with missing values higher than 0% and lower than 40% to preprocess them later on\n",
    "miss_lower40 = []\n",
    "miss_higher40 = []\n",
    "\n",
    "for i in posh:\n",
    "    pct_missing = (posh[i].isna().sum()/len(posh[i]))*100\n",
    "    if pct_missing > 0 and pct_missing < 40:\n",
    "        miss_lower40.append(i)\n",
    "    if pct_missing >= 40:\n",
    "        miss_higher40.append(i)"
   ]
  },
  {
   "cell_type": "code",
   "execution_count": 70,
   "id": "483da6d8",
   "metadata": {},
   "outputs": [],
   "source": [
    "#Exclude the variables with missing values higher or equal to 40%\n",
    "if (len(miss_lower40) != 0) | (len(miss_higher40) != 0):\n",
    "    cat_variables = [i for i in cat_variables if i not in miss_higher40]\n",
    "    num_variables = [i for i in num_variables if i not in miss_higher40]"
   ]
  },
  {
   "cell_type": "markdown",
   "id": "7fe010ac",
   "metadata": {},
   "source": [
    "**Statistics**"
   ]
  },
  {
   "cell_type": "code",
   "execution_count": 75,
   "id": "b8e7ec0f",
   "metadata": {},
   "outputs": [
    {
     "data": {
      "text/html": [
       "<div>\n",
       "<style scoped>\n",
       "    .dataframe tbody tr th:only-of-type {\n",
       "        vertical-align: middle;\n",
       "    }\n",
       "\n",
       "    .dataframe tbody tr th {\n",
       "        vertical-align: top;\n",
       "    }\n",
       "\n",
       "    .dataframe thead th {\n",
       "        text-align: right;\n",
       "    }\n",
       "</style>\n",
       "<table border=\"1\" class=\"dataframe\">\n",
       "  <thead>\n",
       "    <tr style=\"text-align: right;\">\n",
       "      <th></th>\n",
       "      <th>MONTHS_BALANCE</th>\n",
       "      <th>SK_DPD</th>\n",
       "      <th>SK_DPD_DEF</th>\n",
       "      <th>CNT_INSTALMENT</th>\n",
       "      <th>CNT_INSTALMENT_FUTURE</th>\n",
       "    </tr>\n",
       "  </thead>\n",
       "  <tbody>\n",
       "    <tr>\n",
       "      <th>count</th>\n",
       "      <td>1.000136e+07</td>\n",
       "      <td>1.000136e+07</td>\n",
       "      <td>1.000136e+07</td>\n",
       "      <td>9.975287e+06</td>\n",
       "      <td>9.975271e+06</td>\n",
       "    </tr>\n",
       "    <tr>\n",
       "      <th>mean</th>\n",
       "      <td>-3.501259e+01</td>\n",
       "      <td>1.160693e+01</td>\n",
       "      <td>6.544684e-01</td>\n",
       "      <td>1.708965e+01</td>\n",
       "      <td>1.048384e+01</td>\n",
       "    </tr>\n",
       "    <tr>\n",
       "      <th>std</th>\n",
       "      <td>2.606657e+01</td>\n",
       "      <td>1.327140e+02</td>\n",
       "      <td>3.276249e+01</td>\n",
       "      <td>1.199506e+01</td>\n",
       "      <td>1.110906e+01</td>\n",
       "    </tr>\n",
       "    <tr>\n",
       "      <th>min</th>\n",
       "      <td>-9.600000e+01</td>\n",
       "      <td>0.000000e+00</td>\n",
       "      <td>0.000000e+00</td>\n",
       "      <td>1.000000e+00</td>\n",
       "      <td>0.000000e+00</td>\n",
       "    </tr>\n",
       "    <tr>\n",
       "      <th>25%</th>\n",
       "      <td>-5.400000e+01</td>\n",
       "      <td>0.000000e+00</td>\n",
       "      <td>0.000000e+00</td>\n",
       "      <td>1.000000e+01</td>\n",
       "      <td>3.000000e+00</td>\n",
       "    </tr>\n",
       "    <tr>\n",
       "      <th>50%</th>\n",
       "      <td>-2.800000e+01</td>\n",
       "      <td>0.000000e+00</td>\n",
       "      <td>0.000000e+00</td>\n",
       "      <td>1.200000e+01</td>\n",
       "      <td>7.000000e+00</td>\n",
       "    </tr>\n",
       "    <tr>\n",
       "      <th>75%</th>\n",
       "      <td>-1.300000e+01</td>\n",
       "      <td>0.000000e+00</td>\n",
       "      <td>0.000000e+00</td>\n",
       "      <td>2.400000e+01</td>\n",
       "      <td>1.400000e+01</td>\n",
       "    </tr>\n",
       "    <tr>\n",
       "      <th>max</th>\n",
       "      <td>-1.000000e+00</td>\n",
       "      <td>4.231000e+03</td>\n",
       "      <td>3.595000e+03</td>\n",
       "      <td>9.200000e+01</td>\n",
       "      <td>8.500000e+01</td>\n",
       "    </tr>\n",
       "  </tbody>\n",
       "</table>\n",
       "</div>"
      ],
      "text/plain": [
       "       MONTHS_BALANCE        SK_DPD    SK_DPD_DEF  CNT_INSTALMENT  \\\n",
       "count    1.000136e+07  1.000136e+07  1.000136e+07    9.975287e+06   \n",
       "mean    -3.501259e+01  1.160693e+01  6.544684e-01    1.708965e+01   \n",
       "std      2.606657e+01  1.327140e+02  3.276249e+01    1.199506e+01   \n",
       "min     -9.600000e+01  0.000000e+00  0.000000e+00    1.000000e+00   \n",
       "25%     -5.400000e+01  0.000000e+00  0.000000e+00    1.000000e+01   \n",
       "50%     -2.800000e+01  0.000000e+00  0.000000e+00    1.200000e+01   \n",
       "75%     -1.300000e+01  0.000000e+00  0.000000e+00    2.400000e+01   \n",
       "max     -1.000000e+00  4.231000e+03  3.595000e+03    9.200000e+01   \n",
       "\n",
       "       CNT_INSTALMENT_FUTURE  \n",
       "count           9.975271e+06  \n",
       "mean            1.048384e+01  \n",
       "std             1.110906e+01  \n",
       "min             0.000000e+00  \n",
       "25%             3.000000e+00  \n",
       "50%             7.000000e+00  \n",
       "75%             1.400000e+01  \n",
       "max             8.500000e+01  "
      ]
     },
     "execution_count": 75,
     "metadata": {},
     "output_type": "execute_result"
    }
   ],
   "source": [
    "posh[num_variables].describe()"
   ]
  },
  {
   "cell_type": "code",
   "execution_count": 76,
   "id": "8749813b",
   "metadata": {},
   "outputs": [
    {
     "data": {
      "image/png": "[encoded data removed]",
      "text/plain": [
       "<Figure size 2000x1500 with 6 Axes>"
      ]
     },
     "metadata": {},
     "output_type": "display_data"
    }
   ],
   "source": [
    "posh[num_variables].hist(bins=50, figsize=(20,15))\n",
    "plt.show()"
   ]
  },
  {
   "attachments": {},
   "cell_type": "markdown",
   "id": "2dd6d931",
   "metadata": {},
   "source": [
    "Findings:\n",
    "\n",
    "* MONTHS_BALANCE - Month of balance relative to application date (-1 means the information to the freshest monthly snapshot, 0 means the information at application - often it will be the same as -1 as many banks are not updating the information to Credit Bureau regularly)\n",
    "\n",
    "* SK_DPD - DPD (days past due) during the month of previous credit\n",
    "\n",
    "* SK_DPD_DEF - DPD during the month with tolerance (debts with low loan amounts are ignored) of the previous credit\n",
    "\n",
    "* CNT_INSTALMENT - Term of previous credit (can change over time)\n",
    "\n",
    "* CNT_INSTALMENT_FUTURE - Installments left to pay on the previous credit"
   ]
  },
  {
   "cell_type": "markdown",
   "id": "49402782",
   "metadata": {},
   "source": [
    "MONTHS_BALANCE is not important."
   ]
  },
  {
   "cell_type": "code",
   "execution_count": 82,
   "id": "33449165",
   "metadata": {},
   "outputs": [],
   "source": [
    "posh = posh.drop('MONTHS_BALANCE', axis=1)"
   ]
  },
  {
   "cell_type": "code",
   "execution_count": 89,
   "id": "fcfb4323",
   "metadata": {},
   "outputs": [],
   "source": [
    "num_variables.remove('MONTHS_BALANCE')"
   ]
  },
  {
   "cell_type": "markdown",
   "id": "5243b17a",
   "metadata": {},
   "source": [
    "## Pipeline"
   ]
  },
  {
   "cell_type": "code",
   "execution_count": 90,
   "id": "0c921943",
   "metadata": {},
   "outputs": [],
   "source": [
    "class DataFrameSelector(BaseEstimator, TransformerMixin):\n",
    "    \n",
    "    def __init__(self, attribute_names):\n",
    "        self.attribute_names = attribute_names\n",
    "    \n",
    "    def fit(self, posh, y=None):\n",
    "        return self\n",
    "    \n",
    "    def transform(self, bank):\n",
    "        return posh[self.attribute_names].values\n",
    "    \n",
    "    def get_feature_names(self):\n",
    "        return self.attribute_names"
   ]
  },
  {
   "cell_type": "code",
   "execution_count": 95,
   "id": "0b8c3991",
   "metadata": {},
   "outputs": [],
   "source": [
    "num_pipeline = Pipeline([\n",
    "        ('selector', DataFrameSelector(num_variables)),\n",
    "        ('imputer', SimpleImputer(strategy=\"median\"))\n",
    "        ])\n",
    "\n",
    "cat_pipeline = Pipeline([\n",
    "        ('selector', DataFrameSelector(cat_variables)),\n",
    "        ('imputer', SimpleImputer(strategy=\"most_frequent\")),\n",
    "        ('cat_encoder', OneHotEncoder())\n",
    "        ])\n",
    "\n",
    "preprocess_pipeline = ColumnTransformer([\n",
    "        (\"num_pipeline\", num_pipeline, num_variables),\n",
    "        (\"cat_pipeline\", cat_pipeline, cat_variables)\n",
    "])"
   ]
  },
  {
   "cell_type": "code",
   "execution_count": 96,
   "id": "72d7427a",
   "metadata": {},
   "outputs": [],
   "source": [
    "preprocess_pipeline.fit(posh)\n",
    "\n",
    "preprocessed_posh = preprocess_pipeline.transform(posh)"
   ]
  },
  {
   "cell_type": "code",
   "execution_count": 97,
   "id": "303aa20d",
   "metadata": {},
   "outputs": [
    {
     "name": "stderr",
     "output_type": "stream",
     "text": [
      "C:\\Users\\maria\\Anaconda3\\lib\\site-packages\\sklearn\\utils\\deprecation.py:87: FutureWarning: Function get_feature_names is deprecated; get_feature_names is deprecated in 1.0 and will be removed in 1.2. Please use get_feature_names_out instead.\n",
      "  warnings.warn(msg, category=FutureWarning)\n"
     ]
    }
   ],
   "source": [
    "num_feature_names = preprocess_pipeline.named_transformers_['num_pipeline'].named_steps['selector'].get_feature_names()\n",
    "cat_feature_names = list(preprocess_pipeline.named_transformers_['cat_pipeline'].named_steps['cat_encoder'].get_feature_names(cat_variables))\n",
    "feature_names = num_feature_names + cat_feature_names + cat_binary_variables"
   ]
  },
  {
   "cell_type": "code",
   "execution_count": 98,
   "id": "12f50853",
   "metadata": {
    "scrolled": false
   },
   "outputs": [
    {
     "data": {
      "text/html": [
       "<div>\n",
       "<style scoped>\n",
       "    .dataframe tbody tr th:only-of-type {\n",
       "        vertical-align: middle;\n",
       "    }\n",
       "\n",
       "    .dataframe tbody tr th {\n",
       "        vertical-align: top;\n",
       "    }\n",
       "\n",
       "    .dataframe thead th {\n",
       "        text-align: right;\n",
       "    }\n",
       "</style>\n",
       "<table border=\"1\" class=\"dataframe\">\n",
       "  <thead>\n",
       "    <tr style=\"text-align: right;\">\n",
       "      <th></th>\n",
       "      <th>SK_ID_PREV</th>\n",
       "      <th>SK_ID_CURR</th>\n",
       "      <th>SK_DPD</th>\n",
       "      <th>SK_DPD_DEF</th>\n",
       "      <th>CNT_INSTALMENT</th>\n",
       "      <th>CNT_INSTALMENT_FUTURE</th>\n",
       "      <th>NAME_CONTRACT_STATUS_Active</th>\n",
       "      <th>NAME_CONTRACT_STATUS_Amortized debt</th>\n",
       "      <th>NAME_CONTRACT_STATUS_Approved</th>\n",
       "      <th>NAME_CONTRACT_STATUS_Canceled</th>\n",
       "      <th>NAME_CONTRACT_STATUS_Completed</th>\n",
       "      <th>NAME_CONTRACT_STATUS_Demand</th>\n",
       "      <th>NAME_CONTRACT_STATUS_Returned to the store</th>\n",
       "      <th>NAME_CONTRACT_STATUS_Signed</th>\n",
       "    </tr>\n",
       "  </thead>\n",
       "  <tbody>\n",
       "    <tr>\n",
       "      <th>0</th>\n",
       "      <td>1803195</td>\n",
       "      <td>182943</td>\n",
       "      <td>0.0</td>\n",
       "      <td>0.0</td>\n",
       "      <td>48.0</td>\n",
       "      <td>45.0</td>\n",
       "      <td>1.0</td>\n",
       "      <td>0.0</td>\n",
       "      <td>0.0</td>\n",
       "      <td>0.0</td>\n",
       "      <td>0.0</td>\n",
       "      <td>0.0</td>\n",
       "      <td>0.0</td>\n",
       "      <td>0.0</td>\n",
       "    </tr>\n",
       "    <tr>\n",
       "      <th>1</th>\n",
       "      <td>1715348</td>\n",
       "      <td>367990</td>\n",
       "      <td>0.0</td>\n",
       "      <td>0.0</td>\n",
       "      <td>36.0</td>\n",
       "      <td>35.0</td>\n",
       "      <td>1.0</td>\n",
       "      <td>0.0</td>\n",
       "      <td>0.0</td>\n",
       "      <td>0.0</td>\n",
       "      <td>0.0</td>\n",
       "      <td>0.0</td>\n",
       "      <td>0.0</td>\n",
       "      <td>0.0</td>\n",
       "    </tr>\n",
       "    <tr>\n",
       "      <th>2</th>\n",
       "      <td>1784872</td>\n",
       "      <td>397406</td>\n",
       "      <td>0.0</td>\n",
       "      <td>0.0</td>\n",
       "      <td>12.0</td>\n",
       "      <td>9.0</td>\n",
       "      <td>1.0</td>\n",
       "      <td>0.0</td>\n",
       "      <td>0.0</td>\n",
       "      <td>0.0</td>\n",
       "      <td>0.0</td>\n",
       "      <td>0.0</td>\n",
       "      <td>0.0</td>\n",
       "      <td>0.0</td>\n",
       "    </tr>\n",
       "    <tr>\n",
       "      <th>3</th>\n",
       "      <td>1903291</td>\n",
       "      <td>269225</td>\n",
       "      <td>0.0</td>\n",
       "      <td>0.0</td>\n",
       "      <td>48.0</td>\n",
       "      <td>42.0</td>\n",
       "      <td>1.0</td>\n",
       "      <td>0.0</td>\n",
       "      <td>0.0</td>\n",
       "      <td>0.0</td>\n",
       "      <td>0.0</td>\n",
       "      <td>0.0</td>\n",
       "      <td>0.0</td>\n",
       "      <td>0.0</td>\n",
       "    </tr>\n",
       "    <tr>\n",
       "      <th>4</th>\n",
       "      <td>2341044</td>\n",
       "      <td>334279</td>\n",
       "      <td>0.0</td>\n",
       "      <td>0.0</td>\n",
       "      <td>36.0</td>\n",
       "      <td>35.0</td>\n",
       "      <td>1.0</td>\n",
       "      <td>0.0</td>\n",
       "      <td>0.0</td>\n",
       "      <td>0.0</td>\n",
       "      <td>0.0</td>\n",
       "      <td>0.0</td>\n",
       "      <td>0.0</td>\n",
       "      <td>0.0</td>\n",
       "    </tr>\n",
       "    <tr>\n",
       "      <th>...</th>\n",
       "      <td>...</td>\n",
       "      <td>...</td>\n",
       "      <td>...</td>\n",
       "      <td>...</td>\n",
       "      <td>...</td>\n",
       "      <td>...</td>\n",
       "      <td>...</td>\n",
       "      <td>...</td>\n",
       "      <td>...</td>\n",
       "      <td>...</td>\n",
       "      <td>...</td>\n",
       "      <td>...</td>\n",
       "      <td>...</td>\n",
       "      <td>...</td>\n",
       "    </tr>\n",
       "    <tr>\n",
       "      <th>10001353</th>\n",
       "      <td>2448283</td>\n",
       "      <td>226558</td>\n",
       "      <td>843.0</td>\n",
       "      <td>0.0</td>\n",
       "      <td>6.0</td>\n",
       "      <td>0.0</td>\n",
       "      <td>1.0</td>\n",
       "      <td>0.0</td>\n",
       "      <td>0.0</td>\n",
       "      <td>0.0</td>\n",
       "      <td>0.0</td>\n",
       "      <td>0.0</td>\n",
       "      <td>0.0</td>\n",
       "      <td>0.0</td>\n",
       "    </tr>\n",
       "    <tr>\n",
       "      <th>10001354</th>\n",
       "      <td>1717234</td>\n",
       "      <td>141565</td>\n",
       "      <td>602.0</td>\n",
       "      <td>0.0</td>\n",
       "      <td>12.0</td>\n",
       "      <td>0.0</td>\n",
       "      <td>1.0</td>\n",
       "      <td>0.0</td>\n",
       "      <td>0.0</td>\n",
       "      <td>0.0</td>\n",
       "      <td>0.0</td>\n",
       "      <td>0.0</td>\n",
       "      <td>0.0</td>\n",
       "      <td>0.0</td>\n",
       "    </tr>\n",
       "    <tr>\n",
       "      <th>10001355</th>\n",
       "      <td>1283126</td>\n",
       "      <td>315695</td>\n",
       "      <td>609.0</td>\n",
       "      <td>0.0</td>\n",
       "      <td>10.0</td>\n",
       "      <td>0.0</td>\n",
       "      <td>1.0</td>\n",
       "      <td>0.0</td>\n",
       "      <td>0.0</td>\n",
       "      <td>0.0</td>\n",
       "      <td>0.0</td>\n",
       "      <td>0.0</td>\n",
       "      <td>0.0</td>\n",
       "      <td>0.0</td>\n",
       "    </tr>\n",
       "    <tr>\n",
       "      <th>10001356</th>\n",
       "      <td>1082516</td>\n",
       "      <td>450255</td>\n",
       "      <td>614.0</td>\n",
       "      <td>0.0</td>\n",
       "      <td>12.0</td>\n",
       "      <td>0.0</td>\n",
       "      <td>1.0</td>\n",
       "      <td>0.0</td>\n",
       "      <td>0.0</td>\n",
       "      <td>0.0</td>\n",
       "      <td>0.0</td>\n",
       "      <td>0.0</td>\n",
       "      <td>0.0</td>\n",
       "      <td>0.0</td>\n",
       "    </tr>\n",
       "    <tr>\n",
       "      <th>10001357</th>\n",
       "      <td>1259607</td>\n",
       "      <td>174278</td>\n",
       "      <td>0.0</td>\n",
       "      <td>0.0</td>\n",
       "      <td>16.0</td>\n",
       "      <td>0.0</td>\n",
       "      <td>0.0</td>\n",
       "      <td>0.0</td>\n",
       "      <td>0.0</td>\n",
       "      <td>0.0</td>\n",
       "      <td>1.0</td>\n",
       "      <td>0.0</td>\n",
       "      <td>0.0</td>\n",
       "      <td>0.0</td>\n",
       "    </tr>\n",
       "  </tbody>\n",
       "</table>\n",
       "<p>10001358 rows × 14 columns</p>\n",
       "</div>"
      ],
      "text/plain": [
       "          SK_ID_PREV  SK_ID_CURR  SK_DPD  SK_DPD_DEF  CNT_INSTALMENT  \\\n",
       "0            1803195      182943     0.0         0.0            48.0   \n",
       "1            1715348      367990     0.0         0.0            36.0   \n",
       "2            1784872      397406     0.0         0.0            12.0   \n",
       "3            1903291      269225     0.0         0.0            48.0   \n",
       "4            2341044      334279     0.0         0.0            36.0   \n",
       "...              ...         ...     ...         ...             ...   \n",
       "10001353     2448283      226558   843.0         0.0             6.0   \n",
       "10001354     1717234      141565   602.0         0.0            12.0   \n",
       "10001355     1283126      315695   609.0         0.0            10.0   \n",
       "10001356     1082516      450255   614.0         0.0            12.0   \n",
       "10001357     1259607      174278     0.0         0.0            16.0   \n",
       "\n",
       "          CNT_INSTALMENT_FUTURE  NAME_CONTRACT_STATUS_Active  \\\n",
       "0                          45.0                          1.0   \n",
       "1                          35.0                          1.0   \n",
       "2                           9.0                          1.0   \n",
       "3                          42.0                          1.0   \n",
       "4                          35.0                          1.0   \n",
       "...                         ...                          ...   \n",
       "10001353                    0.0                          1.0   \n",
       "10001354                    0.0                          1.0   \n",
       "10001355                    0.0                          1.0   \n",
       "10001356                    0.0                          1.0   \n",
       "10001357                    0.0                          0.0   \n",
       "\n",
       "          NAME_CONTRACT_STATUS_Amortized debt  NAME_CONTRACT_STATUS_Approved  \\\n",
       "0                                         0.0                            0.0   \n",
       "1                                         0.0                            0.0   \n",
       "2                                         0.0                            0.0   \n",
       "3                                         0.0                            0.0   \n",
       "4                                         0.0                            0.0   \n",
       "...                                       ...                            ...   \n",
       "10001353                                  0.0                            0.0   \n",
       "10001354                                  0.0                            0.0   \n",
       "10001355                                  0.0                            0.0   \n",
       "10001356                                  0.0                            0.0   \n",
       "10001357                                  0.0                            0.0   \n",
       "\n",
       "          NAME_CONTRACT_STATUS_Canceled  NAME_CONTRACT_STATUS_Completed  \\\n",
       "0                                   0.0                             0.0   \n",
       "1                                   0.0                             0.0   \n",
       "2                                   0.0                             0.0   \n",
       "3                                   0.0                             0.0   \n",
       "4                                   0.0                             0.0   \n",
       "...                                 ...                             ...   \n",
       "10001353                            0.0                             0.0   \n",
       "10001354                            0.0                             0.0   \n",
       "10001355                            0.0                             0.0   \n",
       "10001356                            0.0                             0.0   \n",
       "10001357                            0.0                             1.0   \n",
       "\n",
       "          NAME_CONTRACT_STATUS_Demand  \\\n",
       "0                                 0.0   \n",
       "1                                 0.0   \n",
       "2                                 0.0   \n",
       "3                                 0.0   \n",
       "4                                 0.0   \n",
       "...                               ...   \n",
       "10001353                          0.0   \n",
       "10001354                          0.0   \n",
       "10001355                          0.0   \n",
       "10001356                          0.0   \n",
       "10001357                          0.0   \n",
       "\n",
       "          NAME_CONTRACT_STATUS_Returned to the store  \\\n",
       "0                                                0.0   \n",
       "1                                                0.0   \n",
       "2                                                0.0   \n",
       "3                                                0.0   \n",
       "4                                                0.0   \n",
       "...                                              ...   \n",
       "10001353                                         0.0   \n",
       "10001354                                         0.0   \n",
       "10001355                                         0.0   \n",
       "10001356                                         0.0   \n",
       "10001357                                         0.0   \n",
       "\n",
       "          NAME_CONTRACT_STATUS_Signed  \n",
       "0                                 0.0  \n",
       "1                                 0.0  \n",
       "2                                 0.0  \n",
       "3                                 0.0  \n",
       "4                                 0.0  \n",
       "...                               ...  \n",
       "10001353                          0.0  \n",
       "10001354                          0.0  \n",
       "10001355                          0.0  \n",
       "10001356                          0.0  \n",
       "10001357                          0.0  \n",
       "\n",
       "[10001358 rows x 14 columns]"
      ]
     },
     "execution_count": 98,
     "metadata": {},
     "output_type": "execute_result"
    }
   ],
   "source": [
    "transformed_posh_df = pd.DataFrame(preprocessed_posh, columns=feature_names)\n",
    "transformed_posh_df = pd.concat([posh[[\"SK_ID_PREV\", \"SK_ID_CURR\"]],transformed_posh_df], axis=1)\n",
    "transformed_posh_df"
   ]
  },
  {
   "cell_type": "markdown",
   "id": "33587be9",
   "metadata": {},
   "source": [
    "## GroupBy"
   ]
  },
  {
   "cell_type": "code",
   "execution_count": 101,
   "id": "58f12000",
   "metadata": {},
   "outputs": [
    {
     "data": {
      "text/html": [
       "<div>\n",
       "<style scoped>\n",
       "    .dataframe tbody tr th:only-of-type {\n",
       "        vertical-align: middle;\n",
       "    }\n",
       "\n",
       "    .dataframe tbody tr th {\n",
       "        vertical-align: top;\n",
       "    }\n",
       "\n",
       "    .dataframe thead th {\n",
       "        text-align: right;\n",
       "    }\n",
       "</style>\n",
       "<table border=\"1\" class=\"dataframe\">\n",
       "  <thead>\n",
       "    <tr style=\"text-align: right;\">\n",
       "      <th></th>\n",
       "      <th>SK_ID_PREV</th>\n",
       "      <th>SK_DPD</th>\n",
       "      <th>SK_DPD_DEF</th>\n",
       "      <th>CNT_INSTALMENT</th>\n",
       "      <th>CNT_INSTALMENT_FUTURE</th>\n",
       "      <th>NAME_CONTRACT_STATUS_Active</th>\n",
       "      <th>NAME_CONTRACT_STATUS_Amortized debt</th>\n",
       "      <th>NAME_CONTRACT_STATUS_Approved</th>\n",
       "      <th>NAME_CONTRACT_STATUS_Canceled</th>\n",
       "      <th>NAME_CONTRACT_STATUS_Completed</th>\n",
       "      <th>NAME_CONTRACT_STATUS_Demand</th>\n",
       "      <th>NAME_CONTRACT_STATUS_Returned to the store</th>\n",
       "      <th>NAME_CONTRACT_STATUS_Signed</th>\n",
       "    </tr>\n",
       "    <tr>\n",
       "      <th>SK_ID_CURR</th>\n",
       "      <th></th>\n",
       "      <th></th>\n",
       "      <th></th>\n",
       "      <th></th>\n",
       "      <th></th>\n",
       "      <th></th>\n",
       "      <th></th>\n",
       "      <th></th>\n",
       "      <th></th>\n",
       "      <th></th>\n",
       "      <th></th>\n",
       "      <th></th>\n",
       "      <th></th>\n",
       "    </tr>\n",
       "  </thead>\n",
       "  <tbody>\n",
       "    <tr>\n",
       "      <th>100001</th>\n",
       "      <td>1851984</td>\n",
       "      <td>0.777778</td>\n",
       "      <td>0.777778</td>\n",
       "      <td>4.000000</td>\n",
       "      <td>1.444444</td>\n",
       "      <td>7.0</td>\n",
       "      <td>0.0</td>\n",
       "      <td>0.0</td>\n",
       "      <td>0.0</td>\n",
       "      <td>2.0</td>\n",
       "      <td>0.0</td>\n",
       "      <td>0.0</td>\n",
       "      <td>0.0</td>\n",
       "    </tr>\n",
       "    <tr>\n",
       "      <th>100002</th>\n",
       "      <td>1038818</td>\n",
       "      <td>0.000000</td>\n",
       "      <td>0.000000</td>\n",
       "      <td>24.000000</td>\n",
       "      <td>15.000000</td>\n",
       "      <td>19.0</td>\n",
       "      <td>0.0</td>\n",
       "      <td>0.0</td>\n",
       "      <td>0.0</td>\n",
       "      <td>0.0</td>\n",
       "      <td>0.0</td>\n",
       "      <td>0.0</td>\n",
       "      <td>0.0</td>\n",
       "    </tr>\n",
       "    <tr>\n",
       "      <th>100003</th>\n",
       "      <td>2396755</td>\n",
       "      <td>0.000000</td>\n",
       "      <td>0.000000</td>\n",
       "      <td>10.107143</td>\n",
       "      <td>5.785714</td>\n",
       "      <td>26.0</td>\n",
       "      <td>0.0</td>\n",
       "      <td>0.0</td>\n",
       "      <td>0.0</td>\n",
       "      <td>2.0</td>\n",
       "      <td>0.0</td>\n",
       "      <td>0.0</td>\n",
       "      <td>0.0</td>\n",
       "    </tr>\n",
       "    <tr>\n",
       "      <th>100004</th>\n",
       "      <td>1564014</td>\n",
       "      <td>0.000000</td>\n",
       "      <td>0.000000</td>\n",
       "      <td>3.750000</td>\n",
       "      <td>2.250000</td>\n",
       "      <td>3.0</td>\n",
       "      <td>0.0</td>\n",
       "      <td>0.0</td>\n",
       "      <td>0.0</td>\n",
       "      <td>1.0</td>\n",
       "      <td>0.0</td>\n",
       "      <td>0.0</td>\n",
       "      <td>0.0</td>\n",
       "    </tr>\n",
       "    <tr>\n",
       "      <th>100005</th>\n",
       "      <td>2495675</td>\n",
       "      <td>0.000000</td>\n",
       "      <td>0.000000</td>\n",
       "      <td>11.727273</td>\n",
       "      <td>7.181818</td>\n",
       "      <td>9.0</td>\n",
       "      <td>0.0</td>\n",
       "      <td>0.0</td>\n",
       "      <td>0.0</td>\n",
       "      <td>1.0</td>\n",
       "      <td>0.0</td>\n",
       "      <td>0.0</td>\n",
       "      <td>1.0</td>\n",
       "    </tr>\n",
       "    <tr>\n",
       "      <th>...</th>\n",
       "      <td>...</td>\n",
       "      <td>...</td>\n",
       "      <td>...</td>\n",
       "      <td>...</td>\n",
       "      <td>...</td>\n",
       "      <td>...</td>\n",
       "      <td>...</td>\n",
       "      <td>...</td>\n",
       "      <td>...</td>\n",
       "      <td>...</td>\n",
       "      <td>...</td>\n",
       "      <td>...</td>\n",
       "      <td>...</td>\n",
       "    </tr>\n",
       "    <tr>\n",
       "      <th>456251</th>\n",
       "      <td>2248017</td>\n",
       "      <td>0.000000</td>\n",
       "      <td>0.000000</td>\n",
       "      <td>8.333333</td>\n",
       "      <td>4.666667</td>\n",
       "      <td>7.0</td>\n",
       "      <td>0.0</td>\n",
       "      <td>0.0</td>\n",
       "      <td>0.0</td>\n",
       "      <td>1.0</td>\n",
       "      <td>0.0</td>\n",
       "      <td>0.0</td>\n",
       "      <td>1.0</td>\n",
       "    </tr>\n",
       "    <tr>\n",
       "      <th>456252</th>\n",
       "      <td>1503599</td>\n",
       "      <td>0.000000</td>\n",
       "      <td>0.000000</td>\n",
       "      <td>6.000000</td>\n",
       "      <td>3.000000</td>\n",
       "      <td>6.0</td>\n",
       "      <td>0.0</td>\n",
       "      <td>0.0</td>\n",
       "      <td>0.0</td>\n",
       "      <td>1.0</td>\n",
       "      <td>0.0</td>\n",
       "      <td>0.0</td>\n",
       "      <td>0.0</td>\n",
       "    </tr>\n",
       "    <tr>\n",
       "      <th>456253</th>\n",
       "      <td>1686207</td>\n",
       "      <td>0.294118</td>\n",
       "      <td>0.294118</td>\n",
       "      <td>6.705882</td>\n",
       "      <td>2.000000</td>\n",
       "      <td>15.0</td>\n",
       "      <td>0.0</td>\n",
       "      <td>0.0</td>\n",
       "      <td>0.0</td>\n",
       "      <td>2.0</td>\n",
       "      <td>0.0</td>\n",
       "      <td>0.0</td>\n",
       "      <td>0.0</td>\n",
       "    </tr>\n",
       "    <tr>\n",
       "      <th>456254</th>\n",
       "      <td>2016407</td>\n",
       "      <td>0.000000</td>\n",
       "      <td>0.000000</td>\n",
       "      <td>14.900000</td>\n",
       "      <td>10.350000</td>\n",
       "      <td>20.0</td>\n",
       "      <td>0.0</td>\n",
       "      <td>0.0</td>\n",
       "      <td>0.0</td>\n",
       "      <td>0.0</td>\n",
       "      <td>0.0</td>\n",
       "      <td>0.0</td>\n",
       "      <td>0.0</td>\n",
       "    </tr>\n",
       "    <tr>\n",
       "      <th>456255</th>\n",
       "      <td>1179690</td>\n",
       "      <td>0.070423</td>\n",
       "      <td>0.070423</td>\n",
       "      <td>22.788732</td>\n",
       "      <td>15.140845</td>\n",
       "      <td>65.0</td>\n",
       "      <td>0.0</td>\n",
       "      <td>0.0</td>\n",
       "      <td>0.0</td>\n",
       "      <td>6.0</td>\n",
       "      <td>0.0</td>\n",
       "      <td>0.0</td>\n",
       "      <td>0.0</td>\n",
       "    </tr>\n",
       "  </tbody>\n",
       "</table>\n",
       "<p>337252 rows × 13 columns</p>\n",
       "</div>"
      ],
      "text/plain": [
       "            SK_ID_PREV    SK_DPD  SK_DPD_DEF  CNT_INSTALMENT  \\\n",
       "SK_ID_CURR                                                     \n",
       "100001         1851984  0.777778    0.777778        4.000000   \n",
       "100002         1038818  0.000000    0.000000       24.000000   \n",
       "100003         2396755  0.000000    0.000000       10.107143   \n",
       "100004         1564014  0.000000    0.000000        3.750000   \n",
       "100005         2495675  0.000000    0.000000       11.727273   \n",
       "...                ...       ...         ...             ...   \n",
       "456251         2248017  0.000000    0.000000        8.333333   \n",
       "456252         1503599  0.000000    0.000000        6.000000   \n",
       "456253         1686207  0.294118    0.294118        6.705882   \n",
       "456254         2016407  0.000000    0.000000       14.900000   \n",
       "456255         1179690  0.070423    0.070423       22.788732   \n",
       "\n",
       "            CNT_INSTALMENT_FUTURE  NAME_CONTRACT_STATUS_Active  \\\n",
       "SK_ID_CURR                                                       \n",
       "100001                   1.444444                          7.0   \n",
       "100002                  15.000000                         19.0   \n",
       "100003                   5.785714                         26.0   \n",
       "100004                   2.250000                          3.0   \n",
       "100005                   7.181818                          9.0   \n",
       "...                           ...                          ...   \n",
       "456251                   4.666667                          7.0   \n",
       "456252                   3.000000                          6.0   \n",
       "456253                   2.000000                         15.0   \n",
       "456254                  10.350000                         20.0   \n",
       "456255                  15.140845                         65.0   \n",
       "\n",
       "            NAME_CONTRACT_STATUS_Amortized debt  \\\n",
       "SK_ID_CURR                                        \n",
       "100001                                      0.0   \n",
       "100002                                      0.0   \n",
       "100003                                      0.0   \n",
       "100004                                      0.0   \n",
       "100005                                      0.0   \n",
       "...                                         ...   \n",
       "456251                                      0.0   \n",
       "456252                                      0.0   \n",
       "456253                                      0.0   \n",
       "456254                                      0.0   \n",
       "456255                                      0.0   \n",
       "\n",
       "            NAME_CONTRACT_STATUS_Approved  NAME_CONTRACT_STATUS_Canceled  \\\n",
       "SK_ID_CURR                                                                 \n",
       "100001                                0.0                            0.0   \n",
       "100002                                0.0                            0.0   \n",
       "100003                                0.0                            0.0   \n",
       "100004                                0.0                            0.0   \n",
       "100005                                0.0                            0.0   \n",
       "...                                   ...                            ...   \n",
       "456251                                0.0                            0.0   \n",
       "456252                                0.0                            0.0   \n",
       "456253                                0.0                            0.0   \n",
       "456254                                0.0                            0.0   \n",
       "456255                                0.0                            0.0   \n",
       "\n",
       "            NAME_CONTRACT_STATUS_Completed  NAME_CONTRACT_STATUS_Demand  \\\n",
       "SK_ID_CURR                                                                \n",
       "100001                                 2.0                          0.0   \n",
       "100002                                 0.0                          0.0   \n",
       "100003                                 2.0                          0.0   \n",
       "100004                                 1.0                          0.0   \n",
       "100005                                 1.0                          0.0   \n",
       "...                                    ...                          ...   \n",
       "456251                                 1.0                          0.0   \n",
       "456252                                 1.0                          0.0   \n",
       "456253                                 2.0                          0.0   \n",
       "456254                                 0.0                          0.0   \n",
       "456255                                 6.0                          0.0   \n",
       "\n",
       "            NAME_CONTRACT_STATUS_Returned to the store  \\\n",
       "SK_ID_CURR                                               \n",
       "100001                                             0.0   \n",
       "100002                                             0.0   \n",
       "100003                                             0.0   \n",
       "100004                                             0.0   \n",
       "100005                                             0.0   \n",
       "...                                                ...   \n",
       "456251                                             0.0   \n",
       "456252                                             0.0   \n",
       "456253                                             0.0   \n",
       "456254                                             0.0   \n",
       "456255                                             0.0   \n",
       "\n",
       "            NAME_CONTRACT_STATUS_Signed  \n",
       "SK_ID_CURR                               \n",
       "100001                              0.0  \n",
       "100002                              0.0  \n",
       "100003                              0.0  \n",
       "100004                              0.0  \n",
       "100005                              1.0  \n",
       "...                                 ...  \n",
       "456251                              1.0  \n",
       "456252                              0.0  \n",
       "456253                              0.0  \n",
       "456254                              0.0  \n",
       "456255                              0.0  \n",
       "\n",
       "[337252 rows x 13 columns]"
      ]
     },
     "execution_count": 101,
     "metadata": {},
     "output_type": "execute_result"
    }
   ],
   "source": [
    "grouped = transformed_posh_df.groupby('SK_ID_CURR').agg(\n",
    "    {'SK_ID_PREV': 'first',\n",
    "    'SK_DPD': 'mean', \n",
    "    'SK_DPD_DEF': 'mean', \n",
    "    'CNT_INSTALMENT': 'mean',\n",
    "    'CNT_INSTALMENT_FUTURE': 'mean',\n",
    "\n",
    "    'NAME_CONTRACT_STATUS_Active': 'sum', \n",
    "    'NAME_CONTRACT_STATUS_Amortized debt': 'sum',\n",
    "    'NAME_CONTRACT_STATUS_Approved': 'sum', \n",
    "    'NAME_CONTRACT_STATUS_Canceled': 'sum',\n",
    "    'NAME_CONTRACT_STATUS_Completed': 'sum', \n",
    "    'NAME_CONTRACT_STATUS_Demand': 'sum',\n",
    "    'NAME_CONTRACT_STATUS_Returned to the store': 'sum',\n",
    "    'NAME_CONTRACT_STATUS_Signed': 'sum'\n",
    "    })\n",
    "\n",
    "grouped"
   ]
  },
  {
   "cell_type": "code",
   "execution_count": null,
   "id": "5848bbc2",
   "metadata": {},
   "outputs": [],
   "source": []
  }
 ],
 "metadata": {
  "kernelspec": {
   "display_name": "Python 3 (ipykernel)",
   "language": "python",
   "name": "python3"
  },
  "language_info": {
   "codemirror_mode": {
    "name": "ipython",
    "version": 3
   },
   "file_extension": ".py",
   "mimetype": "text/x-python",
   "name": "python",
   "nbconvert_exporter": "python",
   "pygments_lexer": "ipython3",
   "version": "3.9.12"
  },
  "toc": {
   "base_numbering": 1,
   "nav_menu": {},
   "number_sections": true,
   "sideBar": true,
   "skip_h1_title": false,
   "title_cell": "Table of Contents",
   "title_sidebar": "Contents",
   "toc_cell": false,
   "toc_position": {},
   "toc_section_display": true,
   "toc_window_display": false
  }
 },
 "nbformat": 4,
 "nbformat_minor": 5
}
