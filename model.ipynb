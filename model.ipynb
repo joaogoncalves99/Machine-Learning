{
 "cells": [
  {
   "attachments": {},
   "cell_type": "markdown",
   "metadata": {},
   "source": [
    "# Group 6 Midterm Assignment \n",
    "\n",
    "**Group Members**\n",
    "- Beatriz Leal (43100)\n",
    "- Inês Outor (53553)\n",
    "- João Gonçalves (51268)\n",
    "- Mariana Alves (54371)\n",
    "- Patrícia Fonseca (53004)"
   ]
  },
  {
   "attachments": {},
   "cell_type": "markdown",
   "metadata": {},
   "source": [
    "## Business Problem"
   ]
  },
  {
   "attachments": {},
   "cell_type": "markdown",
   "metadata": {},
   "source": [
    "Home Credit strives to broaden financial inclusion for the unbanked population by providing a positive and safe borrowing experience. In order to make sure this underserved population has a positive loan experience, Home Credit makes use of a variety of alternative data - including telco and transactional information - to predict their clients' repayment abilities."
   ]
  },
  {
   "attachments": {},
   "cell_type": "markdown",
   "metadata": {},
   "source": [
    "In the applications table, we have the demographic data of the clients at the time of the application, and more specific details about the credit requested. \n",
    "We also have access to the previous applications for \"Home Credit\" loans of the borrowers (previous_applications) and the repayment history of those (installment_payments). Additionally, we have information on previous credits provided by other financial institutions that were reported to Credit Bureau to \"Home Credit\" applicants. \n",
    "Finnaly, in credit_card_balance, we have monthly balance snapshots of previous credit cards that the applicant has with Home Credit."
   ]
  },
  {
   "attachments": {},
   "cell_type": "markdown",
   "metadata": {},
   "source": [
    "We intend to use both the current data and previous loans data of a client to predict his behavior in the future, will he have problems paying the loans (late payments, no payments)? This will help Home Credit making the decision of wether they should reject the loan request, or not."
   ]
  },
  {
   "attachments": {},
   "cell_type": "markdown",
   "metadata": {},
   "source": [
    "## Imports"
   ]
  },
  {
   "cell_type": "code",
   "execution_count": 2,
   "metadata": {},
   "outputs": [],
   "source": [
    "import pandas as pd\n",
    "import numpy as np\n",
    "from sklearn.pipeline import Pipeline, FeatureUnion\n",
    "from sklearn.preprocessing import StandardScaler, FunctionTransformer, OneHotEncoder\n",
    "from sklearn.base import BaseEstimator, TransformerMixin\n",
    "from sklearn.compose import ColumnTransformer\n",
    "from sklearn.impute import SimpleImputer\n",
    "from sklearn.model_selection import train_test_split, GridSearchCV\n",
    "from sklearn.ensemble import RandomForestClassifier\n",
    "from sklearn.metrics import accuracy_score, precision_score, recall_score, confusion_matrix\n",
    "import matplotlib.pyplot as plt\n",
    "import seaborn as sns\n",
    "import warnings"
   ]
  },
  {
   "attachments": {},
   "cell_type": "markdown",
   "metadata": {},
   "source": [
    "## Data Cleaning"
   ]
  },
  {
   "attachments": {},
   "cell_type": "markdown",
   "metadata": {},
   "source": [
    "### Applications Table"
   ]
  },
  {
   "attachments": {},
   "cell_type": "markdown",
   "metadata": {},
   "source": [
    "Static data for all applications. One row represents one loan in our data sample."
   ]
  },
  {
   "cell_type": "code",
   "execution_count": 57,
   "metadata": {},
   "outputs": [],
   "source": [
    "#Path for the file, change it if necessary\n",
    "applications = pd.read_csv(\"application_train.csv\")\n",
    "\n",
    "#Values \"XNA\" (not availables) will be replaced by NaN values\n",
    "applications.replace(\"XNA\", np.nan, inplace=True)"
   ]
  },
  {
   "cell_type": "code",
   "execution_count": 58,
   "metadata": {},
   "outputs": [
    {
     "name": "stdout",
     "output_type": "stream",
     "text": [
      "There are 0 duplicate rows in the applications table\n"
     ]
    }
   ],
   "source": [
    "#See if there are any duplicated rows\n",
    "duplicate_rows = applications[applications.duplicated()]\n",
    "print(f\"There are {len(duplicate_rows)} duplicate rows in the applications table\")"
   ]
  },
  {
   "cell_type": "markdown",
   "metadata": {},
   "source": [
    "#### Analyzing missing values"
   ]
  },
  {
   "attachments": {},
   "cell_type": "markdown",
   "metadata": {},
   "source": [
    "Building a model on variables that have higher than 40% missing values may lead to misleading results since we either have to decrease our sample greatly or substitute the missing values, therefore, we will exclude the variables with missing values higher or equal to 40%\n"
   ]
  },
  {
   "cell_type": "code",
   "execution_count": 59,
   "metadata": {},
   "outputs": [],
   "source": [
    "missing_percentages = applications.isna().mean() * 100\n",
    "feature = missing_percentages.index.tolist() \n",
    "percentage = missing_percentages.tolist()\n",
    "\n",
    "# Find columns with missing values above 40%\n",
    "columns_to_drop = [feat for feat, perc in zip(feature, percentage) if perc > 40]\n",
    "\n",
    "# Drop the columns with missing values above 40%\n",
    "applications.drop(columns=columns_to_drop,inplace=True)"
   ]
  },
  {
   "cell_type": "markdown",
   "metadata": {},
   "source": [
    "#### Dividing the variables by type to facilitate the EDA and Data Cleaning"
   ]
  },
  {
   "cell_type": "code",
   "execution_count": 60,
   "metadata": {},
   "outputs": [
    {
     "name": "stdout",
     "output_type": "stream",
     "text": [
      "Categorical variables (non-binary coded): ['NAME_CONTRACT_TYPE', 'CODE_GENDER', 'FLAG_OWN_CAR', 'FLAG_OWN_REALTY', 'NAME_TYPE_SUITE', 'NAME_INCOME_TYPE', 'NAME_EDUCATION_TYPE', 'NAME_FAMILY_STATUS', 'NAME_HOUSING_TYPE', 'OCCUPATION_TYPE', 'WEEKDAY_APPR_PROCESS_START', 'ORGANIZATION_TYPE']\n",
      "Categorical variables (binary): ['FLAG_MOBIL', 'FLAG_EMP_PHONE', 'FLAG_WORK_PHONE', 'FLAG_CONT_MOBILE', 'FLAG_PHONE', 'FLAG_EMAIL', 'REG_REGION_NOT_LIVE_REGION', 'REG_REGION_NOT_WORK_REGION', 'LIVE_REGION_NOT_WORK_REGION', 'REG_CITY_NOT_LIVE_CITY', 'REG_CITY_NOT_WORK_CITY', 'LIVE_CITY_NOT_WORK_CITY', 'FLAG_DOCUMENT_2', 'FLAG_DOCUMENT_3', 'FLAG_DOCUMENT_4', 'FLAG_DOCUMENT_5', 'FLAG_DOCUMENT_6', 'FLAG_DOCUMENT_7', 'FLAG_DOCUMENT_8', 'FLAG_DOCUMENT_9', 'FLAG_DOCUMENT_10', 'FLAG_DOCUMENT_11', 'FLAG_DOCUMENT_12', 'FLAG_DOCUMENT_13', 'FLAG_DOCUMENT_14', 'FLAG_DOCUMENT_15', 'FLAG_DOCUMENT_16', 'FLAG_DOCUMENT_17', 'FLAG_DOCUMENT_18', 'FLAG_DOCUMENT_19', 'FLAG_DOCUMENT_20', 'FLAG_DOCUMENT_21']\n",
      "Numerical variables: ['CNT_CHILDREN', 'DAYS_BIRTH', 'DAYS_EMPLOYED', 'DAYS_ID_PUBLISH', 'REGION_RATING_CLIENT', 'REGION_RATING_CLIENT_W_CITY', 'HOUR_APPR_PROCESS_START', 'AMT_INCOME_TOTAL', 'AMT_CREDIT', 'AMT_ANNUITY', 'AMT_GOODS_PRICE', 'REGION_POPULATION_RELATIVE', 'DAYS_REGISTRATION', 'CNT_FAM_MEMBERS', 'EXT_SOURCE_2', 'EXT_SOURCE_3', 'OBS_30_CNT_SOCIAL_CIRCLE', 'DEF_30_CNT_SOCIAL_CIRCLE', 'OBS_60_CNT_SOCIAL_CIRCLE', 'DEF_60_CNT_SOCIAL_CIRCLE', 'DAYS_LAST_PHONE_CHANGE', 'AMT_REQ_CREDIT_BUREAU_HOUR', 'AMT_REQ_CREDIT_BUREAU_DAY', 'AMT_REQ_CREDIT_BUREAU_WEEK', 'AMT_REQ_CREDIT_BUREAU_MON', 'AMT_REQ_CREDIT_BUREAU_QRT', 'AMT_REQ_CREDIT_BUREAU_YEAR']\n"
     ]
    }
   ],
   "source": [
    "variables_type = pd.DataFrame(applications.dtypes)\n",
    "\n",
    "#Get all categorical variables\n",
    "cat_variables = list(variables_type[variables_type[0] == \"object\"].index)\n",
    "\n",
    "#Get all integer variables \n",
    "int_variables = list(variables_type[variables_type[0] == \"int64\"].index)\n",
    "\n",
    "#Get all float variables\n",
    "float_variables = list(variables_type[variables_type[0] == \"float64\"].index)\n",
    "\n",
    "#Get all binary variables\n",
    "cat_binary_variables = []\n",
    "for i in applications:\n",
    "    if ((list(applications[i].unique()) == [0,1]) or (list(applications[i].unique()) == [1,0])) and (i != \"TARGET\"):\n",
    "        cat_binary_variables.append(i)\n",
    "\n",
    "int_with_no_binary = [j for j in int_variables if j not in cat_binary_variables and j not in [\"SK_ID_CURR\", \"TARGET\"]]\n",
    "\n",
    "#Merge all numerical variables\n",
    "num_variables = int_with_no_binary + float_variables\n",
    "\n",
    "#Print the different variable types\n",
    "print(\"Categorical variables (non-binary coded):\", cat_variables)\n",
    "print(\"Categorical variables (binary):\", cat_binary_variables)\n",
    "print(\"Numerical variables:\", num_variables)"
   ]
  },
  {
   "cell_type": "markdown",
   "metadata": {},
   "source": [
    "#### Cleaning all remaining variables"
   ]
  },
  {
   "cell_type": "markdown",
   "metadata": {},
   "source": [
    "##### Categorical variables"
   ]
  },
  {
   "cell_type": "code",
   "execution_count": 61,
   "metadata": {},
   "outputs": [
    {
     "name": "stdout",
     "output_type": "stream",
     "text": [
      "NAME_CONTRACT_TYPE ['Cash loans' 'Revolving loans']\n",
      "CODE_GENDER ['M' 'F' nan]\n",
      "FLAG_OWN_CAR ['N' 'Y']\n",
      "FLAG_OWN_REALTY ['Y' 'N']\n",
      "NAME_TYPE_SUITE ['Unaccompanied' 'Family' 'Spouse, partner' 'Children' 'Other_A' nan\n",
      " 'Other_B' 'Group of people']\n",
      "NAME_INCOME_TYPE ['Working' 'State servant' 'Commercial associate' 'Pensioner' 'Unemployed'\n",
      " 'Student' 'Businessman' 'Maternity leave']\n",
      "NAME_EDUCATION_TYPE ['Secondary / secondary special' 'Higher education' 'Incomplete higher'\n",
      " 'Lower secondary' 'Academic degree']\n",
      "NAME_FAMILY_STATUS ['Single / not married' 'Married' 'Civil marriage' 'Widow' 'Separated'\n",
      " 'Unknown']\n",
      "NAME_HOUSING_TYPE ['House / apartment' 'Rented apartment' 'With parents'\n",
      " 'Municipal apartment' 'Office apartment' 'Co-op apartment']\n",
      "OCCUPATION_TYPE ['Laborers' 'Core staff' 'Accountants' 'Managers' nan 'Drivers'\n",
      " 'Sales staff' 'Cleaning staff' 'Cooking staff' 'Private service staff'\n",
      " 'Medicine staff' 'Security staff' 'High skill tech staff'\n",
      " 'Waiters/barmen staff' 'Low-skill Laborers' 'Realty agents' 'Secretaries'\n",
      " 'IT staff' 'HR staff']\n",
      "WEEKDAY_APPR_PROCESS_START ['WEDNESDAY' 'MONDAY' 'THURSDAY' 'SUNDAY' 'SATURDAY' 'FRIDAY' 'TUESDAY']\n",
      "ORGANIZATION_TYPE ['Business Entity Type 3' 'School' 'Government' 'Religion' 'Other' nan\n",
      " 'Electricity' 'Medicine' 'Business Entity Type 2' 'Self-employed'\n",
      " 'Transport: type 2' 'Construction' 'Housing' 'Kindergarten'\n",
      " 'Trade: type 7' 'Industry: type 11' 'Military' 'Services'\n",
      " 'Security Ministries' 'Transport: type 4' 'Industry: type 1' 'Emergency'\n",
      " 'Security' 'Trade: type 2' 'University' 'Transport: type 3' 'Police'\n",
      " 'Business Entity Type 1' 'Postal' 'Industry: type 4' 'Agriculture'\n",
      " 'Restaurant' 'Culture' 'Hotel' 'Industry: type 7' 'Trade: type 3'\n",
      " 'Industry: type 3' 'Bank' 'Industry: type 9' 'Insurance' 'Trade: type 6'\n",
      " 'Industry: type 2' 'Transport: type 1' 'Industry: type 12' 'Mobile'\n",
      " 'Trade: type 1' 'Industry: type 5' 'Industry: type 10' 'Legal Services'\n",
      " 'Advertising' 'Trade: type 5' 'Cleaning' 'Industry: type 13'\n",
      " 'Trade: type 4' 'Telecom' 'Industry: type 8' 'Realtor' 'Industry: type 6']\n"
     ]
    }
   ],
   "source": [
    "#Print the unique values of the categorical variables to see if they are correctly categorized\n",
    "for i in cat_variables:\n",
    "    print(i, applications[i].unique())"
   ]
  },
  {
   "attachments": {},
   "cell_type": "markdown",
   "metadata": {},
   "source": [
    "Findings:\n",
    "- FLAG_OWN_CAR and FLAG_OWN_REALTY are already binary variables codified in a different way (Yes/No)"
   ]
  },
  {
   "cell_type": "code",
   "execution_count": 62,
   "metadata": {},
   "outputs": [],
   "source": [
    "#Change binary variables from Yes/No to 1/0\n",
    "applications[\"FLAG_OWN_CAR\"] = applications[\"FLAG_OWN_CAR\"].apply(lambda x: 0 if x == 'N' else 1)\n",
    "applications[\"FLAG_OWN_REALTY\"] = applications[\"FLAG_OWN_REALTY\"].apply(lambda x: 0 if x == 'N' else 1)\n",
    "\n",
    "#Exclude them from cat_variables and include them in cat_binary_variables (useful for the final pipeline)\n",
    "cat_variables = [i for i in cat_variables if i not in [\"FLAG_OWN_CAR\",\"FLAG_OWN_REALTY\"]]\n",
    "cat_binary_variables.extend([\"FLAG_OWN_CAR\",\"FLAG_OWN_REALTY\"])"
   ]
  },
  {
   "cell_type": "markdown",
   "metadata": {},
   "source": [
    "##### Numerical variables"
   ]
  },
  {
   "cell_type": "code",
   "execution_count": 63,
   "metadata": {},
   "outputs": [
    {
     "data": {
      "text/html": [
       "<div>\n",
       "<style scoped>\n",
       "    .dataframe tbody tr th:only-of-type {\n",
       "        vertical-align: middle;\n",
       "    }\n",
       "\n",
       "    .dataframe tbody tr th {\n",
       "        vertical-align: top;\n",
       "    }\n",
       "\n",
       "    .dataframe thead th {\n",
       "        text-align: right;\n",
       "    }\n",
       "</style>\n",
       "<table border=\"1\" class=\"dataframe\">\n",
       "  <thead>\n",
       "    <tr style=\"text-align: right;\">\n",
       "      <th></th>\n",
       "      <th>CNT_CHILDREN</th>\n",
       "      <th>DAYS_BIRTH</th>\n",
       "      <th>DAYS_EMPLOYED</th>\n",
       "      <th>DAYS_ID_PUBLISH</th>\n",
       "      <th>REGION_RATING_CLIENT</th>\n",
       "      <th>REGION_RATING_CLIENT_W_CITY</th>\n",
       "      <th>HOUR_APPR_PROCESS_START</th>\n",
       "      <th>AMT_INCOME_TOTAL</th>\n",
       "      <th>AMT_CREDIT</th>\n",
       "      <th>AMT_ANNUITY</th>\n",
       "      <th>...</th>\n",
       "      <th>DEF_30_CNT_SOCIAL_CIRCLE</th>\n",
       "      <th>OBS_60_CNT_SOCIAL_CIRCLE</th>\n",
       "      <th>DEF_60_CNT_SOCIAL_CIRCLE</th>\n",
       "      <th>DAYS_LAST_PHONE_CHANGE</th>\n",
       "      <th>AMT_REQ_CREDIT_BUREAU_HOUR</th>\n",
       "      <th>AMT_REQ_CREDIT_BUREAU_DAY</th>\n",
       "      <th>AMT_REQ_CREDIT_BUREAU_WEEK</th>\n",
       "      <th>AMT_REQ_CREDIT_BUREAU_MON</th>\n",
       "      <th>AMT_REQ_CREDIT_BUREAU_QRT</th>\n",
       "      <th>AMT_REQ_CREDIT_BUREAU_YEAR</th>\n",
       "    </tr>\n",
       "  </thead>\n",
       "  <tbody>\n",
       "    <tr>\n",
       "      <th>count</th>\n",
       "      <td>307511.000000</td>\n",
       "      <td>307511.000000</td>\n",
       "      <td>307511.000000</td>\n",
       "      <td>307511.000000</td>\n",
       "      <td>307511.000000</td>\n",
       "      <td>307511.000000</td>\n",
       "      <td>307511.000000</td>\n",
       "      <td>3.075110e+05</td>\n",
       "      <td>3.075110e+05</td>\n",
       "      <td>307499.000000</td>\n",
       "      <td>...</td>\n",
       "      <td>306490.000000</td>\n",
       "      <td>306490.000000</td>\n",
       "      <td>306490.000000</td>\n",
       "      <td>307510.000000</td>\n",
       "      <td>265992.000000</td>\n",
       "      <td>265992.000000</td>\n",
       "      <td>265992.000000</td>\n",
       "      <td>265992.000000</td>\n",
       "      <td>265992.000000</td>\n",
       "      <td>265992.000000</td>\n",
       "    </tr>\n",
       "    <tr>\n",
       "      <th>mean</th>\n",
       "      <td>0.417052</td>\n",
       "      <td>-16036.995067</td>\n",
       "      <td>63815.045904</td>\n",
       "      <td>-2994.202373</td>\n",
       "      <td>2.052463</td>\n",
       "      <td>2.031521</td>\n",
       "      <td>12.063419</td>\n",
       "      <td>1.687979e+05</td>\n",
       "      <td>5.990260e+05</td>\n",
       "      <td>27108.573909</td>\n",
       "      <td>...</td>\n",
       "      <td>0.143421</td>\n",
       "      <td>1.405292</td>\n",
       "      <td>0.100049</td>\n",
       "      <td>-962.858788</td>\n",
       "      <td>0.006402</td>\n",
       "      <td>0.007000</td>\n",
       "      <td>0.034362</td>\n",
       "      <td>0.267395</td>\n",
       "      <td>0.265474</td>\n",
       "      <td>1.899974</td>\n",
       "    </tr>\n",
       "    <tr>\n",
       "      <th>std</th>\n",
       "      <td>0.722121</td>\n",
       "      <td>4363.988632</td>\n",
       "      <td>141275.766519</td>\n",
       "      <td>1509.450419</td>\n",
       "      <td>0.509034</td>\n",
       "      <td>0.502737</td>\n",
       "      <td>3.265832</td>\n",
       "      <td>2.371231e+05</td>\n",
       "      <td>4.024908e+05</td>\n",
       "      <td>14493.737315</td>\n",
       "      <td>...</td>\n",
       "      <td>0.446698</td>\n",
       "      <td>2.379803</td>\n",
       "      <td>0.362291</td>\n",
       "      <td>826.808487</td>\n",
       "      <td>0.083849</td>\n",
       "      <td>0.110757</td>\n",
       "      <td>0.204685</td>\n",
       "      <td>0.916002</td>\n",
       "      <td>0.794056</td>\n",
       "      <td>1.869295</td>\n",
       "    </tr>\n",
       "    <tr>\n",
       "      <th>min</th>\n",
       "      <td>0.000000</td>\n",
       "      <td>-25229.000000</td>\n",
       "      <td>-17912.000000</td>\n",
       "      <td>-7197.000000</td>\n",
       "      <td>1.000000</td>\n",
       "      <td>1.000000</td>\n",
       "      <td>0.000000</td>\n",
       "      <td>2.565000e+04</td>\n",
       "      <td>4.500000e+04</td>\n",
       "      <td>1615.500000</td>\n",
       "      <td>...</td>\n",
       "      <td>0.000000</td>\n",
       "      <td>0.000000</td>\n",
       "      <td>0.000000</td>\n",
       "      <td>-4292.000000</td>\n",
       "      <td>0.000000</td>\n",
       "      <td>0.000000</td>\n",
       "      <td>0.000000</td>\n",
       "      <td>0.000000</td>\n",
       "      <td>0.000000</td>\n",
       "      <td>0.000000</td>\n",
       "    </tr>\n",
       "    <tr>\n",
       "      <th>25%</th>\n",
       "      <td>0.000000</td>\n",
       "      <td>-19682.000000</td>\n",
       "      <td>-2760.000000</td>\n",
       "      <td>-4299.000000</td>\n",
       "      <td>2.000000</td>\n",
       "      <td>2.000000</td>\n",
       "      <td>10.000000</td>\n",
       "      <td>1.125000e+05</td>\n",
       "      <td>2.700000e+05</td>\n",
       "      <td>16524.000000</td>\n",
       "      <td>...</td>\n",
       "      <td>0.000000</td>\n",
       "      <td>0.000000</td>\n",
       "      <td>0.000000</td>\n",
       "      <td>-1570.000000</td>\n",
       "      <td>0.000000</td>\n",
       "      <td>0.000000</td>\n",
       "      <td>0.000000</td>\n",
       "      <td>0.000000</td>\n",
       "      <td>0.000000</td>\n",
       "      <td>0.000000</td>\n",
       "    </tr>\n",
       "    <tr>\n",
       "      <th>50%</th>\n",
       "      <td>0.000000</td>\n",
       "      <td>-15750.000000</td>\n",
       "      <td>-1213.000000</td>\n",
       "      <td>-3254.000000</td>\n",
       "      <td>2.000000</td>\n",
       "      <td>2.000000</td>\n",
       "      <td>12.000000</td>\n",
       "      <td>1.471500e+05</td>\n",
       "      <td>5.135310e+05</td>\n",
       "      <td>24903.000000</td>\n",
       "      <td>...</td>\n",
       "      <td>0.000000</td>\n",
       "      <td>0.000000</td>\n",
       "      <td>0.000000</td>\n",
       "      <td>-757.000000</td>\n",
       "      <td>0.000000</td>\n",
       "      <td>0.000000</td>\n",
       "      <td>0.000000</td>\n",
       "      <td>0.000000</td>\n",
       "      <td>0.000000</td>\n",
       "      <td>1.000000</td>\n",
       "    </tr>\n",
       "    <tr>\n",
       "      <th>75%</th>\n",
       "      <td>1.000000</td>\n",
       "      <td>-12413.000000</td>\n",
       "      <td>-289.000000</td>\n",
       "      <td>-1720.000000</td>\n",
       "      <td>2.000000</td>\n",
       "      <td>2.000000</td>\n",
       "      <td>14.000000</td>\n",
       "      <td>2.025000e+05</td>\n",
       "      <td>8.086500e+05</td>\n",
       "      <td>34596.000000</td>\n",
       "      <td>...</td>\n",
       "      <td>0.000000</td>\n",
       "      <td>2.000000</td>\n",
       "      <td>0.000000</td>\n",
       "      <td>-274.000000</td>\n",
       "      <td>0.000000</td>\n",
       "      <td>0.000000</td>\n",
       "      <td>0.000000</td>\n",
       "      <td>0.000000</td>\n",
       "      <td>0.000000</td>\n",
       "      <td>3.000000</td>\n",
       "    </tr>\n",
       "    <tr>\n",
       "      <th>max</th>\n",
       "      <td>19.000000</td>\n",
       "      <td>-7489.000000</td>\n",
       "      <td>365243.000000</td>\n",
       "      <td>0.000000</td>\n",
       "      <td>3.000000</td>\n",
       "      <td>3.000000</td>\n",
       "      <td>23.000000</td>\n",
       "      <td>1.170000e+08</td>\n",
       "      <td>4.050000e+06</td>\n",
       "      <td>258025.500000</td>\n",
       "      <td>...</td>\n",
       "      <td>34.000000</td>\n",
       "      <td>344.000000</td>\n",
       "      <td>24.000000</td>\n",
       "      <td>0.000000</td>\n",
       "      <td>4.000000</td>\n",
       "      <td>9.000000</td>\n",
       "      <td>8.000000</td>\n",
       "      <td>27.000000</td>\n",
       "      <td>261.000000</td>\n",
       "      <td>25.000000</td>\n",
       "    </tr>\n",
       "  </tbody>\n",
       "</table>\n",
       "<p>8 rows × 27 columns</p>\n",
       "</div>"
      ],
      "text/plain": [
       "        CNT_CHILDREN     DAYS_BIRTH  DAYS_EMPLOYED  DAYS_ID_PUBLISH  \\\n",
       "count  307511.000000  307511.000000  307511.000000    307511.000000   \n",
       "mean        0.417052  -16036.995067   63815.045904     -2994.202373   \n",
       "std         0.722121    4363.988632  141275.766519      1509.450419   \n",
       "min         0.000000  -25229.000000  -17912.000000     -7197.000000   \n",
       "25%         0.000000  -19682.000000   -2760.000000     -4299.000000   \n",
       "50%         0.000000  -15750.000000   -1213.000000     -3254.000000   \n",
       "75%         1.000000  -12413.000000    -289.000000     -1720.000000   \n",
       "max        19.000000   -7489.000000  365243.000000         0.000000   \n",
       "\n",
       "       REGION_RATING_CLIENT  REGION_RATING_CLIENT_W_CITY  \\\n",
       "count         307511.000000                307511.000000   \n",
       "mean               2.052463                     2.031521   \n",
       "std                0.509034                     0.502737   \n",
       "min                1.000000                     1.000000   \n",
       "25%                2.000000                     2.000000   \n",
       "50%                2.000000                     2.000000   \n",
       "75%                2.000000                     2.000000   \n",
       "max                3.000000                     3.000000   \n",
       "\n",
       "       HOUR_APPR_PROCESS_START  AMT_INCOME_TOTAL    AMT_CREDIT    AMT_ANNUITY  \\\n",
       "count            307511.000000      3.075110e+05  3.075110e+05  307499.000000   \n",
       "mean                 12.063419      1.687979e+05  5.990260e+05   27108.573909   \n",
       "std                   3.265832      2.371231e+05  4.024908e+05   14493.737315   \n",
       "min                   0.000000      2.565000e+04  4.500000e+04    1615.500000   \n",
       "25%                  10.000000      1.125000e+05  2.700000e+05   16524.000000   \n",
       "50%                  12.000000      1.471500e+05  5.135310e+05   24903.000000   \n",
       "75%                  14.000000      2.025000e+05  8.086500e+05   34596.000000   \n",
       "max                  23.000000      1.170000e+08  4.050000e+06  258025.500000   \n",
       "\n",
       "       ...  DEF_30_CNT_SOCIAL_CIRCLE  OBS_60_CNT_SOCIAL_CIRCLE  \\\n",
       "count  ...             306490.000000             306490.000000   \n",
       "mean   ...                  0.143421                  1.405292   \n",
       "std    ...                  0.446698                  2.379803   \n",
       "min    ...                  0.000000                  0.000000   \n",
       "25%    ...                  0.000000                  0.000000   \n",
       "50%    ...                  0.000000                  0.000000   \n",
       "75%    ...                  0.000000                  2.000000   \n",
       "max    ...                 34.000000                344.000000   \n",
       "\n",
       "       DEF_60_CNT_SOCIAL_CIRCLE  DAYS_LAST_PHONE_CHANGE  \\\n",
       "count             306490.000000           307510.000000   \n",
       "mean                   0.100049             -962.858788   \n",
       "std                    0.362291              826.808487   \n",
       "min                    0.000000            -4292.000000   \n",
       "25%                    0.000000            -1570.000000   \n",
       "50%                    0.000000             -757.000000   \n",
       "75%                    0.000000             -274.000000   \n",
       "max                   24.000000                0.000000   \n",
       "\n",
       "       AMT_REQ_CREDIT_BUREAU_HOUR  AMT_REQ_CREDIT_BUREAU_DAY  \\\n",
       "count               265992.000000              265992.000000   \n",
       "mean                     0.006402                   0.007000   \n",
       "std                      0.083849                   0.110757   \n",
       "min                      0.000000                   0.000000   \n",
       "25%                      0.000000                   0.000000   \n",
       "50%                      0.000000                   0.000000   \n",
       "75%                      0.000000                   0.000000   \n",
       "max                      4.000000                   9.000000   \n",
       "\n",
       "       AMT_REQ_CREDIT_BUREAU_WEEK  AMT_REQ_CREDIT_BUREAU_MON  \\\n",
       "count               265992.000000              265992.000000   \n",
       "mean                     0.034362                   0.267395   \n",
       "std                      0.204685                   0.916002   \n",
       "min                      0.000000                   0.000000   \n",
       "25%                      0.000000                   0.000000   \n",
       "50%                      0.000000                   0.000000   \n",
       "75%                      0.000000                   0.000000   \n",
       "max                      8.000000                  27.000000   \n",
       "\n",
       "       AMT_REQ_CREDIT_BUREAU_QRT  AMT_REQ_CREDIT_BUREAU_YEAR  \n",
       "count              265992.000000               265992.000000  \n",
       "mean                    0.265474                    1.899974  \n",
       "std                     0.794056                    1.869295  \n",
       "min                     0.000000                    0.000000  \n",
       "25%                     0.000000                    0.000000  \n",
       "50%                     0.000000                    1.000000  \n",
       "75%                     0.000000                    3.000000  \n",
       "max                   261.000000                   25.000000  \n",
       "\n",
       "[8 rows x 27 columns]"
      ]
     },
     "execution_count": 63,
     "metadata": {},
     "output_type": "execute_result"
    }
   ],
   "source": [
    "#Using describe method for numerical variables to get summary statistics and explore the data\n",
    "applications[num_variables].describe()"
   ]
  },
  {
   "cell_type": "markdown",
   "metadata": {},
   "source": [
    "Findings:\n",
    "- \"DAYS(...)\" variables are counter-intuitively negative\n",
    "- \"REGION_RATING_CLIENT(...)\" variables should be consider categorical since they only have values 1, 2 and 3\n",
    "- DAYS_EMPLOYED mean is 63815 (equivalent to around 174.8 years of experience), so there should be outliers (wrongly inserted values) we need to look deeper at"
   ]
  },
  {
   "cell_type": "code",
   "execution_count": 64,
   "metadata": {},
   "outputs": [],
   "source": [
    "#Exclude the \"REGION_RATING_CLIENT(...)\" variables from num_variables and include them in cat_variables (useful for the final pipeline)\n",
    "num_variables = [i for i in num_variables if i not in ['REGION_RATING_CLIENT', 'REGION_RATING_CLIENT_W_CITY']]\n",
    "cat_variables.extend(['REGION_RATING_CLIENT', 'REGION_RATING_CLIENT_W_CITY'])"
   ]
  },
  {
   "cell_type": "code",
   "execution_count": 65,
   "metadata": {},
   "outputs": [
    {
     "data": {
      "text/plain": [
       "<AxesSubplot:>"
      ]
     },
     "execution_count": 65,
     "metadata": {},
     "output_type": "execute_result"
    },
    {
     "data": {
      "image/png": "[encoded data removed]",
      "text/plain": [
       "<Figure size 640x480 with 1 Axes>"
      ]
     },
     "metadata": {},
     "output_type": "display_data"
    }
   ],
   "source": [
    "#Plot the DAYS_EMPLOYED variable to see why mean is equivalent to 174.8 years of experience (outliers that don't make sense)\n",
    "applications[\"DAYS_EMPLOYED\"].hist()"
   ]
  },
  {
   "cell_type": "code",
   "execution_count": 66,
   "metadata": {},
   "outputs": [],
   "source": [
    "# Replace all outliers (impossible values) by NaN\n",
    "applications[applications[\"DAYS_EMPLOYED\"] > 325000] = np.nan"
   ]
  },
  {
   "cell_type": "code",
   "execution_count": 67,
   "metadata": {},
   "outputs": [],
   "source": [
    "#Put day variables in a list to be transformed together in the preprocessing pipeline, and exclude them from num_variables \n",
    "day_variables = [col for col in applications.columns if 'DAYS' in col]\n",
    "num_variables = [i for i in num_variables if i not in day_variables]"
   ]
  },
  {
   "cell_type": "markdown",
   "metadata": {},
   "source": [
    "#### Transformation Pipeline"
   ]
  },
  {
   "cell_type": "code",
   "execution_count": 68,
   "metadata": {},
   "outputs": [],
   "source": [
    "# Create a DataframeSelector Class to be used on the pipelines\n",
    "class DataFrameSelector(BaseEstimator, TransformerMixin):\n",
    "    def __init__(self, attribute_names):\n",
    "        self.attribute_names = attribute_names\n",
    "    def fit(self, y=None):\n",
    "        return self\n",
    "    def transform(self, applications):\n",
    "        return applications[self.attribute_names].values\n",
    "    def get_feature_names(self):\n",
    "        return self.attribute_names\n",
    "    \n",
    "# Create a NegativeToPositive Class to transform day columns\n",
    "class NegativeToPositive(BaseEstimator, TransformerMixin):\n",
    "    def __init__(self, attribute_names):\n",
    "        self.attribute_names = attribute_names\n",
    "    def fit(self, y=None):\n",
    "        return self\n",
    "    def transform(self, applications):\n",
    "        applications[self.attribute_names] = abs(applications[self.attribute_names])\n",
    "        return applications[self.attribute_names]"
   ]
  },
  {
   "cell_type": "code",
   "execution_count": 69,
   "metadata": {},
   "outputs": [
    {
     "name": "stderr",
     "output_type": "stream",
     "text": [
      "c:\\Users\\HP\\anaconda3\\lib\\site-packages\\sklearn\\impute\\_base.py:49: FutureWarning: Unlike other reduction functions (e.g. `skew`, `kurtosis`), the default behavior of `mode` typically preserves the axis it acts along. In SciPy 1.11.0, this behavior will change: the default value of `keepdims` will become False, the `axis` over which the statistic is taken will be eliminated, and the value None will no longer be accepted. Set `keepdims` to True or False to avoid this warning.\n",
      "  mode = stats.mode(array)\n"
     ]
    }
   ],
   "source": [
    "#Create Pipelines for each type: Numerical, Days, Categorical, Binary\n",
    "num_pipeline = Pipeline([\n",
    "        ('imputer', SimpleImputer(strategy=\"median\")),\n",
    "        ])\n",
    "day_col_pipeline = Pipeline([\n",
    "        ('neg_to_pos', NegativeToPositive(day_variables)),\n",
    "        ('imputer', SimpleImputer(strategy=\"median\")),\n",
    "        ])\n",
    "cat_pipeline = Pipeline([\n",
    "        ('selector', DataFrameSelector(cat_variables)),\n",
    "        ('imputer', SimpleImputer(strategy=\"most_frequent\")),\n",
    "        ('cat_encoder', OneHotEncoder())\n",
    "        ])\n",
    "cat_binary_pipeline = Pipeline ([\n",
    "        ('imputer', SimpleImputer(strategy=\"most_frequent\"))\n",
    "        ])\n",
    "\n",
    "#Create preprocessor pipeline\n",
    "preprocess_pipeline = ColumnTransformer([\n",
    "        (\"num_pipeline\", num_pipeline, num_variables),\n",
    "        (\"days_pipeline\", day_col_pipeline, day_variables),\n",
    "        (\"cat_pipeline\", cat_pipeline, cat_variables),\n",
    "        (\"cat_binary_pipeline\", cat_binary_pipeline, cat_binary_variables)\n",
    "])\n",
    "\n",
    "#Fit pipeline and transform it\n",
    "preprocess_pipeline.fit(applications)\n",
    "preprocessed_applications = preprocess_pipeline.transform(applications)\n",
    "\n",
    "#Get categorical values names after the pipeline preprocessor\n",
    "cat_feature_names = list(preprocess_pipeline.named_transformers_['cat_pipeline'].named_steps['cat_encoder'].get_feature_names_out(cat_variables))\n",
    "\n",
    "#Get all the features names\n",
    "feature_names = num_variables + day_variables + cat_feature_names + cat_binary_variables\n",
    "\n",
    "# Create a new dataframe with the new features after the preprocessor\n",
    "transformed_applications_df = pd.DataFrame(preprocessed_applications, columns=feature_names)\n",
    "transformed_applications_df = pd.concat([applications[[\"SK_ID_CURR\", \"TARGET\"]], transformed_applications_df], axis=1)\n",
    "\n",
    "# Add a sufix \"_APP\" to identify features from applications table \n",
    "transformed_applications_df.columns = [\"SK_ID_CURR\",\"TARGET\"] + [col + '_APP' for col in transformed_applications_df.columns if col not in [\"SK_ID_CURR\",\"TARGET\"]]"
   ]
  },
  {
   "attachments": {},
   "cell_type": "markdown",
   "metadata": {},
   "source": [
    "### Previous Applications Table\n"
   ]
  },
  {
   "attachments": {},
   "cell_type": "markdown",
   "metadata": {},
   "source": [
    "There is one row for each previous application related to loans in our data sample."
   ]
  },
  {
   "cell_type": "code",
   "execution_count": 70,
   "metadata": {},
   "outputs": [],
   "source": [
    "#Path for the file, change it if necessary\n",
    "prev_app = pd.read_csv(\"previous_application.csv\")\n",
    "\n",
    "#Values \"XNA\" (not availables) will be replaced by NaN values\n",
    "prev_app.replace(\"XNA\", np.nan, inplace=True)"
   ]
  },
  {
   "cell_type": "code",
   "execution_count": 71,
   "metadata": {},
   "outputs": [
    {
     "name": "stdout",
     "output_type": "stream",
     "text": [
      "There are 0 in the previous applications table\n"
     ]
    }
   ],
   "source": [
    "#See if there are any duplicated rows\n",
    "duplicate_rows = prev_app[prev_app.duplicated()]\n",
    "print(f\"There are {len(duplicate_rows)} in the previous applications table\")"
   ]
  },
  {
   "attachments": {},
   "cell_type": "markdown",
   "metadata": {},
   "source": [
    "#### Analyzing missing values"
   ]
  },
  {
   "attachments": {},
   "cell_type": "markdown",
   "metadata": {},
   "source": [
    "Building a model on variables that have higher than 40% missing values may lead to misleading results since we either have to decrease our sample greatly or substitute the missing values, therefore, we will exclude the variables with missing values higher or equal to 40%"
   ]
  },
  {
   "cell_type": "code",
   "execution_count": 72,
   "metadata": {},
   "outputs": [],
   "source": [
    "missing_percentages = prev_app.isna().mean() * 100\n",
    "feature = missing_percentages.index.tolist() \n",
    "percentage = missing_percentages.tolist()\n",
    "\n",
    "# Find columns with missing values above 40%\n",
    "columns_to_drop = [feat for feat, perc in zip(feature, percentage) if perc > 40]\n",
    "\n",
    "# Drop the columns with missing values above 40%\n",
    "prev_app.drop(columns=columns_to_drop,inplace=True)\n",
    "\n",
    "#PORQUE ESTAMOS A ELIMINAR ESTA COLUNA???????????????????????????????????\n",
    "prev_app.drop(columns='SELLERPLACE_AREA',inplace=True)"
   ]
  },
  {
   "attachments": {},
   "cell_type": "markdown",
   "metadata": {},
   "source": [
    "#### Dividing the variables by type to facilitate the EDA and Data Cleaning\n"
   ]
  },
  {
   "cell_type": "code",
   "execution_count": 73,
   "metadata": {},
   "outputs": [
    {
     "name": "stdout",
     "output_type": "stream",
     "text": [
      "Categorical variables (non-binary coded): ['NAME_CONTRACT_TYPE', 'WEEKDAY_APPR_PROCESS_START', 'FLAG_LAST_APPL_PER_CONTRACT', 'NAME_CONTRACT_STATUS', 'NAME_PAYMENT_TYPE', 'CODE_REJECT_REASON', 'NAME_CLIENT_TYPE', 'NAME_PORTFOLIO', 'CHANNEL_TYPE', 'NAME_YIELD_GROUP', 'PRODUCT_COMBINATION']\n",
      "Categorical variables (binary): ['NFLAG_LAST_APPL_IN_DAY']\n",
      "Numerical variables: ['HOUR_APPR_PROCESS_START', 'DAYS_DECISION', 'AMT_ANNUITY', 'AMT_APPLICATION', 'AMT_CREDIT', 'AMT_GOODS_PRICE', 'CNT_PAYMENT']\n"
     ]
    }
   ],
   "source": [
    "variables_type = pd.DataFrame(prev_app.dtypes)\n",
    "\n",
    "# Get all categorical variables\n",
    "cat_variables = list(variables_type[variables_type[0] == \"object\"].index)\n",
    "\n",
    "# Get all integer variables \n",
    "int_variables = list(variables_type[variables_type[0] == \"int64\"].index)\n",
    "\n",
    "# Get all float variables\n",
    "float_variables = list(variables_type[variables_type[0] == \"float64\"].index)\n",
    "\n",
    "# Get all binary variables\n",
    "cat_binary_variables = []\n",
    "for i in prev_app:\n",
    "    if ((list(prev_app[i].unique()) == [0,1]) or (list(prev_app[i].unique()) == [1,0])) and (i != \"TARGET\"):\n",
    "        cat_binary_variables.append(i)\n",
    "\n",
    "int_with_no_binary = [j for j in int_variables if j not in cat_binary_variables and j not in [\"SK_ID_CURR\",\"SK_ID_PREV\"]]\n",
    "\n",
    "#Merge all numerical variables\n",
    "num_variables = int_with_no_binary + float_variables\n",
    "\n",
    "#Print the different variable types\n",
    "print(\"Categorical variables (non-binary coded):\", cat_variables)\n",
    "print(\"Categorical variables (binary):\", cat_binary_variables)\n",
    "print(\"Numerical variables:\", num_variables)"
   ]
  },
  {
   "attachments": {},
   "cell_type": "markdown",
   "metadata": {},
   "source": [
    "#### Cleaning all remaining variables"
   ]
  },
  {
   "attachments": {},
   "cell_type": "markdown",
   "metadata": {},
   "source": [
    "##### Categorical variables"
   ]
  },
  {
   "cell_type": "code",
   "execution_count": 74,
   "metadata": {},
   "outputs": [
    {
     "name": "stdout",
     "output_type": "stream",
     "text": [
      "NAME_CONTRACT_TYPE ['Consumer loans' 'Cash loans' 'Revolving loans' nan]\n",
      "WEEKDAY_APPR_PROCESS_START ['SATURDAY' 'THURSDAY' 'TUESDAY' 'MONDAY' 'FRIDAY' 'SUNDAY' 'WEDNESDAY']\n",
      "FLAG_LAST_APPL_PER_CONTRACT ['Y' 'N']\n",
      "NAME_CONTRACT_STATUS ['Approved' 'Refused' 'Canceled' 'Unused offer']\n",
      "NAME_PAYMENT_TYPE ['Cash through the bank' nan 'Non-cash from your account'\n",
      " 'Cashless from the account of the employer']\n",
      "CODE_REJECT_REASON ['XAP' 'HC' 'LIMIT' 'CLIENT' 'SCOFR' 'SCO' nan 'VERIF' 'SYSTEM']\n",
      "NAME_CLIENT_TYPE ['Repeater' 'New' 'Refreshed' nan]\n",
      "NAME_PORTFOLIO ['POS' 'Cash' nan 'Cards' 'Cars']\n",
      "CHANNEL_TYPE ['Country-wide' 'Contact center' 'Credit and cash offices' 'Stone'\n",
      " 'Regional / Local' 'AP+ (Cash loan)' 'Channel of corporate sales'\n",
      " 'Car dealer']\n",
      "NAME_YIELD_GROUP ['middle' 'low_action' 'high' 'low_normal' nan]\n",
      "PRODUCT_COMBINATION ['POS mobile with interest' 'Cash X-Sell: low' 'Cash X-Sell: high'\n",
      " 'Cash X-Sell: middle' 'Cash Street: high' 'Cash'\n",
      " 'POS household without interest' 'POS household with interest'\n",
      " 'POS other with interest' 'Card X-Sell' 'POS mobile without interest'\n",
      " 'Card Street' 'POS industry with interest' 'Cash Street: low'\n",
      " 'POS industry without interest' 'Cash Street: middle'\n",
      " 'POS others without interest' nan]\n"
     ]
    }
   ],
   "source": [
    "#Print the unique values of the categorical variables to see if they are correctly categorized\n",
    "for i in cat_variables:\n",
    "    print(i, prev_app[i].unique())"
   ]
  },
  {
   "cell_type": "code",
   "execution_count": 75,
   "metadata": {},
   "outputs": [],
   "source": [
    "#Change binary variables from Yes/No to 1/0\n",
    "prev_app[\"FLAG_LAST_APPL_PER_CONTRACT\"] = prev_app[\"FLAG_LAST_APPL_PER_CONTRACT\"].apply(lambda x: 0 if x == 'N' else 1)\n",
    "\n",
    "#Exclude them from cat_variables and include them in cat_binary_variables (useful for the final pipeline)\n",
    "cat_variables = [i for i in cat_variables if i not in [\"FLAG_LAST_APPL_PER_CONTRACT\"]]\n",
    "cat_binary_variables.extend([\"FLAG_LAST_APPL_PER_CONTRACT\"])"
   ]
  },
  {
   "attachments": {},
   "cell_type": "markdown",
   "metadata": {},
   "source": [
    "##### Numerical variables"
   ]
  },
  {
   "cell_type": "code",
   "execution_count": 77,
   "metadata": {},
   "outputs": [
    {
     "data": {
      "text/html": [
       "<div>\n",
       "<style scoped>\n",
       "    .dataframe tbody tr th:only-of-type {\n",
       "        vertical-align: middle;\n",
       "    }\n",
       "\n",
       "    .dataframe tbody tr th {\n",
       "        vertical-align: top;\n",
       "    }\n",
       "\n",
       "    .dataframe thead th {\n",
       "        text-align: right;\n",
       "    }\n",
       "</style>\n",
       "<table border=\"1\" class=\"dataframe\">\n",
       "  <thead>\n",
       "    <tr style=\"text-align: right;\">\n",
       "      <th></th>\n",
       "      <th>HOUR_APPR_PROCESS_START</th>\n",
       "      <th>DAYS_DECISION</th>\n",
       "      <th>AMT_ANNUITY</th>\n",
       "      <th>AMT_APPLICATION</th>\n",
       "      <th>AMT_CREDIT</th>\n",
       "      <th>AMT_GOODS_PRICE</th>\n",
       "      <th>CNT_PAYMENT</th>\n",
       "    </tr>\n",
       "  </thead>\n",
       "  <tbody>\n",
       "    <tr>\n",
       "      <th>count</th>\n",
       "      <td>1.670214e+06</td>\n",
       "      <td>1.670214e+06</td>\n",
       "      <td>1.297979e+06</td>\n",
       "      <td>1.670214e+06</td>\n",
       "      <td>1.670213e+06</td>\n",
       "      <td>1.284699e+06</td>\n",
       "      <td>1.297984e+06</td>\n",
       "    </tr>\n",
       "    <tr>\n",
       "      <th>mean</th>\n",
       "      <td>1.248418e+01</td>\n",
       "      <td>-8.806797e+02</td>\n",
       "      <td>1.595512e+04</td>\n",
       "      <td>1.752339e+05</td>\n",
       "      <td>1.961140e+05</td>\n",
       "      <td>2.278473e+05</td>\n",
       "      <td>1.605408e+01</td>\n",
       "    </tr>\n",
       "    <tr>\n",
       "      <th>std</th>\n",
       "      <td>3.334028e+00</td>\n",
       "      <td>7.790997e+02</td>\n",
       "      <td>1.478214e+04</td>\n",
       "      <td>2.927798e+05</td>\n",
       "      <td>3.185746e+05</td>\n",
       "      <td>3.153966e+05</td>\n",
       "      <td>1.456729e+01</td>\n",
       "    </tr>\n",
       "    <tr>\n",
       "      <th>min</th>\n",
       "      <td>0.000000e+00</td>\n",
       "      <td>-2.922000e+03</td>\n",
       "      <td>0.000000e+00</td>\n",
       "      <td>0.000000e+00</td>\n",
       "      <td>0.000000e+00</td>\n",
       "      <td>0.000000e+00</td>\n",
       "      <td>0.000000e+00</td>\n",
       "    </tr>\n",
       "    <tr>\n",
       "      <th>25%</th>\n",
       "      <td>1.000000e+01</td>\n",
       "      <td>-1.300000e+03</td>\n",
       "      <td>6.321780e+03</td>\n",
       "      <td>1.872000e+04</td>\n",
       "      <td>2.416050e+04</td>\n",
       "      <td>5.084100e+04</td>\n",
       "      <td>6.000000e+00</td>\n",
       "    </tr>\n",
       "    <tr>\n",
       "      <th>50%</th>\n",
       "      <td>1.200000e+01</td>\n",
       "      <td>-5.810000e+02</td>\n",
       "      <td>1.125000e+04</td>\n",
       "      <td>7.104600e+04</td>\n",
       "      <td>8.054100e+04</td>\n",
       "      <td>1.123200e+05</td>\n",
       "      <td>1.200000e+01</td>\n",
       "    </tr>\n",
       "    <tr>\n",
       "      <th>75%</th>\n",
       "      <td>1.500000e+01</td>\n",
       "      <td>-2.800000e+02</td>\n",
       "      <td>2.065842e+04</td>\n",
       "      <td>1.803600e+05</td>\n",
       "      <td>2.164185e+05</td>\n",
       "      <td>2.340000e+05</td>\n",
       "      <td>2.400000e+01</td>\n",
       "    </tr>\n",
       "    <tr>\n",
       "      <th>max</th>\n",
       "      <td>2.300000e+01</td>\n",
       "      <td>-1.000000e+00</td>\n",
       "      <td>4.180581e+05</td>\n",
       "      <td>6.905160e+06</td>\n",
       "      <td>6.905160e+06</td>\n",
       "      <td>6.905160e+06</td>\n",
       "      <td>8.400000e+01</td>\n",
       "    </tr>\n",
       "  </tbody>\n",
       "</table>\n",
       "</div>"
      ],
      "text/plain": [
       "       HOUR_APPR_PROCESS_START  DAYS_DECISION   AMT_ANNUITY  AMT_APPLICATION  \\\n",
       "count             1.670214e+06   1.670214e+06  1.297979e+06     1.670214e+06   \n",
       "mean              1.248418e+01  -8.806797e+02  1.595512e+04     1.752339e+05   \n",
       "std               3.334028e+00   7.790997e+02  1.478214e+04     2.927798e+05   \n",
       "min               0.000000e+00  -2.922000e+03  0.000000e+00     0.000000e+00   \n",
       "25%               1.000000e+01  -1.300000e+03  6.321780e+03     1.872000e+04   \n",
       "50%               1.200000e+01  -5.810000e+02  1.125000e+04     7.104600e+04   \n",
       "75%               1.500000e+01  -2.800000e+02  2.065842e+04     1.803600e+05   \n",
       "max               2.300000e+01  -1.000000e+00  4.180581e+05     6.905160e+06   \n",
       "\n",
       "         AMT_CREDIT  AMT_GOODS_PRICE   CNT_PAYMENT  \n",
       "count  1.670213e+06     1.284699e+06  1.297984e+06  \n",
       "mean   1.961140e+05     2.278473e+05  1.605408e+01  \n",
       "std    3.185746e+05     3.153966e+05  1.456729e+01  \n",
       "min    0.000000e+00     0.000000e+00  0.000000e+00  \n",
       "25%    2.416050e+04     5.084100e+04  6.000000e+00  \n",
       "50%    8.054100e+04     1.123200e+05  1.200000e+01  \n",
       "75%    2.164185e+05     2.340000e+05  2.400000e+01  \n",
       "max    6.905160e+06     6.905160e+06  8.400000e+01  "
      ]
     },
     "execution_count": 77,
     "metadata": {},
     "output_type": "execute_result"
    }
   ],
   "source": [
    "#Using describe method for numerical variables to get summary statistics and explore the data\n",
    "prev_app[num_variables].describe()"
   ]
  },
  {
   "cell_type": "markdown",
   "metadata": {},
   "source": [
    "Findings:\n",
    "\n",
    "\n",
    "* DAYS_DECISION variables are counter-intuitively negative"
   ]
  },
  {
   "cell_type": "code",
   "execution_count": 78,
   "metadata": {},
   "outputs": [],
   "source": [
    "#Put day variables in a list to be transformed together in the preprocessing pipeline, and exclude them from num_variables \n",
    "day_variables = [col for col in prev_app.columns if 'DAYS_DECISION' in col]\n",
    "num_variables = [i for i in num_variables if i not in day_variables]"
   ]
  },
  {
   "attachments": {},
   "cell_type": "markdown",
   "metadata": {},
   "source": [
    "#### Transformation Pipeline"
   ]
  },
  {
   "cell_type": "code",
   "execution_count": null,
   "metadata": {},
   "outputs": [],
   "source": [
    "# Create a DataframeSelector Class to be used on the pipelines\n",
    "class DataFrameSelector(BaseEstimator, TransformerMixin):\n",
    "    def __init__(self, attribute_names):\n",
    "        self.attribute_names = attribute_names\n",
    "    def fit(self, y=None):\n",
    "        return self\n",
    "    def transform(self, applications):\n",
    "        return prev_app[self.attribute_names].values\n",
    "    def get_feature_names(self):\n",
    "        return self.attribute_names\n",
    "    \n",
    "# Create a NegativeToPositive Class to transform day columns\n",
    "class NegativeToPositive(BaseEstimator, TransformerMixin):\n",
    "    def __init__(self, attribute_names):\n",
    "        self.attribute_names = attribute_names\n",
    "    def fit(self, y=None):\n",
    "        return self\n",
    "    def transform(self, prev_app):\n",
    "        prev_app[self.attribute_names] = abs(prev_app[self.attribute_names])\n",
    "        return prev_app[self.attribute_names]"
   ]
  },
  {
   "cell_type": "code",
   "execution_count": null,
   "metadata": {},
   "outputs": [],
   "source": [
    "#Create Pipelines for each type: Numerical, Days, Categorical, Binary\n",
    "num_pipeline = Pipeline([\n",
    "        ('imputer', SimpleImputer(strategy=\"median\")),\n",
    "        ])\n",
    "day_col_pipeline = Pipeline([\n",
    "        ('neg_to_pos', NegativeToPositive(day_variables)),\n",
    "        ('imputer', SimpleImputer(strategy=\"median\")),\n",
    "        ])\n",
    "cat_pipeline = Pipeline([\n",
    "        ('selector', DataFrameSelector(cat_variables)),\n",
    "        ('imputer', SimpleImputer(strategy=\"most_frequent\")),\n",
    "        ('cat_encoder', OneHotEncoder())\n",
    "        ])\n",
    "cat_binary_pipeline = Pipeline ([\n",
    "        ('imputer', SimpleImputer(strategy=\"most_frequent\"))\n",
    "        ])\n",
    "\n",
    "#Create preprocessor pipeline\n",
    "preprocess_pipeline = ColumnTransformer([\n",
    "        (\"num_pipeline\", num_pipeline, num_variables),\n",
    "        (\"days_pipeline\", day_col_pipeline, day_variables),\n",
    "        (\"cat_pipeline\", cat_pipeline, cat_variables),\n",
    "        (\"cat_binary_pipeline\", cat_binary_pipeline, cat_binary_variables)\n",
    "])\n",
    "\n",
    "#Fit pipeline and transform it\n",
    "preprocess_pipeline.fit(prev_app)\n",
    "preprocessed_prev_app = preprocess_pipeline.transform(prev_app)\n",
    "\n",
    "#Get categorical values names after the pipeline preprocessor\n",
    "cat_feature_names = preprocess_pipeline.named_transformers_['cat_pipeline'].named_steps['cat_encoder'].get_feature_names_out(cat_variables)\n",
    "\n",
    "#Get all the features names\n",
    "feature_names = list(num_variables) + list(day_variables) + list(cat_feature_names) + list(cat_binary_variables)\n",
    "\n",
    "#Create a new dataframe with all the data preprocessed \n",
    "dense_matrix = preprocessed_prev_app.todense()\n",
    "transformed_prev_app_df = pd.DataFrame(dense_matrix, columns=feature_names)\n",
    "transformed_prev_app_df = pd.concat([prev_app[[\"SK_ID_CURR\", \"SK_ID_PREV\"]],transformed_prev_app_df], axis=1)"
   ]
  },
  {
   "attachments": {},
   "cell_type": "markdown",
   "metadata": {},
   "source": [
    "#### Group the clients' data to merge with the applications table (one row per client)"
   ]
  },
  {
   "cell_type": "code",
   "execution_count": 145,
   "metadata": {},
   "outputs": [],
   "source": [
    "# Create aggregation functions to be used on the groupby\n",
    "aggregation_functions = {}\n",
    "aggregation_functions['SK_ID_PREV'] = 'count'\n",
    "aggregation_functions['HOUR_APPR_PROCESS_START'] = 'mean'\n",
    "aggregation_functions['DAYS_DECISION'] = 'mean' \n",
    "aggregation_functions['CNT_PAYMENT'] = 'mean'\n",
    "for col in transformed_prev_app_df.columns:\n",
    "    if col.startswith('AMT'):\n",
    "        aggregation_functions[col] = 'mean'\n",
    "\n",
    "    if (col in cat_feature_names) | (col in cat_binary_variables):\n",
    "        aggregation_functions[col] = 'sum'\n",
    "\n",
    "# Perform groupby\n",
    "prev_applications = transformed_prev_app_df.groupby('SK_ID_CURR').agg(aggregation_functions)\n",
    "prev_applications.reset_index(inplace=True)\n",
    "\n",
    "# Rename SK_ID_PREV (it is no longer an id of previous applications, but the count of them)\n",
    "prev_applications.rename(columns={'SK_ID_PREV': 'COUNT_PREV'},inplace=True)\n",
    "\n",
    "# Add a sufix \"_PA\" to identify features from previous applications table \n",
    "prev_applications.columns = [\"SK_ID_CURR\"] + [col + '_PA' for col in prev_applications.columns if col not in [\"SK_ID_CURR\"]]"
   ]
  },
  {
   "attachments": {},
   "cell_type": "markdown",
   "metadata": {},
   "source": [
    "### Credit card balance"
   ]
  },
  {
   "attachments": {},
   "cell_type": "markdown",
   "metadata": {},
   "source": [
    "This table has one row for each month of history of every previous credit in Home Credit (consumer credit and cash loans) related to loans in our sample – i.e. the table has (#loans in sample * # of relative previous credit cards * # of months where we have some history observable for the previous credit card) rows."
   ]
  },
  {
   "cell_type": "code",
   "execution_count": 36,
   "metadata": {},
   "outputs": [],
   "source": [
    "#Path for the file, change it if necessary\n",
    "credit_card_balance = pd.read_csv(\"../all/credit_card_balance.csv\")\n",
    "\n",
    "#Values \"XNA\" (not availables) will be replaced by NaN values\n",
    "credit_card_balance.replace(\"XNA\", np.nan, inplace=True)"
   ]
  },
  {
   "cell_type": "code",
   "execution_count": 37,
   "metadata": {},
   "outputs": [
    {
     "name": "stdout",
     "output_type": "stream",
     "text": [
      "There are 0 in the previous applications table\n"
     ]
    }
   ],
   "source": [
    "#See if there are any duplicated rows\n",
    "duplicate_rows = credit_card_balance[credit_card_balance.duplicated()]\n",
    "print(f\"There are {len(duplicate_rows)} in the previous applications table\")"
   ]
  },
  {
   "attachments": {},
   "cell_type": "markdown",
   "metadata": {},
   "source": [
    "#### Features analysis"
   ]
  },
  {
   "cell_type": "code",
   "execution_count": 46,
   "metadata": {},
   "outputs": [
    {
     "name": "stdout",
     "output_type": "stream",
     "text": [
      "AMT_PAYMENT_CURRENT is 0 times lower than AMT_PAYMENT_TOTAL\n",
      "\n",
      "Times AMT_DRAWINGS_CURRENT is lower than AMT_DRAWINGS_ATM_CURRENT\n",
      "          AMT_DRAWINGS_CURRENT  AMT_DRAWINGS_ATM_CURRENT\n",
      "438776               -1687.50                       0.0\n",
      "747302                -519.57                       0.0\n",
      "3284667              -6211.62                       0.0 \n",
      "\n",
      "Times AMT_DRAWINGS_CURRENT is lower than AMT_DRAWINGS_OTHER_CURRENT\n",
      "          AMT_DRAWINGS_CURRENT  AMT_DRAWINGS_OTHER_CURRENT\n",
      "438776               -1687.50                         0.0\n",
      "747302                -519.57                         0.0\n",
      "3284667              -6211.62                         0.0\n"
     ]
    }
   ],
   "source": [
    "print(\"AMT_PAYMENT_CURRENT is\",len(credit_card_balance.loc[credit_card_balance[\"AMT_PAYMENT_CURRENT\"] < credit_card_balance[\"AMT_PAYMENT_TOTAL_CURRENT\"],\n",
    "    :].loc[:, [\"AMT_PAYMENT_CURRENT\", \"AMT_PAYMENT_TOTAL_CURRENT\"]]),\"times lower than AMT_PAYMENT_TOTAL\\n\")\n",
    "\n",
    "print(\"Times AMT_DRAWINGS_CURRENT is lower than AMT_DRAWINGS_ATM_CURRENT\\n\",\n",
    "    credit_card_balance.loc[credit_card_balance[\"AMT_DRAWINGS_CURRENT\"] < credit_card_balance[\"AMT_DRAWINGS_ATM_CURRENT\"], :].loc[:, [\"AMT_DRAWINGS_CURRENT\",\n",
    "                                                                                                                                  \"AMT_DRAWINGS_ATM_CURRENT\"]],\"\\n\")\n",
    "print(\"Times AMT_DRAWINGS_CURRENT is lower than AMT_DRAWINGS_OTHER_CURRENT\\n\",\n",
    "    credit_card_balance.loc[credit_card_balance[\"AMT_DRAWINGS_CURRENT\"] < credit_card_balance[\"AMT_DRAWINGS_OTHER_CURRENT\"], :].loc[:, [\"AMT_DRAWINGS_CURRENT\", \"AMT_DRAWINGS_OTHER_CURRENT\"]])"
   ]
  },
  {
   "attachments": {},
   "cell_type": "markdown",
   "metadata": {},
   "source": [
    "- AMT_PAYMENT_CURRENT is never lower than AMT_PAYMENT_TOTAL_CURRENT (it is always higher or equal, or they are both null), which means that AMT_PAYMENT_CURRENT contains the value in AMT_PAYMENT_TOTAL_CURRENT. Therefore, we can drop that column.\n",
    "\n",
    "- Same thing for AMT_DRAWINGS_CURRENT and AMT_DRAWINGS_ATM_CURRENT. Even though the amount of drawings in the ATM may be zero, the amount of drawings in total can be negative - when the amount of money drawing during a month by a client is lower than zero, it means that the client has made a payment to the bank that is greater than the outstanding balance on their credit card.\n",
    "\n",
    "- Therefore, we can drop AMT_DRAWINGS_ATM_CURRENT, because AMT_DRAWINGS_CURRENT contains all the information. Same thing applies to AMT_DRAWINGS_POS_CURRENT. \n",
    "\n",
    "- Following the same rationale we can also drop the column AMT_DRAWINGS_OTHER_CURRENT \n",
    "\n",
    "- Regarding AMT_RECEIVABLE_PRINCIPAL, AMT_RECIVABLE and AMT_TOTAL_RECEIVABLE, since AMT_TOTAL_RECEIVABLE is the total amount receivable on the previous credit, that contains the number we need and we can drop the other two columns.\n",
    "\n",
    "- Considering the columns we decided to drop, regarding the 4 columns with the number of drawings in the month in matter, it only makes sense to keep CNT_DRAWINGS_CURRENT, because that's what we can connect to the information that wasn't dropped. Also, that column contains total number of drawings, while the other 3 contained very specific drawings."
   ]
  },
  {
   "cell_type": "code",
   "execution_count": 47,
   "metadata": {},
   "outputs": [],
   "source": [
    "# Drop the columns\n",
    "credit_card_balance.drop(['AMT_PAYMENT_TOTAL_CURRENT', 'AMT_DRAWINGS_ATM_CURRENT',\n",
    "                          'AMT_DRAWINGS_POS_CURRENT', 'AMT_DRAWINGS_OTHER_CURRENT',\n",
    "                          \"AMT_RECEIVABLE_PRINCIPAL\", \"AMT_RECIVABLE\",\n",
    "                          \"CNT_DRAWINGS_ATM_CURRENT\", \"CNT_DRAWINGS_OTHER_CURRENT\",\n",
    "                          \"CNT_DRAWINGS_POS_CURRENT\", \"AMT_INST_MIN_REGULARITY\", \n",
    "                         \"SK_DPD\", \"SK_DPD_DEF\"],\n",
    "                         axis=1, inplace=True)"
   ]
  },
  {
   "attachments": {},
   "cell_type": "markdown",
   "metadata": {},
   "source": [
    "#### Analyzing missing values"
   ]
  },
  {
   "cell_type": "code",
   "execution_count": 48,
   "metadata": {},
   "outputs": [],
   "source": [
    "missing_percentages = credit_card_balance.isna().mean() * 100\n",
    "feature = missing_percentages.index.tolist() \n",
    "percentage = missing_percentages.tolist()\n",
    "\n",
    "# Find columns with missing values above 40%\n",
    "columns_to_drop = [feat for feat, perc in zip(feature, percentage) if perc > 40]\n",
    "\n",
    "# Drop the columns with missing values above 40%\n",
    "credit_card_balance.drop(columns=columns_to_drop,inplace=True)"
   ]
  },
  {
   "attachments": {},
   "cell_type": "markdown",
   "metadata": {},
   "source": [
    "#### Dividing the variables by type to facilitate the EDA and Data Cleaning"
   ]
  },
  {
   "cell_type": "code",
   "execution_count": 49,
   "metadata": {},
   "outputs": [
    {
     "name": "stdout",
     "output_type": "stream",
     "text": [
      "Categorical variables (non-binary coded): ['NAME_CONTRACT_STATUS']\n",
      "Categorical variables (binary): []\n",
      "Numerical variables: ['MONTHS_BALANCE', 'AMT_CREDIT_LIMIT_ACTUAL', 'CNT_DRAWINGS_CURRENT', 'AMT_BALANCE', 'AMT_DRAWINGS_CURRENT', 'AMT_PAYMENT_CURRENT', 'AMT_TOTAL_RECEIVABLE', 'CNT_INSTALMENT_MATURE_CUM']\n"
     ]
    }
   ],
   "source": [
    "variables_type = pd.DataFrame(credit_card_balance.dtypes)\n",
    "\n",
    "# Get all categorical variables\n",
    "cat_variables = list(variables_type[variables_type[0] == \"object\"].index)\n",
    "\n",
    "# Get all integer variables \n",
    "int_variables = list(variables_type[variables_type[0] == \"int64\"].index)\n",
    "\n",
    "# Get all float variables\n",
    "float_variables = list(variables_type[variables_type[0] == \"float64\"].index)\n",
    "\n",
    "# Get all binary variables\n",
    "cat_binary_variables = []\n",
    "for i in credit_card_balance:\n",
    "    if ((list(credit_card_balance[i].unique()) == [0,1]) or (list(credit_card_balance[i].unique()) == [1,0])) and (i != \"TARGET\"):\n",
    "        cat_binary_variables.append(i)\n",
    "\n",
    "int_with_no_binary = [j for j in int_variables if j not in cat_binary_variables and j not in [\"SK_ID_CURR\",\"SK_ID_PREV\"]]\n",
    "\n",
    "#Merge all numerical variables\n",
    "num_variables = int_with_no_binary + float_variables\n",
    "\n",
    "#Print the different variable types\n",
    "print(\"Categorical variables (non-binary coded):\", cat_variables)\n",
    "print(\"Categorical variables (binary):\", cat_binary_variables)\n",
    "print(\"Numerical variables:\", num_variables)"
   ]
  },
  {
   "attachments": {},
   "cell_type": "markdown",
   "metadata": {},
   "source": [
    "#### Cleaning all remaining variables"
   ]
  },
  {
   "attachments": {},
   "cell_type": "markdown",
   "metadata": {},
   "source": [
    "##### Categorical variables"
   ]
  },
  {
   "cell_type": "code",
   "execution_count": 50,
   "metadata": {},
   "outputs": [
    {
     "name": "stdout",
     "output_type": "stream",
     "text": [
      "NAME_CONTRACT_STATUS ['Active' 'Completed' 'Demand' 'Signed' 'Sent proposal' 'Refused'\n",
      " 'Approved']\n"
     ]
    }
   ],
   "source": [
    "#Print the unique values of the categorical variables to see if they are correctly categorized\n",
    "for i in cat_variables:\n",
    "    print(i, credit_card_balance[i].unique())"
   ]
  },
  {
   "attachments": {},
   "cell_type": "markdown",
   "metadata": {},
   "source": [
    "##### Numerical variables"
   ]
  },
  {
   "cell_type": "code",
   "execution_count": 51,
   "metadata": {},
   "outputs": [
    {
     "data": {
      "text/html": [
       "<div>\n",
       "<style scoped>\n",
       "    .dataframe tbody tr th:only-of-type {\n",
       "        vertical-align: middle;\n",
       "    }\n",
       "\n",
       "    .dataframe tbody tr th {\n",
       "        vertical-align: top;\n",
       "    }\n",
       "\n",
       "    .dataframe thead th {\n",
       "        text-align: right;\n",
       "    }\n",
       "</style>\n",
       "<table border=\"1\" class=\"dataframe\">\n",
       "  <thead>\n",
       "    <tr style=\"text-align: right;\">\n",
       "      <th></th>\n",
       "      <th>MONTHS_BALANCE</th>\n",
       "      <th>AMT_CREDIT_LIMIT_ACTUAL</th>\n",
       "      <th>CNT_DRAWINGS_CURRENT</th>\n",
       "      <th>AMT_BALANCE</th>\n",
       "      <th>AMT_DRAWINGS_CURRENT</th>\n",
       "      <th>AMT_PAYMENT_CURRENT</th>\n",
       "      <th>AMT_TOTAL_RECEIVABLE</th>\n",
       "      <th>CNT_INSTALMENT_MATURE_CUM</th>\n",
       "    </tr>\n",
       "  </thead>\n",
       "  <tbody>\n",
       "    <tr>\n",
       "      <th>count</th>\n",
       "      <td>3.840312e+06</td>\n",
       "      <td>3.840312e+06</td>\n",
       "      <td>3.840312e+06</td>\n",
       "      <td>3.840312e+06</td>\n",
       "      <td>3.840312e+06</td>\n",
       "      <td>3.072324e+06</td>\n",
       "      <td>3.840312e+06</td>\n",
       "      <td>3.535076e+06</td>\n",
       "    </tr>\n",
       "    <tr>\n",
       "      <th>mean</th>\n",
       "      <td>-3.452192e+01</td>\n",
       "      <td>1.538080e+05</td>\n",
       "      <td>7.031439e-01</td>\n",
       "      <td>5.830016e+04</td>\n",
       "      <td>7.433388e+03</td>\n",
       "      <td>1.028054e+04</td>\n",
       "      <td>5.809829e+04</td>\n",
       "      <td>2.082508e+01</td>\n",
       "    </tr>\n",
       "    <tr>\n",
       "      <th>std</th>\n",
       "      <td>2.666775e+01</td>\n",
       "      <td>1.651457e+05</td>\n",
       "      <td>3.190347e+00</td>\n",
       "      <td>1.063070e+05</td>\n",
       "      <td>3.384608e+04</td>\n",
       "      <td>3.607808e+04</td>\n",
       "      <td>1.059718e+05</td>\n",
       "      <td>2.005149e+01</td>\n",
       "    </tr>\n",
       "    <tr>\n",
       "      <th>min</th>\n",
       "      <td>-9.600000e+01</td>\n",
       "      <td>0.000000e+00</td>\n",
       "      <td>0.000000e+00</td>\n",
       "      <td>-4.202502e+05</td>\n",
       "      <td>-6.211620e+03</td>\n",
       "      <td>0.000000e+00</td>\n",
       "      <td>-4.202502e+05</td>\n",
       "      <td>0.000000e+00</td>\n",
       "    </tr>\n",
       "    <tr>\n",
       "      <th>25%</th>\n",
       "      <td>-5.500000e+01</td>\n",
       "      <td>4.500000e+04</td>\n",
       "      <td>0.000000e+00</td>\n",
       "      <td>0.000000e+00</td>\n",
       "      <td>0.000000e+00</td>\n",
       "      <td>1.523700e+02</td>\n",
       "      <td>0.000000e+00</td>\n",
       "      <td>4.000000e+00</td>\n",
       "    </tr>\n",
       "    <tr>\n",
       "      <th>50%</th>\n",
       "      <td>-2.800000e+01</td>\n",
       "      <td>1.125000e+05</td>\n",
       "      <td>0.000000e+00</td>\n",
       "      <td>0.000000e+00</td>\n",
       "      <td>0.000000e+00</td>\n",
       "      <td>2.702700e+03</td>\n",
       "      <td>0.000000e+00</td>\n",
       "      <td>1.500000e+01</td>\n",
       "    </tr>\n",
       "    <tr>\n",
       "      <th>75%</th>\n",
       "      <td>-1.100000e+01</td>\n",
       "      <td>1.800000e+05</td>\n",
       "      <td>0.000000e+00</td>\n",
       "      <td>8.904669e+04</td>\n",
       "      <td>0.000000e+00</td>\n",
       "      <td>9.000000e+03</td>\n",
       "      <td>8.891451e+04</td>\n",
       "      <td>3.200000e+01</td>\n",
       "    </tr>\n",
       "    <tr>\n",
       "      <th>max</th>\n",
       "      <td>-1.000000e+00</td>\n",
       "      <td>1.350000e+06</td>\n",
       "      <td>1.650000e+02</td>\n",
       "      <td>1.505902e+06</td>\n",
       "      <td>2.287098e+06</td>\n",
       "      <td>4.289207e+06</td>\n",
       "      <td>1.493338e+06</td>\n",
       "      <td>1.200000e+02</td>\n",
       "    </tr>\n",
       "  </tbody>\n",
       "</table>\n",
       "</div>"
      ],
      "text/plain": [
       "       MONTHS_BALANCE  AMT_CREDIT_LIMIT_ACTUAL  CNT_DRAWINGS_CURRENT  \\\n",
       "count    3.840312e+06             3.840312e+06          3.840312e+06   \n",
       "mean    -3.452192e+01             1.538080e+05          7.031439e-01   \n",
       "std      2.666775e+01             1.651457e+05          3.190347e+00   \n",
       "min     -9.600000e+01             0.000000e+00          0.000000e+00   \n",
       "25%     -5.500000e+01             4.500000e+04          0.000000e+00   \n",
       "50%     -2.800000e+01             1.125000e+05          0.000000e+00   \n",
       "75%     -1.100000e+01             1.800000e+05          0.000000e+00   \n",
       "max     -1.000000e+00             1.350000e+06          1.650000e+02   \n",
       "\n",
       "        AMT_BALANCE  AMT_DRAWINGS_CURRENT  AMT_PAYMENT_CURRENT  \\\n",
       "count  3.840312e+06          3.840312e+06         3.072324e+06   \n",
       "mean   5.830016e+04          7.433388e+03         1.028054e+04   \n",
       "std    1.063070e+05          3.384608e+04         3.607808e+04   \n",
       "min   -4.202502e+05         -6.211620e+03         0.000000e+00   \n",
       "25%    0.000000e+00          0.000000e+00         1.523700e+02   \n",
       "50%    0.000000e+00          0.000000e+00         2.702700e+03   \n",
       "75%    8.904669e+04          0.000000e+00         9.000000e+03   \n",
       "max    1.505902e+06          2.287098e+06         4.289207e+06   \n",
       "\n",
       "       AMT_TOTAL_RECEIVABLE  CNT_INSTALMENT_MATURE_CUM  \n",
       "count          3.840312e+06               3.535076e+06  \n",
       "mean           5.809829e+04               2.082508e+01  \n",
       "std            1.059718e+05               2.005149e+01  \n",
       "min           -4.202502e+05               0.000000e+00  \n",
       "25%            0.000000e+00               4.000000e+00  \n",
       "50%            0.000000e+00               1.500000e+01  \n",
       "75%            8.891451e+04               3.200000e+01  \n",
       "max            1.493338e+06               1.200000e+02  "
      ]
     },
     "execution_count": 51,
     "metadata": {},
     "output_type": "execute_result"
    }
   ],
   "source": [
    "#Using describe method for numerical variables to get summary statistics and explore the data\n",
    "credit_card_balance[num_variables].describe()"
   ]
  },
  {
   "cell_type": "code",
   "execution_count": null,
   "metadata": {},
   "outputs": [],
   "source": [
    "credit_card_balance.drop(\"MONTHS_BALANCE\",axis = 1, inplace = True)\n",
    "num_variables.remove(\"MONTHS_BALANCE\")"
   ]
  },
  {
   "attachments": {},
   "cell_type": "markdown",
   "metadata": {},
   "source": [
    "\"MONTHS_BALANCE\" column is not relevant for the model - Further on, when data is grouped by client, we will use the average or the best measure for the other variables, therefore, it is irrelevant in which month this status occurs to predict repayment abilities."
   ]
  },
  {
   "attachments": {},
   "cell_type": "markdown",
   "metadata": {},
   "source": [
    "#### Transformation Pipeline"
   ]
  },
  {
   "cell_type": "code",
   "execution_count": 57,
   "metadata": {},
   "outputs": [],
   "source": [
    "#Create Pipelines for each type: Numerical, Categorical\n",
    "num_pipeline = Pipeline([\n",
    "        ('imputer', SimpleImputer(strategy=\"median\")),\n",
    "        ])\n",
    "cat_pipeline = Pipeline([\n",
    "        ('imputer', SimpleImputer(strategy=\"most_frequent\")),\n",
    "        ('cat_encoder', OneHotEncoder())\n",
    "        ])\n",
    "\n",
    "#Create preprocessor pipeline\n",
    "preprocess_pipeline = ColumnTransformer([\n",
    "        (\"num_pipeline\", num_pipeline, num_variables),\n",
    "        (\"cat_pipeline\", cat_pipeline, cat_variables)\n",
    "])\n",
    "\n",
    "#Fit pipeline and transform it\n",
    "preprocess_pipeline.fit(credit_card_balance)\n",
    "preprocessed_credit_card_balance = preprocess_pipeline.transform(credit_card_balance)\n",
    "\n",
    "#Get the new categorical features names after the pipeline\n",
    "cat_feature_names = list(preprocess_pipeline.named_transformers_['cat_pipeline'].named_steps['cat_encoder'].get_feature_names_out(cat_variables))\n",
    "\n",
    "#Get all the new features names\n",
    "feature_names = num_variables + cat_feature_names\n",
    "\n",
    "#Create a new dataframe with all the data preprocessed \n",
    "transformed_credit_card_balance_df = pd.DataFrame(preprocessed_credit_card_balance, columns=feature_names)\n",
    "transformed_credit_card_balance_df = pd.concat([credit_card_balance[[\"SK_ID_CURR\", 'SK_ID_PREV']],transformed_credit_card_balance_df], axis=1)"
   ]
  },
  {
   "attachments": {},
   "cell_type": "markdown",
   "metadata": {},
   "source": [
    "#### Group the clients' data to merge with the applications table (one row per client)"
   ]
  },
  {
   "attachments": {},
   "cell_type": "markdown",
   "metadata": {},
   "source": [
    "In the original dataset, we have one row per month of previous contract. Therefore, for example, in the column “NAME_CONTRACT_STATUS_Completed”, we will get a 1 in each one of the months of a contract. Imagining we have 5 months in a specific contract, if we sum those binary values, we would get a result saying that we had 5 contracts completed, and that would be misleading since the truth is that we only have one. Therefore, we will need to aggregate the columns twice to achieve the desired result."
   ]
  },
  {
   "cell_type": "code",
   "execution_count": 58,
   "metadata": {},
   "outputs": [],
   "source": [
    "credit_card_balance_grouped = transformed_credit_card_balance_df.groupby([\"SK_ID_CURR\", \"SK_ID_PREV\"]).agg({\n",
    "    'AMT_BALANCE': 'mean',\n",
    "    'AMT_CREDIT_LIMIT_ACTUAL': 'mean',\n",
    "    'AMT_DRAWINGS_CURRENT': 'mean',\n",
    "    'AMT_PAYMENT_CURRENT': 'mean',\n",
    "    'AMT_TOTAL_RECEIVABLE': 'mean',\n",
    "    'CNT_DRAWINGS_CURRENT': 'mean',\n",
    "    'CNT_INSTALMENT_MATURE_CUM': 'mean',\n",
    "    'NAME_CONTRACT_STATUS_Active': 'max',\n",
    "    'NAME_CONTRACT_STATUS_Approved': 'max',\n",
    "    'NAME_CONTRACT_STATUS_Completed': 'max',\n",
    "    'NAME_CONTRACT_STATUS_Demand': 'max',\n",
    "    'NAME_CONTRACT_STATUS_Refused': 'max',\n",
    "    'NAME_CONTRACT_STATUS_Sent proposal': 'max',\n",
    "    'NAME_CONTRACT_STATUS_Signed': 'max'\n",
    "}).reset_index()\n",
    "\n",
    "credit_card_balance_grouped = credit_card_balance_grouped.groupby(\"SK_ID_CURR\").agg({\n",
    "    \"SK_ID_PREV\": \"count\",\n",
    "    'AMT_BALANCE': 'mean',\n",
    "    'AMT_CREDIT_LIMIT_ACTUAL': 'mean',\n",
    "    'AMT_DRAWINGS_CURRENT': 'mean',\n",
    "    'AMT_PAYMENT_CURRENT': 'mean',\n",
    "    'AMT_TOTAL_RECEIVABLE': 'mean',\n",
    "    'CNT_DRAWINGS_CURRENT': 'mean',\n",
    "    'CNT_INSTALMENT_MATURE_CUM': 'mean',\n",
    "    'NAME_CONTRACT_STATUS_Active': 'sum',\n",
    "    'NAME_CONTRACT_STATUS_Approved': 'sum',\n",
    "    'NAME_CONTRACT_STATUS_Completed': 'sum',\n",
    "    'NAME_CONTRACT_STATUS_Demand': 'sum',\n",
    "    'NAME_CONTRACT_STATUS_Refused': 'sum',\n",
    "    'NAME_CONTRACT_STATUS_Sent proposal': 'sum',\n",
    "    'NAME_CONTRACT_STATUS_Signed': 'sum'\n",
    "}).reset_index()\n",
    "\n",
    "# Rename SK_ID_PREV (it is no longer an id of previous applications, but the count of them)\n",
    "credit_card_balance_grouped = credit_card_balance_grouped.rename(columns={'SK_ID_PREV': 'COUNT_PREV'})\n",
    "\n",
    "# Rename all the exclusive features that belongs to the Credit Card Table so later it becomes more clear while performing analysis\n",
    "credit_card_balance_grouped.columns = [\"SK_ID_CURR\"] + [col + '_CCB' for col in credit_card_balance_grouped.columns if col not in [\"SK_ID_CURR\"]]"
   ]
  },
  {
   "attachments": {},
   "cell_type": "markdown",
   "metadata": {},
   "source": [
    "### Installment payments\n",
    "\n"
   ]
  },
  {
   "attachments": {},
   "cell_type": "markdown",
   "metadata": {},
   "source": [
    "There is: \n",
    "- one row for every payment that was made\n",
    "  \n",
    "- one row each for missed payment\n",
    "  \n",
    "One row is equivalent to one payment of one installment OR one installment corresponding to one payment of one previous Home Credit credit related to loans in our sample."
   ]
  },
  {
   "cell_type": "code",
   "execution_count": 75,
   "metadata": {},
   "outputs": [],
   "source": [
    "#Path for the file, change it if necessary\n",
    "installment_payments = pd.read_csv('../all/installments_payments.csv')\n",
    "\n",
    "#Values \"XNA\" (not availables) will be replaced by NaN values\n",
    "installment_payments.replace(\"XNA\", np.nan, inplace=True)"
   ]
  },
  {
   "cell_type": "code",
   "execution_count": 76,
   "metadata": {},
   "outputs": [
    {
     "name": "stdout",
     "output_type": "stream",
     "text": [
      "There are 0 in the previous applications table\n"
     ]
    }
   ],
   "source": [
    "#See if there are any duplicated rows\n",
    "duplicate_rows = installment_payments[installment_payments.duplicated()]\n",
    "print(f\"There are {len(duplicate_rows)} in the previous applications table\")"
   ]
  },
  {
   "attachments": {},
   "cell_type": "markdown",
   "metadata": {},
   "source": [
    "#### Analyzing missing values"
   ]
  },
  {
   "attachments": {},
   "cell_type": "markdown",
   "metadata": {},
   "source": [
    "Building a model on variables that have higher than 40% missing values may lead to misleading results since we either have to decrease our sample greatly or substitute the missing values, therefore, we will exclude the variables with missing values higher or equal to 40%"
   ]
  },
  {
   "cell_type": "code",
   "execution_count": 77,
   "metadata": {},
   "outputs": [],
   "source": [
    "missing_percentages = installment_payments.isna().mean() * 100\n",
    "feature = missing_percentages.index.tolist() \n",
    "percentage = missing_percentages.tolist()\n",
    "\n",
    "# Find columns with missing values above 40%\n",
    "columns_to_drop = [feat for feat, perc in zip(feature, percentage) if perc > 40]\n",
    "\n",
    "# Drop the columns with missing values above 40%\n",
    "installment_payments.drop(columns=columns_to_drop,inplace=True)"
   ]
  },
  {
   "attachments": {},
   "cell_type": "markdown",
   "metadata": {},
   "source": [
    "#### Dividing the variables by type to facilitate the EDA and Data Cleaning"
   ]
  },
  {
   "cell_type": "code",
   "execution_count": 78,
   "metadata": {},
   "outputs": [
    {
     "name": "stdout",
     "output_type": "stream",
     "text": [
      "Categorical variables (non-binary coded): []\n",
      "Categorical variables (binary): []\n",
      "Numerical variables: ['NUM_INSTALMENT_NUMBER', 'NUM_INSTALMENT_VERSION', 'DAYS_INSTALMENT', 'DAYS_ENTRY_PAYMENT', 'AMT_INSTALMENT', 'AMT_PAYMENT']\n"
     ]
    }
   ],
   "source": [
    "variables_type = pd.DataFrame(installment_payments.dtypes)\n",
    "\n",
    "# Get all categorical variables\n",
    "cat_variables = list(variables_type[variables_type[0] == \"object\"].index)\n",
    "\n",
    "# Get all integer variables \n",
    "int_variables = list(variables_type[variables_type[0] == \"int64\"].index)\n",
    "\n",
    "# Get all float variables\n",
    "float_variables = list(variables_type[variables_type[0] == \"float64\"].index)\n",
    "\n",
    "# Get all binary variables\n",
    "cat_binary_variables = []\n",
    "for i in installment_payments:\n",
    "    if ((list(installment_payments[i].unique()) == [0,1]) or (list(installment_payments[i].unique()) == [1,0])) and (i != \"TARGET\"):\n",
    "        cat_binary_variables.append(i)\n",
    "\n",
    "int_with_no_binary = [j for j in int_variables if j not in cat_binary_variables and j not in [\"SK_ID_CURR\",\"SK_ID_PREV\"]]\n",
    "\n",
    "#Merge all numerical variables\n",
    "num_variables = int_with_no_binary + float_variables\n",
    "\n",
    "#Print the different variable types\n",
    "print(\"Categorical variables (non-binary coded):\", cat_variables)\n",
    "print(\"Categorical variables (binary):\", cat_binary_variables)\n",
    "print(\"Numerical variables:\", num_variables)"
   ]
  },
  {
   "attachments": {},
   "cell_type": "markdown",
   "metadata": {},
   "source": [
    "#### Cleaning all remaining variables"
   ]
  },
  {
   "attachments": {},
   "cell_type": "markdown",
   "metadata": {},
   "source": [
    "##### Numerical variables"
   ]
  },
  {
   "cell_type": "code",
   "execution_count": 79,
   "metadata": {},
   "outputs": [
    {
     "data": {
      "text/html": [
       "<div>\n",
       "<style scoped>\n",
       "    .dataframe tbody tr th:only-of-type {\n",
       "        vertical-align: middle;\n",
       "    }\n",
       "\n",
       "    .dataframe tbody tr th {\n",
       "        vertical-align: top;\n",
       "    }\n",
       "\n",
       "    .dataframe thead th {\n",
       "        text-align: right;\n",
       "    }\n",
       "</style>\n",
       "<table border=\"1\" class=\"dataframe\">\n",
       "  <thead>\n",
       "    <tr style=\"text-align: right;\">\n",
       "      <th></th>\n",
       "      <th>NUM_INSTALMENT_NUMBER</th>\n",
       "      <th>NUM_INSTALMENT_VERSION</th>\n",
       "      <th>DAYS_INSTALMENT</th>\n",
       "      <th>DAYS_ENTRY_PAYMENT</th>\n",
       "      <th>AMT_INSTALMENT</th>\n",
       "      <th>AMT_PAYMENT</th>\n",
       "    </tr>\n",
       "  </thead>\n",
       "  <tbody>\n",
       "    <tr>\n",
       "      <th>count</th>\n",
       "      <td>1.360540e+07</td>\n",
       "      <td>1.360540e+07</td>\n",
       "      <td>1.360540e+07</td>\n",
       "      <td>1.360250e+07</td>\n",
       "      <td>1.360540e+07</td>\n",
       "      <td>1.360250e+07</td>\n",
       "    </tr>\n",
       "    <tr>\n",
       "      <th>mean</th>\n",
       "      <td>1.887090e+01</td>\n",
       "      <td>8.566373e-01</td>\n",
       "      <td>-1.042270e+03</td>\n",
       "      <td>-1.051114e+03</td>\n",
       "      <td>1.705091e+04</td>\n",
       "      <td>1.723822e+04</td>\n",
       "    </tr>\n",
       "    <tr>\n",
       "      <th>std</th>\n",
       "      <td>2.666407e+01</td>\n",
       "      <td>1.035216e+00</td>\n",
       "      <td>8.009463e+02</td>\n",
       "      <td>8.005859e+02</td>\n",
       "      <td>5.057025e+04</td>\n",
       "      <td>5.473578e+04</td>\n",
       "    </tr>\n",
       "    <tr>\n",
       "      <th>min</th>\n",
       "      <td>1.000000e+00</td>\n",
       "      <td>0.000000e+00</td>\n",
       "      <td>-2.922000e+03</td>\n",
       "      <td>-4.921000e+03</td>\n",
       "      <td>0.000000e+00</td>\n",
       "      <td>0.000000e+00</td>\n",
       "    </tr>\n",
       "    <tr>\n",
       "      <th>25%</th>\n",
       "      <td>4.000000e+00</td>\n",
       "      <td>0.000000e+00</td>\n",
       "      <td>-1.654000e+03</td>\n",
       "      <td>-1.662000e+03</td>\n",
       "      <td>4.226085e+03</td>\n",
       "      <td>3.398265e+03</td>\n",
       "    </tr>\n",
       "    <tr>\n",
       "      <th>50%</th>\n",
       "      <td>8.000000e+00</td>\n",
       "      <td>1.000000e+00</td>\n",
       "      <td>-8.180000e+02</td>\n",
       "      <td>-8.270000e+02</td>\n",
       "      <td>8.884080e+03</td>\n",
       "      <td>8.125515e+03</td>\n",
       "    </tr>\n",
       "    <tr>\n",
       "      <th>75%</th>\n",
       "      <td>1.900000e+01</td>\n",
       "      <td>1.000000e+00</td>\n",
       "      <td>-3.610000e+02</td>\n",
       "      <td>-3.700000e+02</td>\n",
       "      <td>1.671021e+04</td>\n",
       "      <td>1.610842e+04</td>\n",
       "    </tr>\n",
       "    <tr>\n",
       "      <th>max</th>\n",
       "      <td>2.770000e+02</td>\n",
       "      <td>1.780000e+02</td>\n",
       "      <td>-1.000000e+00</td>\n",
       "      <td>-1.000000e+00</td>\n",
       "      <td>3.771488e+06</td>\n",
       "      <td>3.771488e+06</td>\n",
       "    </tr>\n",
       "  </tbody>\n",
       "</table>\n",
       "</div>"
      ],
      "text/plain": [
       "       NUM_INSTALMENT_NUMBER  NUM_INSTALMENT_VERSION  DAYS_INSTALMENT  \\\n",
       "count           1.360540e+07            1.360540e+07     1.360540e+07   \n",
       "mean            1.887090e+01            8.566373e-01    -1.042270e+03   \n",
       "std             2.666407e+01            1.035216e+00     8.009463e+02   \n",
       "min             1.000000e+00            0.000000e+00    -2.922000e+03   \n",
       "25%             4.000000e+00            0.000000e+00    -1.654000e+03   \n",
       "50%             8.000000e+00            1.000000e+00    -8.180000e+02   \n",
       "75%             1.900000e+01            1.000000e+00    -3.610000e+02   \n",
       "max             2.770000e+02            1.780000e+02    -1.000000e+00   \n",
       "\n",
       "       DAYS_ENTRY_PAYMENT  AMT_INSTALMENT   AMT_PAYMENT  \n",
       "count        1.360250e+07    1.360540e+07  1.360250e+07  \n",
       "mean        -1.051114e+03    1.705091e+04  1.723822e+04  \n",
       "std          8.005859e+02    5.057025e+04  5.473578e+04  \n",
       "min         -4.921000e+03    0.000000e+00  0.000000e+00  \n",
       "25%         -1.662000e+03    4.226085e+03  3.398265e+03  \n",
       "50%         -8.270000e+02    8.884080e+03  8.125515e+03  \n",
       "75%         -3.700000e+02    1.671021e+04  1.610842e+04  \n",
       "max         -1.000000e+00    3.771488e+06  3.771488e+06  "
      ]
     },
     "execution_count": 79,
     "metadata": {},
     "output_type": "execute_result"
    }
   ],
   "source": [
    "#Using describe method for numerical variables to get summary statistics and explore the data\n",
    "installment_payments[num_variables].describe()"
   ]
  },
  {
   "attachments": {},
   "cell_type": "markdown",
   "metadata": {},
   "source": [
    "#### Transformation Pipeline"
   ]
  },
  {
   "cell_type": "code",
   "execution_count": 80,
   "metadata": {},
   "outputs": [],
   "source": [
    "#Define a function to add features\n",
    "def add_features(X):\n",
    "    DAYS_PAYMENT_DELAY = X[:, DAYS_ENTRY_PAYMENT] - X[:, DAYS_INSTALMENT]\n",
    "    AMT_MISSING_PAYMENT = X[:, AMT_INSTALMENT] - X[:, AMT_PAYMENT]\n",
    "    INSTALLMENT_PAYED = [0 if i == 0 else 1 for i in X[:, DAYS_ENTRY_PAYMENT]]\n",
    "    return np.c_[DAYS_PAYMENT_DELAY, AMT_MISSING_PAYMENT, INSTALLMENT_PAYED]"
   ]
  },
  {
   "attachments": {},
   "cell_type": "markdown",
   "metadata": {},
   "source": [
    "DAYS_INSTALMENT columns says when the installment of previous credit was supposed to be paid, and DAYS_ENTRY_PAYMENT says when was the installments of previous credit paid actually. We'll drop those two columns and replace them with one with the difference between both. That new column will show the delay in the installment payment.\n",
    "\n",
    "When that value is positive, we have a delay (for example, if it is -3, we payed with 3 days delay). If it is negative, we payed ahed (for example, if it is 3, we payed 3 days ahead of time)."
   ]
  },
  {
   "cell_type": "code",
   "execution_count": 81,
   "metadata": {},
   "outputs": [],
   "source": [
    "features_1 = ['DAYS_INSTALMENT', 'DAYS_ENTRY_PAYMENT', 'AMT_INSTALMENT', 'AMT_PAYMENT']\n",
    "\n",
    "#Create Pipelines for each type: Numerical\n",
    "DAYS_ENTRY_PAYMENT, DAYS_INSTALMENT, AMT_INSTALMENT, AMT_PAYMENT = [\n",
    "    list(features_1).index(col)\n",
    "    for col in ('DAYS_ENTRY_PAYMENT', 'DAYS_INSTALMENT', 'AMT_INSTALMENT', 'AMT_PAYMENT')]\n",
    "\n",
    "features1_pipeline = Pipeline([\n",
    "        ('imputer', SimpleImputer(strategy=\"constant\", fill_value=0)),\n",
    "        ('add_features', FunctionTransformer(add_features, validate=False))\n",
    "        ])\n",
    "\n",
    "preprocessor = ColumnTransformer([('features1_pipeline', features1_pipeline, features_1)])\n",
    "\n",
    "#Fit pipeline and transform it\n",
    "preprocessor.fit(installment_payments)\n",
    "process_installment_payments = preprocessor.transform(installment_payments)\n",
    "\n",
    "#Create a dataframe with the data preprocessed\n",
    "new_installment_payments = pd.concat([installment_payments[[\"SK_ID_CURR\",\"SK_ID_PREV\"]], \n",
    "                                      pd.DataFrame(process_installment_payments, \n",
    "                                                   columns=[\"DAYS_PAYMENT_DELAY\", \"AMT_MISSING_PAYMENT\", \"INSTALLMENT_PAYED\"])],\n",
    "                                    axis=1\n",
    "                                    )"
   ]
  },
  {
   "attachments": {},
   "cell_type": "markdown",
   "metadata": {},
   "source": [
    "#### Group the clients' data to merge with the applications table (one row per client)"
   ]
  },
  {
   "cell_type": "code",
   "execution_count": 82,
   "metadata": {},
   "outputs": [],
   "source": [
    "# Perform groupby\n",
    "grouped_installment_payments = new_installment_payments.groupby(\"SK_ID_CURR\").agg(\n",
    "    {'SK_ID_PREV': 'count',\n",
    "     'DAYS_PAYMENT_DELAY': 'mean',\n",
    "     'AMT_MISSING_PAYMENT': 'sum',\n",
    "     'INSTALLMENT_PAYED': 'sum'}\n",
    ").reset_index()\n",
    "\n",
    "# Rename SK_ID_PREV (it is no longer an id of previous applications, but the count of them)\n",
    "grouped_installment_payments.rename(columns = {'SK_ID_PREV':'COUNT_PREV'}, inplace=True)\n",
    "\n",
    "# Add a sufix \"_IP\" to identify features from Installment payments table \n",
    "grouped_installment_payments.columns = [\"SK_ID_CURR\"] + [col + '_IP' for col in grouped_installment_payments.columns if col not in [\"SK_ID_CURR\"]]"
   ]
  },
  {
   "attachments": {},
   "cell_type": "markdown",
   "metadata": {},
   "source": [
    "### Bureau"
   ]
  },
  {
   "attachments": {},
   "cell_type": "markdown",
   "metadata": {},
   "source": [
    "#### Bureau Balance"
   ]
  },
  {
   "attachments": {},
   "cell_type": "markdown",
   "metadata": {},
   "source": [
    "This table has one row for each month of history of every previous credit reported to Credit Bureau – i.e the table has (#loans in sample * # of relative previous credits * # of months where we have some history observable for the previous credits) rows."
   ]
  },
  {
   "cell_type": "code",
   "execution_count": 100,
   "metadata": {},
   "outputs": [],
   "source": [
    "#Path for the file, change it if necessary\n",
    "bureau_balance = pd.read_csv(\"bureau_balance.csv\")\n",
    "\n",
    "#Values \"XNA\" (not availables) will be replaced by NaN values\n",
    "bureau_balance.replace(\"XNA\", np.nan, inplace=True)"
   ]
  },
  {
   "cell_type": "code",
   "execution_count": 101,
   "metadata": {},
   "outputs": [
    {
     "name": "stdout",
     "output_type": "stream",
     "text": [
      "There are 0 in the previous applications table\n"
     ]
    }
   ],
   "source": [
    "#See if there are any duplicated rows\n",
    "duplicate_rows = bureau_balance[bureau_balance.duplicated()]\n",
    "print(f\"There are {len(duplicate_rows)} in the previous applications table\")"
   ]
  },
  {
   "attachments": {},
   "cell_type": "markdown",
   "metadata": {},
   "source": [
    "##### Analyzing missing values"
   ]
  },
  {
   "cell_type": "code",
   "execution_count": 102,
   "metadata": {},
   "outputs": [],
   "source": [
    "missing_percentages = bureau_balance.isna().mean() * 100\n",
    "feature = missing_percentages.index.tolist() \n",
    "percentage = missing_percentages.tolist()\n",
    "\n",
    "# Find columns with missing values above 40%\n",
    "columns_to_drop = [feat for feat, perc in zip(feature, percentage) if perc > 40]\n",
    "\n",
    "# Drop the columns with missing values above 40%\n",
    "bureau_balance.drop(columns=columns_to_drop,inplace=True)"
   ]
  },
  {
   "attachments": {},
   "cell_type": "markdown",
   "metadata": {},
   "source": [
    "##### Dividing the variables by type to facilitate the EDA and Data Cleaning"
   ]
  },
  {
   "cell_type": "code",
   "execution_count": 103,
   "metadata": {},
   "outputs": [
    {
     "data": {
      "text/html": [
       "<div>\n",
       "<style scoped>\n",
       "    .dataframe tbody tr th:only-of-type {\n",
       "        vertical-align: middle;\n",
       "    }\n",
       "\n",
       "    .dataframe tbody tr th {\n",
       "        vertical-align: top;\n",
       "    }\n",
       "\n",
       "    .dataframe thead th {\n",
       "        text-align: right;\n",
       "    }\n",
       "</style>\n",
       "<table border=\"1\" class=\"dataframe\">\n",
       "  <thead>\n",
       "    <tr style=\"text-align: right;\">\n",
       "      <th></th>\n",
       "      <th>SK_ID_BUREAU</th>\n",
       "      <th>MONTHS_BALANCE</th>\n",
       "      <th>STATUS</th>\n",
       "    </tr>\n",
       "  </thead>\n",
       "  <tbody>\n",
       "    <tr>\n",
       "      <th>0</th>\n",
       "      <td>5715448</td>\n",
       "      <td>0</td>\n",
       "      <td>C</td>\n",
       "    </tr>\n",
       "    <tr>\n",
       "      <th>1</th>\n",
       "      <td>5715448</td>\n",
       "      <td>-1</td>\n",
       "      <td>C</td>\n",
       "    </tr>\n",
       "    <tr>\n",
       "      <th>2</th>\n",
       "      <td>5715448</td>\n",
       "      <td>-2</td>\n",
       "      <td>C</td>\n",
       "    </tr>\n",
       "    <tr>\n",
       "      <th>3</th>\n",
       "      <td>5715448</td>\n",
       "      <td>-3</td>\n",
       "      <td>C</td>\n",
       "    </tr>\n",
       "    <tr>\n",
       "      <th>4</th>\n",
       "      <td>5715448</td>\n",
       "      <td>-4</td>\n",
       "      <td>C</td>\n",
       "    </tr>\n",
       "  </tbody>\n",
       "</table>\n",
       "</div>"
      ],
      "text/plain": [
       "   SK_ID_BUREAU  MONTHS_BALANCE STATUS\n",
       "0       5715448               0      C\n",
       "1       5715448              -1      C\n",
       "2       5715448              -2      C\n",
       "3       5715448              -3      C\n",
       "4       5715448              -4      C"
      ]
     },
     "execution_count": 103,
     "metadata": {},
     "output_type": "execute_result"
    }
   ],
   "source": [
    "bureau_balance.head(5)"
   ]
  },
  {
   "attachments": {},
   "cell_type": "markdown",
   "metadata": {},
   "source": [
    "\"MONTHS_BALANCE\" column is not relevant for the model - Further on, when data is grouped by client, we will use the most frequent status variable (to see if he normally pays his loans in a timely manner), therefore, it is irrelevant in which month this status occurs to predict repayment abilities."
   ]
  },
  {
   "cell_type": "code",
   "execution_count": 104,
   "metadata": {},
   "outputs": [
    {
     "name": "stdout",
     "output_type": "stream",
     "text": [
      "['C' '0' 'X' '1' '2' '3' '5' '4']\n"
     ]
    }
   ],
   "source": [
    "print(bureau_balance[\"STATUS\"].unique())"
   ]
  },
  {
   "cell_type": "code",
   "execution_count": 105,
   "metadata": {},
   "outputs": [],
   "source": [
    "# Replace X (status unknown) for NaN\n",
    "bureau_balance['STATUS'] = bureau_balance['STATUS'].replace('X', np.nan)"
   ]
  },
  {
   "attachments": {},
   "cell_type": "markdown",
   "metadata": {},
   "source": [
    "##### Transformation Pipeline"
   ]
  },
  {
   "cell_type": "code",
   "execution_count": 107,
   "metadata": {},
   "outputs": [],
   "source": [
    "#Create Pipeline for each type: Categorical\n",
    "cat_pipeline = Pipeline([\n",
    "        ('imputer', SimpleImputer(strategy=\"most_frequent\")),\n",
    "        ('cat_encoder', OneHotEncoder())\n",
    "        ])\n",
    "preprocess_pipeline = ColumnTransformer([\n",
    "        (\"cat_pipeline\", cat_pipeline, ['STATUS'])\n",
    "])\n",
    "\n",
    "#Fit and transform the pipeline\n",
    "preprocess_pipeline.fit(bureau_balance)\n",
    "preprocessed_bureau_balance = preprocess_pipeline.transform(bureau_balance)\n",
    "\n",
    "# Get the name of the new categorical features\n",
    "cat_feature_names = list(preprocess_pipeline.named_transformers_['cat_pipeline'].named_steps['cat_encoder'].get_feature_names_out(cat_variables))\n",
    "\n",
    "# Store the name of all features after the pipeline\n",
    "feature_names = cat_feature_names \n",
    "\n",
    "# Create a new dataframe with the new features after the pipeline\n",
    "dense_matrix_bureau_balance = preprocessed_bureau_balance.todense()\n",
    "preprocessed_bureau_balance_df = pd.DataFrame(dense_matrix_bureau_balance, columns=feature_names)\n",
    "transformed_bureau_balance_df = pd.concat([bureau_balance[\"SK_ID_BUREAU\"], preprocessed_bureau_balance_df], axis=1)"
   ]
  },
  {
   "attachments": {},
   "cell_type": "markdown",
   "metadata": {},
   "source": [
    "##### Group the clients' data to merge with the applications table (one row per client)"
   ]
  },
  {
   "cell_type": "code",
   "execution_count": 108,
   "metadata": {},
   "outputs": [],
   "source": [
    "bureau_balance = transformed_bureau_balance_df.groupby(\"SK_ID_BUREAU\").sum().reset_index()"
   ]
  },
  {
   "attachments": {},
   "cell_type": "markdown",
   "metadata": {},
   "source": [
    "#### Bureau"
   ]
  },
  {
   "attachments": {},
   "cell_type": "markdown",
   "metadata": {},
   "source": [
    "For every loan in our sample, there are as many rows as number of credits the client had in Credit Bureau before the application date."
   ]
  },
  {
   "cell_type": "code",
   "execution_count": 125,
   "metadata": {},
   "outputs": [],
   "source": [
    "#Path for the file, change it if necessary\n",
    "bureau = pd.read_csv(\"bureau.csv\")\n",
    "\n",
    "#Values \"XNA\" (not availables) will be replaced by NaN values\n",
    "bureau.replace(\"XNA\", np.nan, inplace=True)"
   ]
  },
  {
   "cell_type": "code",
   "execution_count": 126,
   "metadata": {},
   "outputs": [
    {
     "name": "stdout",
     "output_type": "stream",
     "text": [
      "There are 0 in the bureau table\n"
     ]
    }
   ],
   "source": [
    "#See if there are any duplicated rows\n",
    "duplicate_rows = bureau[bureau.duplicated()]\n",
    "print(f\"There are {len(duplicate_rows)} in the bureau table\")"
   ]
  },
  {
   "attachments": {},
   "cell_type": "markdown",
   "metadata": {},
   "source": [
    "##### Analyzing missing values"
   ]
  },
  {
   "cell_type": "code",
   "execution_count": 127,
   "metadata": {},
   "outputs": [],
   "source": [
    "missing_percentages = bureau_balance.isna().mean() * 100\n",
    "feature = missing_percentages.index.tolist() \n",
    "percentage = missing_percentages.tolist()\n",
    "\n",
    "# Find columns with missing values above 40%\n",
    "columns_to_drop = [feat for feat, perc in zip(feature, percentage) if perc > 40]\n",
    "\n",
    "# Drop the columns with missing values above 40%\n",
    "bureau_balance.drop(columns=columns_to_drop,inplace=True)"
   ]
  },
  {
   "attachments": {},
   "cell_type": "markdown",
   "metadata": {},
   "source": [
    "##### Dividing the variables by type to facilitate the EDA and Data Cleaning"
   ]
  },
  {
   "cell_type": "code",
   "execution_count": 128,
   "metadata": {},
   "outputs": [
    {
     "name": "stdout",
     "output_type": "stream",
     "text": [
      "Categorical variables (non-binary coded): ['CREDIT_ACTIVE', 'CREDIT_CURRENCY', 'CREDIT_TYPE']\n",
      "Categorical variables (binary): []\n",
      "Numerical variables: ['DAYS_CREDIT', 'CREDIT_DAY_OVERDUE', 'CNT_CREDIT_PROLONG', 'DAYS_CREDIT_UPDATE', 'DAYS_CREDIT_ENDDATE', 'DAYS_ENDDATE_FACT', 'AMT_CREDIT_MAX_OVERDUE', 'AMT_CREDIT_SUM', 'AMT_CREDIT_SUM_DEBT', 'AMT_CREDIT_SUM_LIMIT', 'AMT_CREDIT_SUM_OVERDUE', 'AMT_ANNUITY']\n"
     ]
    }
   ],
   "source": [
    "variables_type = pd.DataFrame(bureau.dtypes)\n",
    "\n",
    "# Get all categorical variables\n",
    "cat_variables = list(variables_type[variables_type[0] == \"object\"].index)\n",
    "\n",
    "# Get all integer variables\n",
    "int_variables = list(variables_type[variables_type[0] == \"int64\"].index)\n",
    "\n",
    "# Get all float variables\n",
    "float_variables = list(variables_type[variables_type[0] == \"float64\"].index)\n",
    "\n",
    "# Get all binary variables\n",
    "cat_binary_variables = []\n",
    "for i in bureau:\n",
    "    if ((list(bureau[i].unique()) == [0,1]) or (list(bureau[i].unique()) == [1,0])) and (i != \"TARGET\"):\n",
    "        cat_binary_variables.append(i)\n",
    "\n",
    "int_with_no_binary = [j for j in int_variables if j not in cat_binary_variables and j not in [\"SK_ID_CURR\", \"SK_ID_BUREAU\"]]\n",
    "\n",
    "# Merge all numerical variables\n",
    "num_variables = int_with_no_binary + float_variables\n",
    "\n",
    "print(\"Categorical variables (non-binary coded):\", cat_variables)\n",
    "print(\"Categorical variables (binary):\", cat_binary_variables)\n",
    "print(\"Numerical variables:\", num_variables)"
   ]
  },
  {
   "attachments": {},
   "cell_type": "markdown",
   "metadata": {},
   "source": [
    "##### Cleaning all remaining variables"
   ]
  },
  {
   "attachments": {},
   "cell_type": "markdown",
   "metadata": {},
   "source": [
    "Categorical variables"
   ]
  },
  {
   "cell_type": "code",
   "execution_count": 129,
   "metadata": {},
   "outputs": [
    {
     "name": "stdout",
     "output_type": "stream",
     "text": [
      "CREDIT_ACTIVE ['Closed' 'Active' 'Sold' 'Bad debt']\n",
      "CREDIT_CURRENCY ['currency 1' 'currency 2' 'currency 4' 'currency 3']\n",
      "CREDIT_TYPE ['Consumer credit' 'Credit card' 'Mortgage' 'Car loan' 'Microloan'\n",
      " 'Loan for working capital replenishment' 'Loan for business development'\n",
      " 'Real estate loan' 'Unknown type of loan' 'Another type of loan'\n",
      " 'Cash loan (non-earmarked)' 'Loan for the purchase of equipment'\n",
      " 'Mobile operator loan' 'Interbank credit'\n",
      " 'Loan for purchase of shares (margin lending)']\n"
     ]
    }
   ],
   "source": [
    "for i in cat_variables:\n",
    "    print(i, bureau[i].unique())"
   ]
  },
  {
   "attachments": {},
   "cell_type": "markdown",
   "metadata": {},
   "source": [
    "Numerical variables"
   ]
  },
  {
   "cell_type": "code",
   "execution_count": 130,
   "metadata": {},
   "outputs": [
    {
     "data": {
      "text/html": [
       "<div>\n",
       "<style scoped>\n",
       "    .dataframe tbody tr th:only-of-type {\n",
       "        vertical-align: middle;\n",
       "    }\n",
       "\n",
       "    .dataframe tbody tr th {\n",
       "        vertical-align: top;\n",
       "    }\n",
       "\n",
       "    .dataframe thead th {\n",
       "        text-align: right;\n",
       "    }\n",
       "</style>\n",
       "<table border=\"1\" class=\"dataframe\">\n",
       "  <thead>\n",
       "    <tr style=\"text-align: right;\">\n",
       "      <th></th>\n",
       "      <th>DAYS_CREDIT</th>\n",
       "      <th>CREDIT_DAY_OVERDUE</th>\n",
       "      <th>CNT_CREDIT_PROLONG</th>\n",
       "      <th>DAYS_CREDIT_UPDATE</th>\n",
       "      <th>DAYS_CREDIT_ENDDATE</th>\n",
       "      <th>DAYS_ENDDATE_FACT</th>\n",
       "      <th>AMT_CREDIT_MAX_OVERDUE</th>\n",
       "      <th>AMT_CREDIT_SUM</th>\n",
       "      <th>AMT_CREDIT_SUM_DEBT</th>\n",
       "      <th>AMT_CREDIT_SUM_LIMIT</th>\n",
       "      <th>AMT_CREDIT_SUM_OVERDUE</th>\n",
       "      <th>AMT_ANNUITY</th>\n",
       "    </tr>\n",
       "  </thead>\n",
       "  <tbody>\n",
       "    <tr>\n",
       "      <th>count</th>\n",
       "      <td>1.716428e+06</td>\n",
       "      <td>1.716428e+06</td>\n",
       "      <td>1.716428e+06</td>\n",
       "      <td>1.716428e+06</td>\n",
       "      <td>1.610875e+06</td>\n",
       "      <td>1.082775e+06</td>\n",
       "      <td>5.919400e+05</td>\n",
       "      <td>1.716415e+06</td>\n",
       "      <td>1.458759e+06</td>\n",
       "      <td>1.124648e+06</td>\n",
       "      <td>1.716428e+06</td>\n",
       "      <td>4.896370e+05</td>\n",
       "    </tr>\n",
       "    <tr>\n",
       "      <th>mean</th>\n",
       "      <td>-1.142108e+03</td>\n",
       "      <td>8.181666e-01</td>\n",
       "      <td>6.410406e-03</td>\n",
       "      <td>-5.937483e+02</td>\n",
       "      <td>5.105174e+02</td>\n",
       "      <td>-1.017437e+03</td>\n",
       "      <td>3.825418e+03</td>\n",
       "      <td>3.549946e+05</td>\n",
       "      <td>1.370851e+05</td>\n",
       "      <td>6.229515e+03</td>\n",
       "      <td>3.791276e+01</td>\n",
       "      <td>1.571276e+04</td>\n",
       "    </tr>\n",
       "    <tr>\n",
       "      <th>std</th>\n",
       "      <td>7.951649e+02</td>\n",
       "      <td>3.654443e+01</td>\n",
       "      <td>9.622391e-02</td>\n",
       "      <td>7.207473e+02</td>\n",
       "      <td>4.994220e+03</td>\n",
       "      <td>7.140106e+02</td>\n",
       "      <td>2.060316e+05</td>\n",
       "      <td>1.149811e+06</td>\n",
       "      <td>6.774011e+05</td>\n",
       "      <td>4.503203e+04</td>\n",
       "      <td>5.937650e+03</td>\n",
       "      <td>3.258269e+05</td>\n",
       "    </tr>\n",
       "    <tr>\n",
       "      <th>min</th>\n",
       "      <td>-2.922000e+03</td>\n",
       "      <td>0.000000e+00</td>\n",
       "      <td>0.000000e+00</td>\n",
       "      <td>-4.194700e+04</td>\n",
       "      <td>-4.206000e+04</td>\n",
       "      <td>-4.202300e+04</td>\n",
       "      <td>0.000000e+00</td>\n",
       "      <td>0.000000e+00</td>\n",
       "      <td>-4.705600e+06</td>\n",
       "      <td>-5.864061e+05</td>\n",
       "      <td>0.000000e+00</td>\n",
       "      <td>0.000000e+00</td>\n",
       "    </tr>\n",
       "    <tr>\n",
       "      <th>25%</th>\n",
       "      <td>-1.666000e+03</td>\n",
       "      <td>0.000000e+00</td>\n",
       "      <td>0.000000e+00</td>\n",
       "      <td>-9.080000e+02</td>\n",
       "      <td>-1.138000e+03</td>\n",
       "      <td>-1.489000e+03</td>\n",
       "      <td>0.000000e+00</td>\n",
       "      <td>5.130000e+04</td>\n",
       "      <td>0.000000e+00</td>\n",
       "      <td>0.000000e+00</td>\n",
       "      <td>0.000000e+00</td>\n",
       "      <td>0.000000e+00</td>\n",
       "    </tr>\n",
       "    <tr>\n",
       "      <th>50%</th>\n",
       "      <td>-9.870000e+02</td>\n",
       "      <td>0.000000e+00</td>\n",
       "      <td>0.000000e+00</td>\n",
       "      <td>-3.950000e+02</td>\n",
       "      <td>-3.300000e+02</td>\n",
       "      <td>-8.970000e+02</td>\n",
       "      <td>0.000000e+00</td>\n",
       "      <td>1.255185e+05</td>\n",
       "      <td>0.000000e+00</td>\n",
       "      <td>0.000000e+00</td>\n",
       "      <td>0.000000e+00</td>\n",
       "      <td>0.000000e+00</td>\n",
       "    </tr>\n",
       "    <tr>\n",
       "      <th>75%</th>\n",
       "      <td>-4.740000e+02</td>\n",
       "      <td>0.000000e+00</td>\n",
       "      <td>0.000000e+00</td>\n",
       "      <td>-3.300000e+01</td>\n",
       "      <td>4.740000e+02</td>\n",
       "      <td>-4.250000e+02</td>\n",
       "      <td>0.000000e+00</td>\n",
       "      <td>3.150000e+05</td>\n",
       "      <td>4.015350e+04</td>\n",
       "      <td>0.000000e+00</td>\n",
       "      <td>0.000000e+00</td>\n",
       "      <td>1.350000e+04</td>\n",
       "    </tr>\n",
       "    <tr>\n",
       "      <th>max</th>\n",
       "      <td>0.000000e+00</td>\n",
       "      <td>2.792000e+03</td>\n",
       "      <td>9.000000e+00</td>\n",
       "      <td>3.720000e+02</td>\n",
       "      <td>3.119900e+04</td>\n",
       "      <td>0.000000e+00</td>\n",
       "      <td>1.159872e+08</td>\n",
       "      <td>5.850000e+08</td>\n",
       "      <td>1.701000e+08</td>\n",
       "      <td>4.705600e+06</td>\n",
       "      <td>3.756681e+06</td>\n",
       "      <td>1.184534e+08</td>\n",
       "    </tr>\n",
       "  </tbody>\n",
       "</table>\n",
       "</div>"
      ],
      "text/plain": [
       "        DAYS_CREDIT  CREDIT_DAY_OVERDUE  CNT_CREDIT_PROLONG  \\\n",
       "count  1.716428e+06        1.716428e+06        1.716428e+06   \n",
       "mean  -1.142108e+03        8.181666e-01        6.410406e-03   \n",
       "std    7.951649e+02        3.654443e+01        9.622391e-02   \n",
       "min   -2.922000e+03        0.000000e+00        0.000000e+00   \n",
       "25%   -1.666000e+03        0.000000e+00        0.000000e+00   \n",
       "50%   -9.870000e+02        0.000000e+00        0.000000e+00   \n",
       "75%   -4.740000e+02        0.000000e+00        0.000000e+00   \n",
       "max    0.000000e+00        2.792000e+03        9.000000e+00   \n",
       "\n",
       "       DAYS_CREDIT_UPDATE  DAYS_CREDIT_ENDDATE  DAYS_ENDDATE_FACT  \\\n",
       "count        1.716428e+06         1.610875e+06       1.082775e+06   \n",
       "mean        -5.937483e+02         5.105174e+02      -1.017437e+03   \n",
       "std          7.207473e+02         4.994220e+03       7.140106e+02   \n",
       "min         -4.194700e+04        -4.206000e+04      -4.202300e+04   \n",
       "25%         -9.080000e+02        -1.138000e+03      -1.489000e+03   \n",
       "50%         -3.950000e+02        -3.300000e+02      -8.970000e+02   \n",
       "75%         -3.300000e+01         4.740000e+02      -4.250000e+02   \n",
       "max          3.720000e+02         3.119900e+04       0.000000e+00   \n",
       "\n",
       "       AMT_CREDIT_MAX_OVERDUE  AMT_CREDIT_SUM  AMT_CREDIT_SUM_DEBT  \\\n",
       "count            5.919400e+05    1.716415e+06         1.458759e+06   \n",
       "mean             3.825418e+03    3.549946e+05         1.370851e+05   \n",
       "std              2.060316e+05    1.149811e+06         6.774011e+05   \n",
       "min              0.000000e+00    0.000000e+00        -4.705600e+06   \n",
       "25%              0.000000e+00    5.130000e+04         0.000000e+00   \n",
       "50%              0.000000e+00    1.255185e+05         0.000000e+00   \n",
       "75%              0.000000e+00    3.150000e+05         4.015350e+04   \n",
       "max              1.159872e+08    5.850000e+08         1.701000e+08   \n",
       "\n",
       "       AMT_CREDIT_SUM_LIMIT  AMT_CREDIT_SUM_OVERDUE   AMT_ANNUITY  \n",
       "count          1.124648e+06            1.716428e+06  4.896370e+05  \n",
       "mean           6.229515e+03            3.791276e+01  1.571276e+04  \n",
       "std            4.503203e+04            5.937650e+03  3.258269e+05  \n",
       "min           -5.864061e+05            0.000000e+00  0.000000e+00  \n",
       "25%            0.000000e+00            0.000000e+00  0.000000e+00  \n",
       "50%            0.000000e+00            0.000000e+00  0.000000e+00  \n",
       "75%            0.000000e+00            0.000000e+00  1.350000e+04  \n",
       "max            4.705600e+06            3.756681e+06  1.184534e+08  "
      ]
     },
     "execution_count": 130,
     "metadata": {},
     "output_type": "execute_result"
    }
   ],
   "source": [
    "bureau[num_variables].describe()"
   ]
  },
  {
   "cell_type": "markdown",
   "metadata": {},
   "source": [
    "Findings:\n",
    "\n",
    "* \"DAYS(...)\" variables are counter-intuitively negative"
   ]
  },
  {
   "cell_type": "code",
   "execution_count": 131,
   "metadata": {},
   "outputs": [],
   "source": [
    "#Put day variables in a list to be transformed together in the preprocessing pipeline, and exclude them from num_variables \n",
    "day_variables = [col for col in bureau.columns if 'DAYS' in col]\n",
    "num_variables = [i for i in num_variables if i not in day_variables]"
   ]
  },
  {
   "attachments": {},
   "cell_type": "markdown",
   "metadata": {},
   "source": [
    "##### Transformation Pipeline"
   ]
  },
  {
   "cell_type": "code",
   "execution_count": 132,
   "metadata": {},
   "outputs": [],
   "source": [
    "# Create a DataFrameSelector Class to be used on the pipeline\n",
    "class DataFrameSelector(BaseEstimator, TransformerMixin):\n",
    "    def __init__(self, attribute_names):\n",
    "        self.attribute_names = attribute_names\n",
    "    def fit(self, y=None):\n",
    "        return self\n",
    "    def transform(self, bureau):\n",
    "        return bureau[self.attribute_names].values\n",
    "    def get_feature_names(self):\n",
    "        return self.attribute_names\n",
    "    \n",
    "# Create a NegativeToPositive Class to transform day columns\n",
    "class NegativeToPositive(BaseEstimator, TransformerMixin):\n",
    "    def __init__(self, attribute_names):\n",
    "        self.attribute_names = attribute_names\n",
    "    def fit(self, bureau, y=None):\n",
    "        return self\n",
    "    def transform(self, bureau):\n",
    "        bureau[self.attribute_names] = abs(bureau[self.attribute_names])\n",
    "        return bureau[self.attribute_names]"
   ]
  },
  {
   "cell_type": "code",
   "execution_count": 133,
   "metadata": {},
   "outputs": [],
   "source": [
    "# Create the pipeline for each type: Numerical, Days, Categorical\n",
    "num_pipeline = Pipeline([\n",
    "        ('imputer', SimpleImputer(strategy=\"median\"))\n",
    "        ])\n",
    "\n",
    "day_col_pipeline = Pipeline([\n",
    "        ('neg_to_pos', NegativeToPositive(day_variables)),\n",
    "        ('imputer', SimpleImputer(strategy=\"median\"))\n",
    "        ])\n",
    "\n",
    "cat_pipeline = Pipeline([\n",
    "        ('imputer', SimpleImputer(strategy=\"most_frequent\")),\n",
    "        ('cat_encoder', OneHotEncoder())\n",
    "        ])\n",
    "\n",
    "preprocess_pipeline = ColumnTransformer([\n",
    "        (\"num_pipeline\", num_pipeline, num_variables),\n",
    "        (\"days_pipeline\", day_col_pipeline, day_variables),\n",
    "        (\"cat_pipeline\", cat_pipeline, cat_variables)\n",
    "])\n",
    "\n",
    "# Fit and transform the pipeline\n",
    "preprocess_pipeline.fit(bureau)\n",
    "preprocessed_bureau = preprocess_pipeline.transform(bureau)\n",
    "\n",
    "# Get the name of the new categorical features generated by the pipeline\n",
    "cat_feature_names = list(preprocess_pipeline.named_transformers_['cat_pipeline'].named_steps['cat_encoder'].get_feature_names_out(cat_variables))\n",
    "\n",
    "# Get the name of all features\n",
    "feature_names = num_variables + day_variables + cat_feature_names\n",
    "\n",
    "# Create a new dataframe with the features after being preprocessed\n",
    "transformed_bureau_df = pd.DataFrame(preprocessed_bureau, columns=feature_names)\n",
    "transformed_bureau_df = pd.concat([bureau[[\"SK_ID_CURR\", \"SK_ID_BUREAU\"]],transformed_bureau_df], axis=1)"
   ]
  },
  {
   "attachments": {},
   "cell_type": "markdown",
   "metadata": {},
   "source": [
    "#### Bureau + Bureau Balance "
   ]
  },
  {
   "cell_type": "code",
   "execution_count": 134,
   "metadata": {},
   "outputs": [],
   "source": [
    "#Merge bureau and bureau balance dataframes on the SK_ID_BUREAU\n",
    "bureau_merged = transformed_bureau_df.merge(bureau_balance, on=\"SK_ID_BUREAU\", how=\"inner\")"
   ]
  },
  {
   "attachments": {},
   "cell_type": "markdown",
   "metadata": {},
   "source": [
    "##### Group the clients' data to merge with the applications table (one row per client)"
   ]
  },
  {
   "cell_type": "code",
   "execution_count": 135,
   "metadata": {},
   "outputs": [],
   "source": [
    "# Perform groupby with aggregation functions customized for each column\n",
    "bureau_all = bureau_merged.groupby('SK_ID_CURR').agg(\n",
    "    {'SK_ID_BUREAU': 'count',\n",
    "    'CREDIT_DAY_OVERDUE': 'mean',\n",
    "    'CNT_CREDIT_PROLONG': 'mean',\n",
    "    'AMT_CREDIT_SUM': 'mean',\n",
    "    'AMT_CREDIT_SUM_DEBT': 'mean',\n",
    "    'AMT_CREDIT_SUM_LIMIT': 'mean',\n",
    "    'AMT_CREDIT_SUM_OVERDUE': 'mean',\n",
    "    'DAYS_CREDIT': 'mean',\n",
    "    'DAYS_CREDIT_ENDDATE': 'mean',\n",
    "    'DAYS_ENDDATE_FACT': 'mean',\n",
    "    'DAYS_CREDIT_UPDATE': 'mean',\n",
    "    'CREDIT_ACTIVE_Active': 'sum',\n",
    "    'CREDIT_ACTIVE_Bad debt': 'sum',\n",
    "    'CREDIT_ACTIVE_Closed': 'sum',\n",
    "    'CREDIT_ACTIVE_Sold': 'sum',\n",
    "    'CREDIT_CURRENCY_currency 1': 'sum',\n",
    "    'CREDIT_CURRENCY_currency 2': 'sum',\n",
    "    'CREDIT_CURRENCY_currency 3': 'sum',\n",
    "    'CREDIT_CURRENCY_currency 4': 'sum',\n",
    "    'CREDIT_TYPE_Another type of loan': 'sum',\n",
    "    'CREDIT_TYPE_Car loan': 'sum',\n",
    "    'CREDIT_TYPE_Cash loan (non-earmarked)': 'sum',\n",
    "    'CREDIT_TYPE_Consumer credit': 'sum',\n",
    "    'CREDIT_TYPE_Credit card': 'sum',\n",
    "    'CREDIT_TYPE_Interbank credit': 'sum',\n",
    "    'CREDIT_TYPE_Loan for business development': 'sum',\n",
    "    'CREDIT_TYPE_Loan for purchase of shares (margin lending)': 'sum',\n",
    "    'CREDIT_TYPE_Loan for the purchase of equipment': 'sum',\n",
    "    'CREDIT_TYPE_Loan for working capital replenishment': 'sum',\n",
    "    'CREDIT_TYPE_Microloan': 'sum',\n",
    "    'CREDIT_TYPE_Mobile operator loan': 'sum',\n",
    "    'CREDIT_TYPE_Mortgage': 'sum',\n",
    "    'CREDIT_TYPE_Real estate loan': 'sum',\n",
    "    'CREDIT_TYPE_Unknown type of loan': 'sum',\n",
    "    'STATUS_0': 'sum',\n",
    "    'STATUS_1': 'sum',\n",
    "    'STATUS_2': 'sum',\n",
    "    'STATUS_3': 'sum',\n",
    "    'STATUS_4': 'sum',\n",
    "    'STATUS_5': 'sum',\n",
    "    'STATUS_C': 'sum',\n",
    "    }).reset_index()\n",
    "\n",
    "# Add a sufix \"_BU\" to identify features from bureau table\n",
    "bureau_all.columns = [\"SK_ID_CURR\"] + [col + '_BU' for col in bureau_all.columns if col not in [\"SK_ID_CURR\"]]"
   ]
  },
  {
   "cell_type": "markdown",
   "metadata": {},
   "source": [
    "### POSH_CASH_balance"
   ]
  },
  {
   "cell_type": "markdown",
   "metadata": {},
   "source": [
    "Monthly balance snapshots of previous POS (point of sales) and cash loans that the applicant had with Home Credit."
   ]
  },
  {
   "cell_type": "code",
   "execution_count": null,
   "metadata": {},
   "outputs": [],
   "source": [
    "#Path for the file, change it if necessary\n",
    "posh_cash = pd.read_csv(\"POS_CASH_balance.csv\")\n",
    "\n",
    "#Values \"XNA\" (not availables) will be replaced by NaN values\n",
    "posh_cash.replace(\"XNA\", np.nan, inplace=True)"
   ]
  },
  {
   "cell_type": "code",
   "execution_count": null,
   "metadata": {},
   "outputs": [
    {
     "name": "stdout",
     "output_type": "stream",
     "text": [
      "There are 0 in the posh_cash table\n"
     ]
    }
   ],
   "source": [
    "#See if there are any duplicated rows\n",
    "duplicate_rows = posh_cash[posh_cash.duplicated()]\n",
    "print(f\"There are {len(duplicate_rows)} in the posh_cash table\")"
   ]
  },
  {
   "cell_type": "markdown",
   "metadata": {},
   "source": [
    "#### Analyzing missing values"
   ]
  },
  {
   "cell_type": "code",
   "execution_count": null,
   "metadata": {},
   "outputs": [],
   "source": [
    "missing_percentages = posh_cash.isna().mean() * 100\n",
    "feature = missing_percentages.index.tolist() \n",
    "percentage = missing_percentages.tolist()\n",
    "\n",
    "# Find columns with missing values above 40%\n",
    "columns_to_drop = [feat for feat, perc in zip(feature, percentage) if perc > 40]\n",
    "\n",
    "# Drop the columns with missing values above 40%\n",
    "posh_cash.drop(columns=columns_to_drop,inplace=True)"
   ]
  },
  {
   "cell_type": "markdown",
   "metadata": {},
   "source": [
    "#### Dividing the variables by type to facilitate the EDA and Data Cleaning"
   ]
  },
  {
   "cell_type": "code",
   "execution_count": null,
   "metadata": {},
   "outputs": [
    {
     "name": "stdout",
     "output_type": "stream",
     "text": [
      "Categorical variables (non-binary coded): ['NAME_CONTRACT_STATUS']\n",
      "Categorical variables (binary): []\n",
      "Numerical variables: ['MONTHS_BALANCE', 'SK_DPD', 'SK_DPD_DEF', 'CNT_INSTALMENT', 'CNT_INSTALMENT_FUTURE']\n"
     ]
    }
   ],
   "source": [
    "variables_type = pd.DataFrame(posh_cash.dtypes)\n",
    "\n",
    "cat_variables = list(variables_type[variables_type[0] == \"object\"].index)\n",
    "\n",
    "int_variables = list(variables_type[variables_type[0] == \"int64\"].index)\n",
    "\n",
    "float_variables = list(variables_type[variables_type[0] == \"float64\"].index)\n",
    "\n",
    "cat_binary_variables = []\n",
    "for i in posh_cash:\n",
    "    if ((list(posh_cash[i].unique()) == [0,1]) or (list(posh_cash[i].unique()) == [1,0])) and (i != \"TARGET\"):\n",
    "        cat_binary_variables.append(i)\n",
    "\n",
    "int_with_no_binary = [j for j in int_variables if j not in cat_binary_variables and j not in [\"SK_ID_CURR\", \"SK_ID_PREV\"]]\n",
    "\n",
    "num_variables = int_with_no_binary + float_variables\n",
    "\n",
    "print(\"Categorical variables (non-binary coded):\", cat_variables)\n",
    "print(\"Categorical variables (binary):\", cat_binary_variables)\n",
    "print(\"Numerical variables:\", num_variables)"
   ]
  },
  {
   "cell_type": "markdown",
   "metadata": {},
   "source": [
    "#### Cleaning all remaining variables"
   ]
  },
  {
   "cell_type": "markdown",
   "metadata": {},
   "source": [
    "Categorical variables"
   ]
  },
  {
   "cell_type": "code",
   "execution_count": null,
   "metadata": {},
   "outputs": [
    {
     "name": "stdout",
     "output_type": "stream",
     "text": [
      "NAME_CONTRACT_STATUS ['Active' 'Completed' 'Signed' 'Approved' 'Returned to the store' 'Demand'\n",
      " 'Canceled' nan 'Amortized debt']\n"
     ]
    }
   ],
   "source": [
    "for column in cat_variables:\n",
    "    print(column, posh_cash[column].unique())"
   ]
  },
  {
   "cell_type": "markdown",
   "metadata": {},
   "source": [
    "Numerical variables"
   ]
  },
  {
   "cell_type": "code",
   "execution_count": null,
   "metadata": {},
   "outputs": [
    {
     "data": {
      "text/html": [
       "<div>\n",
       "<style scoped>\n",
       "    .dataframe tbody tr th:only-of-type {\n",
       "        vertical-align: middle;\n",
       "    }\n",
       "\n",
       "    .dataframe tbody tr th {\n",
       "        vertical-align: top;\n",
       "    }\n",
       "\n",
       "    .dataframe thead th {\n",
       "        text-align: right;\n",
       "    }\n",
       "</style>\n",
       "<table border=\"1\" class=\"dataframe\">\n",
       "  <thead>\n",
       "    <tr style=\"text-align: right;\">\n",
       "      <th></th>\n",
       "      <th>MONTHS_BALANCE</th>\n",
       "      <th>SK_DPD</th>\n",
       "      <th>SK_DPD_DEF</th>\n",
       "      <th>CNT_INSTALMENT</th>\n",
       "      <th>CNT_INSTALMENT_FUTURE</th>\n",
       "    </tr>\n",
       "  </thead>\n",
       "  <tbody>\n",
       "    <tr>\n",
       "      <th>count</th>\n",
       "      <td>1.000136e+07</td>\n",
       "      <td>1.000136e+07</td>\n",
       "      <td>1.000136e+07</td>\n",
       "      <td>9.975287e+06</td>\n",
       "      <td>9.975271e+06</td>\n",
       "    </tr>\n",
       "    <tr>\n",
       "      <th>mean</th>\n",
       "      <td>-3.501259e+01</td>\n",
       "      <td>1.160693e+01</td>\n",
       "      <td>6.544684e-01</td>\n",
       "      <td>1.708965e+01</td>\n",
       "      <td>1.048384e+01</td>\n",
       "    </tr>\n",
       "    <tr>\n",
       "      <th>std</th>\n",
       "      <td>2.606657e+01</td>\n",
       "      <td>1.327140e+02</td>\n",
       "      <td>3.276249e+01</td>\n",
       "      <td>1.199506e+01</td>\n",
       "      <td>1.110906e+01</td>\n",
       "    </tr>\n",
       "    <tr>\n",
       "      <th>min</th>\n",
       "      <td>-9.600000e+01</td>\n",
       "      <td>0.000000e+00</td>\n",
       "      <td>0.000000e+00</td>\n",
       "      <td>1.000000e+00</td>\n",
       "      <td>0.000000e+00</td>\n",
       "    </tr>\n",
       "    <tr>\n",
       "      <th>25%</th>\n",
       "      <td>-5.400000e+01</td>\n",
       "      <td>0.000000e+00</td>\n",
       "      <td>0.000000e+00</td>\n",
       "      <td>1.000000e+01</td>\n",
       "      <td>3.000000e+00</td>\n",
       "    </tr>\n",
       "    <tr>\n",
       "      <th>50%</th>\n",
       "      <td>-2.800000e+01</td>\n",
       "      <td>0.000000e+00</td>\n",
       "      <td>0.000000e+00</td>\n",
       "      <td>1.200000e+01</td>\n",
       "      <td>7.000000e+00</td>\n",
       "    </tr>\n",
       "    <tr>\n",
       "      <th>75%</th>\n",
       "      <td>-1.300000e+01</td>\n",
       "      <td>0.000000e+00</td>\n",
       "      <td>0.000000e+00</td>\n",
       "      <td>2.400000e+01</td>\n",
       "      <td>1.400000e+01</td>\n",
       "    </tr>\n",
       "    <tr>\n",
       "      <th>max</th>\n",
       "      <td>-1.000000e+00</td>\n",
       "      <td>4.231000e+03</td>\n",
       "      <td>3.595000e+03</td>\n",
       "      <td>9.200000e+01</td>\n",
       "      <td>8.500000e+01</td>\n",
       "    </tr>\n",
       "  </tbody>\n",
       "</table>\n",
       "</div>"
      ],
      "text/plain": [
       "       MONTHS_BALANCE        SK_DPD    SK_DPD_DEF  CNT_INSTALMENT  \\\n",
       "count    1.000136e+07  1.000136e+07  1.000136e+07    9.975287e+06   \n",
       "mean    -3.501259e+01  1.160693e+01  6.544684e-01    1.708965e+01   \n",
       "std      2.606657e+01  1.327140e+02  3.276249e+01    1.199506e+01   \n",
       "min     -9.600000e+01  0.000000e+00  0.000000e+00    1.000000e+00   \n",
       "25%     -5.400000e+01  0.000000e+00  0.000000e+00    1.000000e+01   \n",
       "50%     -2.800000e+01  0.000000e+00  0.000000e+00    1.200000e+01   \n",
       "75%     -1.300000e+01  0.000000e+00  0.000000e+00    2.400000e+01   \n",
       "max     -1.000000e+00  4.231000e+03  3.595000e+03    9.200000e+01   \n",
       "\n",
       "       CNT_INSTALMENT_FUTURE  \n",
       "count           9.975271e+06  \n",
       "mean            1.048384e+01  \n",
       "std             1.110906e+01  \n",
       "min             0.000000e+00  \n",
       "25%             3.000000e+00  \n",
       "50%             7.000000e+00  \n",
       "75%             1.400000e+01  \n",
       "max             8.500000e+01  "
      ]
     },
     "metadata": {},
     "output_type": "display_data"
    }
   ],
   "source": [
    "posh_cash[num_variables].describe()"
   ]
  },
  {
   "cell_type": "markdown",
   "metadata": {},
   "source": [
    "Findings:\n",
    "\n",
    "- \"MONTHS_BALANCE\" column is not relevant for the model - Further on, when data is grouped by client, we will analyze average days past due, with and without tolerance (SK_DPD vs SK_DPD_DEF) and the average amount he owes, therefore, given that we will be using averages, it is irrelevant to see the months in which the data is relative to."
   ]
  },
  {
   "cell_type": "code",
   "execution_count": null,
   "metadata": {},
   "outputs": [],
   "source": [
    "posh_cash = posh_cash.drop('MONTHS_BALANCE', axis=1)\n",
    "num_variables.remove('MONTHS_BALANCE')"
   ]
  },
  {
   "cell_type": "markdown",
   "metadata": {},
   "source": [
    "#### Transformation Pipeline"
   ]
  },
  {
   "cell_type": "code",
   "execution_count": null,
   "metadata": {},
   "outputs": [],
   "source": [
    "# Create Pipeline for each type: Categorical and Numerical\n",
    "num_pipeline = Pipeline([\n",
    "        ('imputer', SimpleImputer(strategy=\"median\"))\n",
    "        ])\n",
    "\n",
    "cat_pipeline = Pipeline([\n",
    "        ('imputer', SimpleImputer(strategy=\"most_frequent\")),\n",
    "        ('cat_encoder', OneHotEncoder())\n",
    "        ])\n",
    "\n",
    "preprocess_pipeline = ColumnTransformer([\n",
    "        (\"num_pipeline\", num_pipeline, num_variables),\n",
    "        (\"cat_pipeline\", cat_pipeline, cat_variables)\n",
    "])\n",
    "\n",
    "# Fit and Transform the pipeline\n",
    "preprocess_pipeline.fit(posh_cash)\n",
    "preprocessed_posh = preprocess_pipeline.transform(posh_cash)\n",
    "\n",
    "# Get the name of all new categorical features after being preprocessed\n",
    "cat_feature_names = list(preprocess_pipeline.named_transformers_['cat_pipeline'].named_steps['cat_encoder'].get_feature_names_out(cat_variables))\n",
    "\n",
    "# Store the names of all features after the pipeline\n",
    "feature_names = num_variables + cat_feature_names\n",
    "\n",
    "# Create a dataframe with the features after the pipeline\n",
    "transformed_posh_df = pd.DataFrame(preprocessed_posh, columns=feature_names)\n",
    "transformed_posh_df = pd.concat([posh_cash[[\"SK_ID_PREV\", \"SK_ID_CURR\"]],transformed_posh_df], axis=1)"
   ]
  },
  {
   "cell_type": "markdown",
   "metadata": {},
   "source": [
    "#### Group the clients' data to merge with the applications table (one row per client)"
   ]
  },
  {
   "cell_type": "code",
   "execution_count": null,
   "metadata": {},
   "outputs": [],
   "source": [
    "# Create aggregation functions to be used on the groupby\n",
    "posh_cash = transformed_posh_df.groupby('SK_ID_CURR').agg(\n",
    "    {'SK_ID_PREV': 'count',\n",
    "    'SK_DPD': 'mean', \n",
    "    'SK_DPD_DEF': 'mean', \n",
    "    'CNT_INSTALMENT': 'mean',\n",
    "    'CNT_INSTALMENT_FUTURE': 'mean',\n",
    "    'NAME_CONTRACT_STATUS_Active': 'sum', \n",
    "    'NAME_CONTRACT_STATUS_Amortized debt': 'sum',\n",
    "    'NAME_CONTRACT_STATUS_Approved': 'sum', \n",
    "    'NAME_CONTRACT_STATUS_Canceled': 'sum',\n",
    "    'NAME_CONTRACT_STATUS_Completed': 'sum', \n",
    "    'NAME_CONTRACT_STATUS_Demand': 'sum',\n",
    "    'NAME_CONTRACT_STATUS_Returned to the store': 'sum',\n",
    "    'NAME_CONTRACT_STATUS_Signed': 'sum'\n",
    "    }).reset_index()\n",
    "\n",
    "# Rename SK_ID_PREV (it is no longer an id of previous applications, but the count of them)\n",
    "posh_cash.rename(columns = {'SK_ID_PREV':'COUNT_PREV'}, inplace = True)\n",
    "\n",
    "# Add a sufix \"_PC\" to identify features from POSH_CASH table \n",
    "posh_cash.columns = [\"SK_ID_CURR\"] + [col + '_PC' for col in posh_cash.columns if col not in [\"SK_ID_CURR\"]]"
   ]
  },
  {
   "attachments": {},
   "cell_type": "markdown",
   "metadata": {},
   "source": [
    "## Final Dataset and EDA"
   ]
  },
  {
   "attachments": {},
   "cell_type": "markdown",
   "metadata": {},
   "source": [
    "Merge all Datasets created in each of the sections before 1 by 1 to get a final data set to be used for the prediction phase"
   ]
  },
  {
   "cell_type": "code",
   "execution_count": 260,
   "metadata": {},
   "outputs": [],
   "source": [
    "# Merge all Datasets\n",
    "merge_1 = transformed_applications_df.merge(prev_applications, on=\"SK_ID_CURR\", how=\"left\")\n",
    "merge_2 = merge_1.merge(credit_card_balance_grouped, on=\"SK_ID_CURR\", how=\"left\")\n",
    "merge_3 = merge_2.merge(posh_cash, on=\"SK_ID_CURR\", how=\"left\")\n",
    "merge_4 = merge_3.merge(bureau_all, on=\"SK_ID_CURR\", how=\"left\")\n",
    "merge_5 = merge_4.merge(grouped_installment_payments, on=\"SK_ID_CURR\", how=\"left\")\n",
    "\n",
    "merge_5[\"COUNT_PREV\"] = merge_5[[\"COUNT_PREV_PA\", \"COUNT_PREV_CCB\", \"COUNT_PREV_PC\", \"COUNT_PREV_IP\"]].max(axis=1)\n",
    "merge_5.drop(columns=[\"COUNT_PREV_PA\", \"COUNT_PREV_CCB\", \"COUNT_PREV_PC\", \"COUNT_PREV_IP\"], axis=1, inplace=True)\n",
    "\n",
    "#Keeping only the columns that have a correlation with the TARGET higher than 0.01\n",
    "correlation = pd.DataFrame(abs(merge_5.corrwith(merge_5[\"TARGET\"])).sort_values(ascending=False))\n",
    "columns_keep = list(correlation[correlation[0] > 0.01].index)\n",
    "list_columns = [\"SK_ID_CURR\"]+columns_keep\n",
    "table = merge_5[list_columns]"
   ]
  },
  {
   "cell_type": "code",
   "execution_count": null,
   "metadata": {},
   "outputs": [],
   "source": [
    "#Adding columns for each column if the value is NaN given that, since the imputer was done previously to each table, a NaN value indicates that there is no information about these ID in the other tables (should not be considered as a normal NaN value)\n",
    "def preprocess_df(df):\n",
    "    new_df = df.copy()\n",
    "    if df.isnull().any().any():\n",
    "        for col in df.columns:\n",
    "            if df[col].isnull().values.any():\n",
    "                new_df[col + '_AVAILABLE'] = np.where(df[col].isnull(), 0, 1)\n",
    "                new_df[col] = new_df[col].fillna(0)\n",
    "        return new_df\n",
    "    return new_df\n",
    "\n",
    "with warnings.catch_warnings():\n",
    "    warnings.simplefilter(action='ignore', category=pd.errors.PerformanceWarning)\n",
    "    table = preprocess_df(table)"
   ]
  },
  {
   "attachments": {},
   "cell_type": "markdown",
   "metadata": {},
   "source": [
    "Split features into:\n",
    "- Categorical Binary\n",
    "- Numerical"
   ]
  },
  {
   "cell_type": "code",
   "execution_count": 242,
   "metadata": {},
   "outputs": [
    {
     "name": "stdout",
     "output_type": "stream",
     "text": [
      "['NAME_INCOME_TYPE_Working_APP', 'NAME_EDUCATION_TYPE_Higher education_APP', 'CODE_GENDER_M_APP', 'CODE_GENDER_F_APP', 'REG_CITY_NOT_WORK_CITY_APP', 'REGION_RATING_CLIENT_W_CITY_3_APP', 'NAME_EDUCATION_TYPE_Secondary / secondary special_APP', 'REGION_RATING_CLIENT_3_APP', 'NAME_INCOME_TYPE_Pensioner_APP', 'FLAG_EMP_PHONE_APP', 'REG_CITY_NOT_LIVE_CITY_APP', 'FLAG_DOCUMENT_3_APP', 'REGION_RATING_CLIENT_W_CITY_1_APP', 'REGION_RATING_CLIENT_1_APP', 'LIVE_CITY_NOT_WORK_CITY_APP', 'NAME_CONTRACT_TYPE_Revolving loans_APP', 'NAME_CONTRACT_TYPE_Cash loans_APP', 'OCCUPATION_TYPE_Drivers_APP', 'NAME_HOUSING_TYPE_With parents_APP', 'ORGANIZATION_TYPE_Self-employed_APP', 'FLAG_DOCUMENT_6_APP', 'NAME_HOUSING_TYPE_House / apartment_APP', 'FLAG_WORK_PHONE_APP', 'OCCUPATION_TYPE_Low-skill Laborers_APP', 'NAME_FAMILY_STATUS_Single / not married_APP', 'NAME_FAMILY_STATUS_Married_APP', 'FLAG_PHONE_APP', 'NAME_INCOME_TYPE_State servant_APP', 'NAME_FAMILY_STATUS_Civil marriage_APP', 'FLAG_OWN_CAR_APP', 'OCCUPATION_TYPE_Accountants_APP', 'OCCUPATION_TYPE_Core staff_APP', 'ORGANIZATION_TYPE_Construction_APP', 'NAME_HOUSING_TYPE_Rented apartment_APP', 'OCCUPATION_TYPE_Sales staff_APP', 'NAME_FAMILY_STATUS_Widow_APP', 'OCCUPATION_TYPE_Managers_APP', 'ORGANIZATION_TYPE_Transport: type 3_APP', 'ORGANIZATION_TYPE_Business Entity Type 3_APP', 'OCCUPATION_TYPE_Security staff_APP', 'OCCUPATION_TYPE_High skill tech staff_APP', 'ORGANIZATION_TYPE_School_APP', 'NAME_CONTRACT_STATUS_Sent proposal_CCB', 'OCCUPATION_TYPE_Cooking staff_APP', 'NAME_INCOME_TYPE_Commercial associate_APP', 'NAME_EDUCATION_TYPE_Lower secondary_APP', 'FLAG_DOCUMENT_16_APP', 'FLAG_DOCUMENT_13_APP', 'REGION_RATING_CLIENT_2_APP', 'ORGANIZATION_TYPE_Medicine_APP', 'ORGANIZATION_TYPE_Restaurant_APP', 'ORGANIZATION_TYPE_Military_APP', 'DAYS_CREDIT_BU_AVAILABLE', 'AMT_BALANCE_CCB_AVAILABLE', 'AMT_TOTAL_RECEIVABLE_CCB_AVAILABLE', 'CNT_DRAWINGS_CURRENT_CCB_AVAILABLE', 'DAYS_CREDIT_UPDATE_BU_AVAILABLE', 'CREDIT_ACTIVE_Active_BU_AVAILABLE', 'NAME_CONTRACT_STATUS_Refused_PA_AVAILABLE', 'AMT_DRAWINGS_CURRENT_CCB_AVAILABLE', 'CODE_REJECT_REASON_SCOFR_PA_AVAILABLE', 'PRODUCT_COMBINATION_Card Street_PA_AVAILABLE', 'CODE_REJECT_REASON_HC_PA_AVAILABLE', 'DAYS_DECISION_PA_AVAILABLE', 'NAME_CLIENT_TYPE_New_PA_AVAILABLE', 'NAME_CONTRACT_TYPE_Revolving loans_PA_AVAILABLE', 'DAYS_ENDDATE_FACT_BU_AVAILABLE', 'NAME_PORTFOLIO_Cards_PA_AVAILABLE', 'CODE_REJECT_REASON_LIMIT_PA_AVAILABLE', 'NAME_YIELD_GROUP_high_PA_AVAILABLE', 'PRODUCT_COMBINATION_Cash X-Sell: high_PA_AVAILABLE', 'HOUR_APPR_PROCESS_START_PA_AVAILABLE', 'NAME_CONTRACT_STATUS_Active_PC_AVAILABLE', 'AMT_ANNUITY_PA_AVAILABLE', 'CREDIT_TYPE_Credit card_BU_AVAILABLE', 'CHANNEL_TYPE_AP+ (Cash loan)_PA_AVAILABLE', 'CREDIT_TYPE_Microloan_BU_AVAILABLE', 'CNT_INSTALMENT_MATURE_CUM_CCB_AVAILABLE', 'PRODUCT_COMBINATION_Cash Street: high_PA_AVAILABLE', 'NAME_CONTRACT_STATUS_Approved_PA_AVAILABLE', 'PRODUCT_COMBINATION_POS industry with interest_PA_AVAILABLE', 'CREDIT_ACTIVE_Closed_BU_AVAILABLE', 'NAME_YIELD_GROUP_middle_PA_AVAILABLE', 'NAME_YIELD_GROUP_low_normal_PA_AVAILABLE', 'AMT_MISSING_PAYMENT_IP_AVAILABLE', 'CNT_INSTALMENT_FUTURE_PC_AVAILABLE', 'PRODUCT_COMBINATION_Cash Street: middle_PA_AVAILABLE', 'DAYS_CREDIT_ENDDATE_BU_AVAILABLE', 'NAME_YIELD_GROUP_low_action_PA_AVAILABLE', 'PRODUCT_COMBINATION_Cash_PA_AVAILABLE', 'CNT_PAYMENT_PA_AVAILABLE', 'NAME_CONTRACT_STATUS_Completed_CCB_AVAILABLE', 'CHANNEL_TYPE_Contact center_PA_AVAILABLE', 'PRODUCT_COMBINATION_Cash X-Sell: low_PA_AVAILABLE', 'COUNT_PREV_AVAILABLE', 'CREDIT_TYPE_Mortgage_BU_AVAILABLE', 'PRODUCT_COMBINATION_POS household without interest_PA_AVAILABLE', 'NAME_CONTRACT_TYPE_Cash loans_PA_AVAILABLE', 'AMT_PAYMENT_CURRENT_CCB_AVAILABLE', 'PRODUCT_COMBINATION_POS industry without interest_PA_AVAILABLE', 'AMT_APPLICATION_PA_AVAILABLE', 'INSTALLMENT_PAYED_IP_AVAILABLE', 'NAME_CONTRACT_TYPE_Consumer loans_PA_AVAILABLE', 'CREDIT_TYPE_Car loan_BU_AVAILABLE', 'AMT_CREDIT_SUM_BU_AVAILABLE', 'NAME_PAYMENT_TYPE_Cash through the bank_PA_AVAILABLE', 'NFLAG_LAST_APPL_IN_DAY_PA_AVAILABLE', 'NAME_CONTRACT_STATUS_Completed_PC_AVAILABLE', 'FLAG_LAST_APPL_PER_CONTRACT_PA_AVAILABLE', 'DAYS_PAYMENT_DELAY_IP_AVAILABLE', 'NAME_CONTRACT_STATUS_Canceled_PA_AVAILABLE', 'CHANNEL_TYPE_Credit and cash offices_PA_AVAILABLE', 'CHANNEL_TYPE_Stone_PA_AVAILABLE', 'AMT_GOODS_PRICE_PA_AVAILABLE', 'STATUS_C_BU_AVAILABLE', 'CNT_INSTALMENT_PC_AVAILABLE', 'STATUS_1_BU_AVAILABLE', 'PRODUCT_COMBINATION_Card X-Sell_PA_AVAILABLE', 'NAME_CLIENT_TYPE_Repeater_PA_AVAILABLE', 'AMT_CREDIT_PA_AVAILABLE', 'NAME_PORTFOLIO_Cash_PA_AVAILABLE', 'WEEKDAY_APPR_PROCESS_START_THURSDAY_PA_AVAILABLE', 'CODE_REJECT_REASON_SCO_PA_AVAILABLE', 'WEEKDAY_APPR_PROCESS_START_MONDAY_PA_AVAILABLE', 'PRODUCT_COMBINATION_POS mobile with interest_PA_AVAILABLE', 'NAME_CLIENT_TYPE_Refreshed_PA_AVAILABLE', 'PRODUCT_COMBINATION_Cash Street: low_PA_AVAILABLE', 'WEEKDAY_APPR_PROCESS_START_TUESDAY_PA_AVAILABLE', 'NAME_CONTRACT_STATUS_Sent proposal_CCB_AVAILABLE', 'WEEKDAY_APPR_PROCESS_START_FRIDAY_PA_AVAILABLE', 'CREDIT_ACTIVE_Sold_BU_AVAILABLE', 'PRODUCT_COMBINATION_POS household with interest_PA_AVAILABLE', 'CODE_REJECT_REASON_XAP_PA_AVAILABLE', 'WEEKDAY_APPR_PROCESS_START_WEDNESDAY_PA_AVAILABLE', 'AMT_CREDIT_SUM_LIMIT_BU_AVAILABLE', 'CREDIT_TYPE_Consumer credit_BU_AVAILABLE', 'STATUS_4_BU_AVAILABLE']\n",
      "['EXT_SOURCE_2_APP', 'EXT_SOURCE_3_APP', 'DAYS_CREDIT_BU', 'AMT_BALANCE_CCB', 'AMT_TOTAL_RECEIVABLE_CCB', 'CNT_DRAWINGS_CURRENT_CCB', 'DAYS_BIRTH_APP', 'DAYS_CREDIT_UPDATE_BU', 'CREDIT_ACTIVE_Active_BU', 'NAME_CONTRACT_STATUS_Refused_PA', 'DAYS_EMPLOYED_APP', 'AMT_DRAWINGS_CURRENT_CCB', 'CODE_REJECT_REASON_SCOFR_PA', 'DAYS_LAST_PHONE_CHANGE_APP', 'DAYS_ID_PUBLISH_APP', 'PRODUCT_COMBINATION_Card Street_PA', 'CODE_REJECT_REASON_HC_PA', 'DAYS_DECISION_PA', 'NAME_CLIENT_TYPE_New_PA', 'NAME_CONTRACT_TYPE_Revolving loans_PA', 'DAYS_ENDDATE_FACT_BU', 'DAYS_REGISTRATION_APP', 'NAME_PORTFOLIO_Cards_PA', 'CODE_REJECT_REASON_LIMIT_PA', 'AMT_GOODS_PRICE_APP', 'REGION_POPULATION_RELATIVE_APP', 'NAME_YIELD_GROUP_high_PA', 'PRODUCT_COMBINATION_Cash X-Sell: high_PA', 'HOUR_APPR_PROCESS_START_PA', 'NAME_CONTRACT_STATUS_Active_PC', 'AMT_ANNUITY_PA', 'CREDIT_TYPE_Credit card_BU', 'CHANNEL_TYPE_AP+ (Cash loan)_PA', 'CREDIT_TYPE_Microloan_BU', 'CNT_INSTALMENT_MATURE_CUM_CCB', 'DEF_30_CNT_SOCIAL_CIRCLE_APP', 'PRODUCT_COMBINATION_Cash Street: high_PA', 'NAME_CONTRACT_STATUS_Approved_PA', 'DEF_60_CNT_SOCIAL_CIRCLE_APP', 'PRODUCT_COMBINATION_POS industry with interest_PA', 'CREDIT_ACTIVE_Closed_BU', 'AMT_CREDIT_APP', 'NAME_YIELD_GROUP_middle_PA', 'NAME_YIELD_GROUP_low_normal_PA', 'AMT_MISSING_PAYMENT_IP', 'CNT_INSTALMENT_FUTURE_PC', 'PRODUCT_COMBINATION_Cash Street: middle_PA', 'DAYS_CREDIT_ENDDATE_BU', 'NAME_YIELD_GROUP_low_action_PA', 'PRODUCT_COMBINATION_Cash_PA', 'CNT_PAYMENT_PA', 'HOUR_APPR_PROCESS_START_APP', 'NAME_CONTRACT_STATUS_Completed_CCB', 'CHANNEL_TYPE_Contact center_PA', 'PRODUCT_COMBINATION_Cash X-Sell: low_PA', 'COUNT_PREV', 'CREDIT_TYPE_Mortgage_BU', 'PRODUCT_COMBINATION_POS household without interest_PA', 'NAME_CONTRACT_TYPE_Cash loans_PA', 'AMT_PAYMENT_CURRENT_CCB', 'PRODUCT_COMBINATION_POS industry without interest_PA', 'AMT_APPLICATION_PA', 'INSTALLMENT_PAYED_IP', 'NAME_CONTRACT_TYPE_Consumer loans_PA', 'CREDIT_TYPE_Car loan_BU', 'AMT_CREDIT_SUM_BU', 'NAME_PAYMENT_TYPE_Cash through the bank_PA', 'NFLAG_LAST_APPL_IN_DAY_PA', 'NAME_CONTRACT_STATUS_Completed_PC', 'FLAG_LAST_APPL_PER_CONTRACT_PA', 'CNT_CHILDREN_APP', 'DAYS_PAYMENT_DELAY_IP', 'NAME_CONTRACT_STATUS_Canceled_PA', 'CHANNEL_TYPE_Credit and cash offices_PA', 'CHANNEL_TYPE_Stone_PA', 'AMT_GOODS_PRICE_PA', 'STATUS_C_BU', 'CNT_INSTALMENT_PC', 'STATUS_1_BU', 'PRODUCT_COMBINATION_Card X-Sell_PA', 'NAME_CLIENT_TYPE_Repeater_PA', 'AMT_CREDIT_PA', 'NAME_PORTFOLIO_Cash_PA', 'WEEKDAY_APPR_PROCESS_START_THURSDAY_PA', 'AMT_REQ_CREDIT_BUREAU_MON_APP', 'CODE_REJECT_REASON_SCO_PA', 'WEEKDAY_APPR_PROCESS_START_MONDAY_PA', 'PRODUCT_COMBINATION_POS mobile with interest_PA', 'NAME_CLIENT_TYPE_Refreshed_PA', 'PRODUCT_COMBINATION_Cash Street: low_PA', 'AMT_ANNUITY_APP', 'WEEKDAY_APPR_PROCESS_START_TUESDAY_PA', 'WEEKDAY_APPR_PROCESS_START_FRIDAY_PA', 'AMT_REQ_CREDIT_BUREAU_YEAR_APP', 'CREDIT_ACTIVE_Sold_BU', 'PRODUCT_COMBINATION_POS household with interest_PA', 'CODE_REJECT_REASON_XAP_PA', 'WEEKDAY_APPR_PROCESS_START_WEDNESDAY_PA', 'AMT_CREDIT_SUM_LIMIT_BU', 'CREDIT_TYPE_Consumer credit_BU', 'STATUS_4_BU']\n"
     ]
    }
   ],
   "source": [
    "variables_type = pd.DataFrame(table.dtypes)\n",
    "\n",
    "int_variables = list(variables_type[variables_type[0] == \"int64\"].index)\n",
    "\n",
    "float_variables = list(variables_type[variables_type[0] == \"float64\"].index)\n",
    "\n",
    "cat_binary_variables = []\n",
    "for i in table:\n",
    "    if ((list(table[i].unique()) == [0,1]) or (list(table[i].unique()) == [1,0]) or (list(table[i].unique()) == [1.0,0.0]) or (list(table[i].unique()) == [0.0,1.0])) and i != \"TARGET\":\n",
    "        cat_binary_variables.append(i)\n",
    "\n",
    "int_with_no_binary = [j for j in int_variables if j not in cat_binary_variables and j not in [\"SK_ID_CURR\",\"TARGET\"]]\n",
    "\n",
    "float_with_no_binary = [i for i in float_variables if i not in cat_binary_variables and i not in [\"SK_ID_CURR\",\"TARGET\"]]\n",
    "\n",
    "num_variables = int_with_no_binary + float_with_no_binary\n",
    "\n",
    "print(cat_binary_variables)\n",
    "print(num_variables)"
   ]
  },
  {
   "attachments": {},
   "cell_type": "markdown",
   "metadata": {},
   "source": [
    "Split data set into 20% test and 80% training"
   ]
  },
  {
   "cell_type": "code",
   "execution_count": 243,
   "metadata": {},
   "outputs": [],
   "source": [
    "X = table.drop([\"SK_ID_CURR\", \"TARGET\"], axis=1)\n",
    "y = table[\"TARGET\"].apply(lambda x: 0 if x == 1 else 1)\n",
    "X_train, X_test, y_train, y_test = train_test_split(X, y, test_size=0.2, random_state=42)"
   ]
  },
  {
   "attachments": {},
   "cell_type": "markdown",
   "metadata": {},
   "source": [
    "Create the pipeline, fit and transform"
   ]
  },
  {
   "cell_type": "code",
   "execution_count": 244,
   "metadata": {},
   "outputs": [],
   "source": [
    "num_pipeline = Pipeline([(\"std_scaler\", StandardScaler())])\n",
    "num_preprocessor = ColumnTransformer([('num_pipeline', num_pipeline, num_variables)])\n",
    "\n",
    "X_train_num_preprocessed = num_preprocessor.fit_transform(X_train)\n",
    "X_test_num_preprocessed = num_preprocessor.transform(X_test)"
   ]
  },
  {
   "attachments": {},
   "cell_type": "markdown",
   "metadata": {},
   "source": [
    "Create a DataFrameSelector Class to be used in the pipeline"
   ]
  },
  {
   "cell_type": "code",
   "execution_count": 245,
   "metadata": {},
   "outputs": [],
   "source": [
    "class DataFrameSelector(BaseEstimator, TransformerMixin):\n",
    "    \n",
    "    def __init__(self, attribute_names, df=X_train):\n",
    "        self.attribute_names = attribute_names\n",
    "        self.df = df\n",
    "    \n",
    "    def fit(self, y=None):\n",
    "        return self\n",
    "    \n",
    "    def transform(self, df):\n",
    "        return self.df[self.attribute_names].values\n",
    "    \n",
    "    def get_feature_names(self):\n",
    "        return self.attribute_name"
   ]
  },
  {
   "attachments": {},
   "cell_type": "markdown",
   "metadata": {},
   "source": [
    "Create more pipelines, fit and transform them"
   ]
  },
  {
   "cell_type": "code",
   "execution_count": 246,
   "metadata": {},
   "outputs": [],
   "source": [
    "binary_pipeline_train = Pipeline([(\"selector\", DataFrameSelector(cat_binary_variables, X_train))])\n",
    "binary_preprocessor_train = ColumnTransformer([('cat_binary_pipeline', binary_pipeline_train, cat_binary_variables)])\n",
    "\n",
    "X_train_bin_preprocessed = binary_preprocessor_train.fit_transform(X_train)\n",
    "\n",
    "binary_pipeline_test = Pipeline([(\"selector\", DataFrameSelector(cat_binary_variables, X_test))])\n",
    "binary_preprocessor_test = ColumnTransformer([('cat_binary_pipeline', binary_pipeline_test, cat_binary_variables)])\n",
    "\n",
    "X_test_bin_preprocessed = binary_preprocessor_test.fit_transform(X_test)"
   ]
  },
  {
   "cell_type": "code",
   "execution_count": 247,
   "metadata": {},
   "outputs": [],
   "source": [
    "#Merge train numericals and binaries preprocesseds\n",
    "X_train_preprocessed = np.c_[X_train_num_preprocessed, X_train_bin_preprocessed]\n",
    "\n",
    "#Merge test numericals and binaries preprocesseds\n",
    "X_test_preprocessed = np.c_[X_test_num_preprocessed, X_test_bin_preprocessed]"
   ]
  },
  {
   "attachments": {},
   "cell_type": "markdown",
   "metadata": {},
   "source": [
    "Get the final dataframe after the pipelines"
   ]
  },
  {
   "cell_type": "code",
   "execution_count": 248,
   "metadata": {},
   "outputs": [
    {
     "data": {
      "text/html": [
       "<div>\n",
       "<style scoped>\n",
       "    .dataframe tbody tr th:only-of-type {\n",
       "        vertical-align: middle;\n",
       "    }\n",
       "\n",
       "    .dataframe tbody tr th {\n",
       "        vertical-align: top;\n",
       "    }\n",
       "\n",
       "    .dataframe thead th {\n",
       "        text-align: right;\n",
       "    }\n",
       "</style>\n",
       "<table border=\"1\" class=\"dataframe\">\n",
       "  <thead>\n",
       "    <tr style=\"text-align: right;\">\n",
       "      <th></th>\n",
       "      <th>EXT_SOURCE_2_APP</th>\n",
       "      <th>EXT_SOURCE_3_APP</th>\n",
       "      <th>DAYS_CREDIT_BU</th>\n",
       "      <th>AMT_BALANCE_CCB</th>\n",
       "      <th>AMT_TOTAL_RECEIVABLE_CCB</th>\n",
       "      <th>CNT_DRAWINGS_CURRENT_CCB</th>\n",
       "      <th>DAYS_BIRTH_APP</th>\n",
       "      <th>DAYS_CREDIT_UPDATE_BU</th>\n",
       "      <th>CREDIT_ACTIVE_Active_BU</th>\n",
       "      <th>NAME_CONTRACT_STATUS_Refused_PA</th>\n",
       "      <th>...</th>\n",
       "      <th>WEEKDAY_APPR_PROCESS_START_TUESDAY_PA_AVAILABLE</th>\n",
       "      <th>NAME_CONTRACT_STATUS_Sent proposal_CCB_AVAILABLE</th>\n",
       "      <th>WEEKDAY_APPR_PROCESS_START_FRIDAY_PA_AVAILABLE</th>\n",
       "      <th>CREDIT_ACTIVE_Sold_BU_AVAILABLE</th>\n",
       "      <th>PRODUCT_COMBINATION_POS household with interest_PA_AVAILABLE</th>\n",
       "      <th>CODE_REJECT_REASON_XAP_PA_AVAILABLE</th>\n",
       "      <th>WEEKDAY_APPR_PROCESS_START_WEDNESDAY_PA_AVAILABLE</th>\n",
       "      <th>AMT_CREDIT_SUM_LIMIT_BU_AVAILABLE</th>\n",
       "      <th>CREDIT_TYPE_Consumer credit_BU_AVAILABLE</th>\n",
       "      <th>STATUS_4_BU_AVAILABLE</th>\n",
       "    </tr>\n",
       "  </thead>\n",
       "  <tbody>\n",
       "    <tr>\n",
       "      <th>0</th>\n",
       "      <td>-0.816960</td>\n",
       "      <td>0.274694</td>\n",
       "      <td>0.781601</td>\n",
       "      <td>1.038222</td>\n",
       "      <td>1.047846</td>\n",
       "      <td>-0.103786</td>\n",
       "      <td>1.676136</td>\n",
       "      <td>0.426087</td>\n",
       "      <td>1.238841</td>\n",
       "      <td>-0.450319</td>\n",
       "      <td>...</td>\n",
       "      <td>1.0</td>\n",
       "      <td>1.0</td>\n",
       "      <td>1.0</td>\n",
       "      <td>1.0</td>\n",
       "      <td>1.0</td>\n",
       "      <td>1.0</td>\n",
       "      <td>1.0</td>\n",
       "      <td>1.0</td>\n",
       "      <td>1.0</td>\n",
       "      <td>1.0</td>\n",
       "    </tr>\n",
       "    <tr>\n",
       "      <th>1</th>\n",
       "      <td>-0.126744</td>\n",
       "      <td>0.455694</td>\n",
       "      <td>0.731792</td>\n",
       "      <td>-0.305360</td>\n",
       "      <td>-0.305127</td>\n",
       "      <td>-0.209717</td>\n",
       "      <td>-1.173499</td>\n",
       "      <td>0.175085</td>\n",
       "      <td>1.238841</td>\n",
       "      <td>0.114535</td>\n",
       "      <td>...</td>\n",
       "      <td>1.0</td>\n",
       "      <td>0.0</td>\n",
       "      <td>1.0</td>\n",
       "      <td>1.0</td>\n",
       "      <td>1.0</td>\n",
       "      <td>1.0</td>\n",
       "      <td>1.0</td>\n",
       "      <td>1.0</td>\n",
       "      <td>1.0</td>\n",
       "      <td>1.0</td>\n",
       "    </tr>\n",
       "    <tr>\n",
       "      <th>2</th>\n",
       "      <td>0.675401</td>\n",
       "      <td>1.089622</td>\n",
       "      <td>0.630922</td>\n",
       "      <td>-0.305360</td>\n",
       "      <td>-0.305127</td>\n",
       "      <td>-0.209717</td>\n",
       "      <td>1.644952</td>\n",
       "      <td>0.736387</td>\n",
       "      <td>-0.976672</td>\n",
       "      <td>0.679390</td>\n",
       "      <td>...</td>\n",
       "      <td>1.0</td>\n",
       "      <td>0.0</td>\n",
       "      <td>1.0</td>\n",
       "      <td>1.0</td>\n",
       "      <td>1.0</td>\n",
       "      <td>1.0</td>\n",
       "      <td>1.0</td>\n",
       "      <td>1.0</td>\n",
       "      <td>1.0</td>\n",
       "      <td>1.0</td>\n",
       "    </tr>\n",
       "    <tr>\n",
       "      <th>3</th>\n",
       "      <td>-0.461405</td>\n",
       "      <td>-0.053583</td>\n",
       "      <td>-0.180263</td>\n",
       "      <td>-0.305360</td>\n",
       "      <td>-0.305127</td>\n",
       "      <td>-0.209717</td>\n",
       "      <td>-1.223484</td>\n",
       "      <td>0.102225</td>\n",
       "      <td>0.684963</td>\n",
       "      <td>1.244245</td>\n",
       "      <td>...</td>\n",
       "      <td>1.0</td>\n",
       "      <td>0.0</td>\n",
       "      <td>1.0</td>\n",
       "      <td>1.0</td>\n",
       "      <td>1.0</td>\n",
       "      <td>1.0</td>\n",
       "      <td>1.0</td>\n",
       "      <td>1.0</td>\n",
       "      <td>1.0</td>\n",
       "      <td>1.0</td>\n",
       "    </tr>\n",
       "    <tr>\n",
       "      <th>4</th>\n",
       "      <td>-0.360440</td>\n",
       "      <td>0.070105</td>\n",
       "      <td>-0.035208</td>\n",
       "      <td>0.127002</td>\n",
       "      <td>0.129468</td>\n",
       "      <td>-0.188889</td>\n",
       "      <td>-0.055244</td>\n",
       "      <td>0.237575</td>\n",
       "      <td>1.238841</td>\n",
       "      <td>-0.450319</td>\n",
       "      <td>...</td>\n",
       "      <td>1.0</td>\n",
       "      <td>1.0</td>\n",
       "      <td>1.0</td>\n",
       "      <td>1.0</td>\n",
       "      <td>1.0</td>\n",
       "      <td>1.0</td>\n",
       "      <td>1.0</td>\n",
       "      <td>1.0</td>\n",
       "      <td>1.0</td>\n",
       "      <td>1.0</td>\n",
       "    </tr>\n",
       "    <tr>\n",
       "      <th>...</th>\n",
       "      <td>...</td>\n",
       "      <td>...</td>\n",
       "      <td>...</td>\n",
       "      <td>...</td>\n",
       "      <td>...</td>\n",
       "      <td>...</td>\n",
       "      <td>...</td>\n",
       "      <td>...</td>\n",
       "      <td>...</td>\n",
       "      <td>...</td>\n",
       "      <td>...</td>\n",
       "      <td>...</td>\n",
       "      <td>...</td>\n",
       "      <td>...</td>\n",
       "      <td>...</td>\n",
       "      <td>...</td>\n",
       "      <td>...</td>\n",
       "      <td>...</td>\n",
       "      <td>...</td>\n",
       "      <td>...</td>\n",
       "      <td>...</td>\n",
       "    </tr>\n",
       "    <tr>\n",
       "      <th>246003</th>\n",
       "      <td>0.538003</td>\n",
       "      <td>0.111223</td>\n",
       "      <td>-1.439801</td>\n",
       "      <td>-0.305360</td>\n",
       "      <td>-0.305127</td>\n",
       "      <td>-0.209717</td>\n",
       "      <td>-0.357221</td>\n",
       "      <td>-1.016373</td>\n",
       "      <td>-0.976672</td>\n",
       "      <td>-0.450319</td>\n",
       "      <td>...</td>\n",
       "      <td>1.0</td>\n",
       "      <td>0.0</td>\n",
       "      <td>1.0</td>\n",
       "      <td>0.0</td>\n",
       "      <td>1.0</td>\n",
       "      <td>1.0</td>\n",
       "      <td>1.0</td>\n",
       "      <td>0.0</td>\n",
       "      <td>0.0</td>\n",
       "      <td>0.0</td>\n",
       "    </tr>\n",
       "    <tr>\n",
       "      <th>246004</th>\n",
       "      <td>1.089278</td>\n",
       "      <td>-0.831101</td>\n",
       "      <td>0.069317</td>\n",
       "      <td>-0.305360</td>\n",
       "      <td>-0.305127</td>\n",
       "      <td>-0.209717</td>\n",
       "      <td>-0.125407</td>\n",
       "      <td>0.234862</td>\n",
       "      <td>0.131085</td>\n",
       "      <td>0.679390</td>\n",
       "      <td>...</td>\n",
       "      <td>1.0</td>\n",
       "      <td>0.0</td>\n",
       "      <td>1.0</td>\n",
       "      <td>1.0</td>\n",
       "      <td>1.0</td>\n",
       "      <td>1.0</td>\n",
       "      <td>1.0</td>\n",
       "      <td>1.0</td>\n",
       "      <td>1.0</td>\n",
       "      <td>1.0</td>\n",
       "    </tr>\n",
       "    <tr>\n",
       "      <th>246005</th>\n",
       "      <td>0.492143</td>\n",
       "      <td>0.223817</td>\n",
       "      <td>0.342750</td>\n",
       "      <td>-0.305360</td>\n",
       "      <td>-0.305127</td>\n",
       "      <td>-0.209717</td>\n",
       "      <td>-0.396659</td>\n",
       "      <td>0.226495</td>\n",
       "      <td>1.238841</td>\n",
       "      <td>-0.450319</td>\n",
       "      <td>...</td>\n",
       "      <td>1.0</td>\n",
       "      <td>1.0</td>\n",
       "      <td>1.0</td>\n",
       "      <td>1.0</td>\n",
       "      <td>1.0</td>\n",
       "      <td>1.0</td>\n",
       "      <td>1.0</td>\n",
       "      <td>1.0</td>\n",
       "      <td>1.0</td>\n",
       "      <td>1.0</td>\n",
       "    </tr>\n",
       "    <tr>\n",
       "      <th>246006</th>\n",
       "      <td>0.437299</td>\n",
       "      <td>-1.467508</td>\n",
       "      <td>-0.339475</td>\n",
       "      <td>0.646980</td>\n",
       "      <td>0.649548</td>\n",
       "      <td>1.000922</td>\n",
       "      <td>-0.764213</td>\n",
       "      <td>-0.967007</td>\n",
       "      <td>1.238841</td>\n",
       "      <td>-0.450319</td>\n",
       "      <td>...</td>\n",
       "      <td>1.0</td>\n",
       "      <td>1.0</td>\n",
       "      <td>1.0</td>\n",
       "      <td>1.0</td>\n",
       "      <td>1.0</td>\n",
       "      <td>1.0</td>\n",
       "      <td>1.0</td>\n",
       "      <td>1.0</td>\n",
       "      <td>1.0</td>\n",
       "      <td>1.0</td>\n",
       "    </tr>\n",
       "    <tr>\n",
       "      <th>246007</th>\n",
       "      <td>-0.555873</td>\n",
       "      <td>-1.378599</td>\n",
       "      <td>-0.761842</td>\n",
       "      <td>-0.305360</td>\n",
       "      <td>-0.305127</td>\n",
       "      <td>-0.209717</td>\n",
       "      <td>-0.656446</td>\n",
       "      <td>-0.775511</td>\n",
       "      <td>-0.976672</td>\n",
       "      <td>-0.450319</td>\n",
       "      <td>...</td>\n",
       "      <td>1.0</td>\n",
       "      <td>0.0</td>\n",
       "      <td>1.0</td>\n",
       "      <td>1.0</td>\n",
       "      <td>1.0</td>\n",
       "      <td>1.0</td>\n",
       "      <td>1.0</td>\n",
       "      <td>1.0</td>\n",
       "      <td>1.0</td>\n",
       "      <td>1.0</td>\n",
       "    </tr>\n",
       "  </tbody>\n",
       "</table>\n",
       "<p>246008 rows × 238 columns</p>\n",
       "</div>"
      ],
      "text/plain": [
       "        EXT_SOURCE_2_APP  EXT_SOURCE_3_APP  DAYS_CREDIT_BU  AMT_BALANCE_CCB  \\\n",
       "0              -0.816960          0.274694        0.781601         1.038222   \n",
       "1              -0.126744          0.455694        0.731792        -0.305360   \n",
       "2               0.675401          1.089622        0.630922        -0.305360   \n",
       "3              -0.461405         -0.053583       -0.180263        -0.305360   \n",
       "4              -0.360440          0.070105       -0.035208         0.127002   \n",
       "...                  ...               ...             ...              ...   \n",
       "246003          0.538003          0.111223       -1.439801        -0.305360   \n",
       "246004          1.089278         -0.831101        0.069317        -0.305360   \n",
       "246005          0.492143          0.223817        0.342750        -0.305360   \n",
       "246006          0.437299         -1.467508       -0.339475         0.646980   \n",
       "246007         -0.555873         -1.378599       -0.761842        -0.305360   \n",
       "\n",
       "        AMT_TOTAL_RECEIVABLE_CCB  CNT_DRAWINGS_CURRENT_CCB  DAYS_BIRTH_APP  \\\n",
       "0                       1.047846                 -0.103786        1.676136   \n",
       "1                      -0.305127                 -0.209717       -1.173499   \n",
       "2                      -0.305127                 -0.209717        1.644952   \n",
       "3                      -0.305127                 -0.209717       -1.223484   \n",
       "4                       0.129468                 -0.188889       -0.055244   \n",
       "...                          ...                       ...             ...   \n",
       "246003                 -0.305127                 -0.209717       -0.357221   \n",
       "246004                 -0.305127                 -0.209717       -0.125407   \n",
       "246005                 -0.305127                 -0.209717       -0.396659   \n",
       "246006                  0.649548                  1.000922       -0.764213   \n",
       "246007                 -0.305127                 -0.209717       -0.656446   \n",
       "\n",
       "        DAYS_CREDIT_UPDATE_BU  CREDIT_ACTIVE_Active_BU  \\\n",
       "0                    0.426087                 1.238841   \n",
       "1                    0.175085                 1.238841   \n",
       "2                    0.736387                -0.976672   \n",
       "3                    0.102225                 0.684963   \n",
       "4                    0.237575                 1.238841   \n",
       "...                       ...                      ...   \n",
       "246003              -1.016373                -0.976672   \n",
       "246004               0.234862                 0.131085   \n",
       "246005               0.226495                 1.238841   \n",
       "246006              -0.967007                 1.238841   \n",
       "246007              -0.775511                -0.976672   \n",
       "\n",
       "        NAME_CONTRACT_STATUS_Refused_PA  ...  \\\n",
       "0                             -0.450319  ...   \n",
       "1                              0.114535  ...   \n",
       "2                              0.679390  ...   \n",
       "3                              1.244245  ...   \n",
       "4                             -0.450319  ...   \n",
       "...                                 ...  ...   \n",
       "246003                        -0.450319  ...   \n",
       "246004                         0.679390  ...   \n",
       "246005                        -0.450319  ...   \n",
       "246006                        -0.450319  ...   \n",
       "246007                        -0.450319  ...   \n",
       "\n",
       "        WEEKDAY_APPR_PROCESS_START_TUESDAY_PA_AVAILABLE  \\\n",
       "0                                                   1.0   \n",
       "1                                                   1.0   \n",
       "2                                                   1.0   \n",
       "3                                                   1.0   \n",
       "4                                                   1.0   \n",
       "...                                                 ...   \n",
       "246003                                              1.0   \n",
       "246004                                              1.0   \n",
       "246005                                              1.0   \n",
       "246006                                              1.0   \n",
       "246007                                              1.0   \n",
       "\n",
       "        NAME_CONTRACT_STATUS_Sent proposal_CCB_AVAILABLE  \\\n",
       "0                                                    1.0   \n",
       "1                                                    0.0   \n",
       "2                                                    0.0   \n",
       "3                                                    0.0   \n",
       "4                                                    1.0   \n",
       "...                                                  ...   \n",
       "246003                                               0.0   \n",
       "246004                                               0.0   \n",
       "246005                                               1.0   \n",
       "246006                                               1.0   \n",
       "246007                                               0.0   \n",
       "\n",
       "        WEEKDAY_APPR_PROCESS_START_FRIDAY_PA_AVAILABLE  \\\n",
       "0                                                  1.0   \n",
       "1                                                  1.0   \n",
       "2                                                  1.0   \n",
       "3                                                  1.0   \n",
       "4                                                  1.0   \n",
       "...                                                ...   \n",
       "246003                                             1.0   \n",
       "246004                                             1.0   \n",
       "246005                                             1.0   \n",
       "246006                                             1.0   \n",
       "246007                                             1.0   \n",
       "\n",
       "        CREDIT_ACTIVE_Sold_BU_AVAILABLE  \\\n",
       "0                                   1.0   \n",
       "1                                   1.0   \n",
       "2                                   1.0   \n",
       "3                                   1.0   \n",
       "4                                   1.0   \n",
       "...                                 ...   \n",
       "246003                              0.0   \n",
       "246004                              1.0   \n",
       "246005                              1.0   \n",
       "246006                              1.0   \n",
       "246007                              1.0   \n",
       "\n",
       "        PRODUCT_COMBINATION_POS household with interest_PA_AVAILABLE  \\\n",
       "0                                                     1.0              \n",
       "1                                                     1.0              \n",
       "2                                                     1.0              \n",
       "3                                                     1.0              \n",
       "4                                                     1.0              \n",
       "...                                                   ...              \n",
       "246003                                                1.0              \n",
       "246004                                                1.0              \n",
       "246005                                                1.0              \n",
       "246006                                                1.0              \n",
       "246007                                                1.0              \n",
       "\n",
       "        CODE_REJECT_REASON_XAP_PA_AVAILABLE  \\\n",
       "0                                       1.0   \n",
       "1                                       1.0   \n",
       "2                                       1.0   \n",
       "3                                       1.0   \n",
       "4                                       1.0   \n",
       "...                                     ...   \n",
       "246003                                  1.0   \n",
       "246004                                  1.0   \n",
       "246005                                  1.0   \n",
       "246006                                  1.0   \n",
       "246007                                  1.0   \n",
       "\n",
       "        WEEKDAY_APPR_PROCESS_START_WEDNESDAY_PA_AVAILABLE  \\\n",
       "0                                                     1.0   \n",
       "1                                                     1.0   \n",
       "2                                                     1.0   \n",
       "3                                                     1.0   \n",
       "4                                                     1.0   \n",
       "...                                                   ...   \n",
       "246003                                                1.0   \n",
       "246004                                                1.0   \n",
       "246005                                                1.0   \n",
       "246006                                                1.0   \n",
       "246007                                                1.0   \n",
       "\n",
       "        AMT_CREDIT_SUM_LIMIT_BU_AVAILABLE  \\\n",
       "0                                     1.0   \n",
       "1                                     1.0   \n",
       "2                                     1.0   \n",
       "3                                     1.0   \n",
       "4                                     1.0   \n",
       "...                                   ...   \n",
       "246003                                0.0   \n",
       "246004                                1.0   \n",
       "246005                                1.0   \n",
       "246006                                1.0   \n",
       "246007                                1.0   \n",
       "\n",
       "        CREDIT_TYPE_Consumer credit_BU_AVAILABLE  STATUS_4_BU_AVAILABLE  \n",
       "0                                            1.0                    1.0  \n",
       "1                                            1.0                    1.0  \n",
       "2                                            1.0                    1.0  \n",
       "3                                            1.0                    1.0  \n",
       "4                                            1.0                    1.0  \n",
       "...                                          ...                    ...  \n",
       "246003                                       0.0                    0.0  \n",
       "246004                                       1.0                    1.0  \n",
       "246005                                       1.0                    1.0  \n",
       "246006                                       1.0                    1.0  \n",
       "246007                                       1.0                    1.0  \n",
       "\n",
       "[246008 rows x 238 columns]"
      ]
     },
     "execution_count": 248,
     "metadata": {},
     "output_type": "execute_result"
    }
   ],
   "source": [
    "feature_names = num_variables + cat_binary_variables\n",
    "X_train_finaldf = pd.DataFrame(X_train_preprocessed, columns=feature_names)\n",
    "X_train_finaldf"
   ]
  },
  {
   "attachments": {},
   "cell_type": "markdown",
   "metadata": {},
   "source": [
    "Perform a RandomForestClassifier using grid_search to help us finding the best hyperparameters for the n_estimators and max_depth using the precision as the decicion score"
   ]
  },
  {
   "cell_type": "code",
   "execution_count": 249,
   "metadata": {},
   "outputs": [
    {
     "name": "stdout",
     "output_type": "stream",
     "text": [
      "Best hyperparameters: {'max_depth': 20, 'n_estimators': 10}\n",
      "Precision: 0.9203679840801213\n",
      "Accuracy: 0.9185242996276605\n",
      "Recall: 0.9977189942355978\n"
     ]
    }
   ],
   "source": [
    "# create a random forest classifier\n",
    "rfc = RandomForestClassifier()\n",
    "\n",
    "# define the hyperparameter grid\n",
    "param_grid = {\n",
    "    'n_estimators': [10, 15, 20],\n",
    "    'max_depth': [10, 15, 20],\n",
    "}\n",
    "\n",
    "# perform grid search cross-validation\n",
    "grid_search = GridSearchCV(rfc, param_grid=param_grid, cv=5, scoring='precision')\n",
    "grid_search.fit(X_train_preprocessed, y_train)\n",
    "\n",
    "# print the best hyperparameters and corresponding accuracy score\n",
    "print('Best hyperparameters:', grid_search.best_params_)\n",
    "y_pred = grid_search.predict(X_test_preprocessed)\n",
    "print('Precision:', precision_score(y_test, y_pred))\n",
    "print('Accuracy:', accuracy_score(y_test, y_pred))\n",
    "print('Recall:', recall_score(y_test, y_pred))"
   ]
  },
  {
   "attachments": {},
   "cell_type": "markdown",
   "metadata": {},
   "source": [
    "Create a Confusion Matrix"
   ]
  },
  {
   "cell_type": "code",
   "execution_count": 252,
   "metadata": {},
   "outputs": [
    {
     "data": {
      "image/png": "[encoded data removed]",
      "text/plain": [
       "<Figure size 432x288 with 2 Axes>"
      ]
     },
     "metadata": {
      "needs_background": "light"
     },
     "output_type": "display_data"
    }
   ],
   "source": [
    "confusion = confusion_matrix(y_test, y_pred)\n",
    "\n",
    "TN = confusion[0][0]\n",
    "FP = confusion[0][1]\n",
    "FN = confusion[1][0]\n",
    "TP = confusion[1][1]\n",
    "\n",
    "sns.heatmap(confusion, annot=True, cmap='Blues', fmt='g')\n",
    "\n",
    "plt.title(\"Confusion Matrix\")\n",
    "plt.xlabel('Predicted labels')\n",
    "plt.ylabel('True labels')\n",
    "plt.show()"
   ]
  }
 ],
 "metadata": {
  "kernelspec": {
   "display_name": "base",
   "language": "python",
   "name": "python3"
  },
  "language_info": {
   "codemirror_mode": {
    "name": "ipython",
    "version": 3
   },
   "file_extension": ".py",
   "mimetype": "text/x-python",
   "name": "python",
   "nbconvert_exporter": "python",
   "pygments_lexer": "ipython3",
   "version": "3.9.12"
  },
  "orig_nbformat": 4
 },
 "nbformat": 4,
 "nbformat_minor": 2
}
